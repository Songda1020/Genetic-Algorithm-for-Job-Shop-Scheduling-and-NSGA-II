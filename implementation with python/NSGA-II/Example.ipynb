{
 "cells": [
  {
   "cell_type": "code",
   "execution_count": 33,
   "metadata": {
    "tags": []
   },
   "outputs": [
    {
     "name": "stdin",
     "output_type": "stream",
     "text": [
      "Please input the size of population:  \n",
      "Please input the size of Crossover Rate:  \n",
      "Please input the size of Mutation Rate:  \n",
      "Please input the mutation selection rate:  \n",
      "Please input number of iteration:  \n"
     ]
    },
    {
     "name": "stdout",
     "output_type": "stream",
     "text": [
      "[[1, 5, 3, 8, 6, 8, 3, 6, 8, 0, 0, 7, 4, 3, 8, 5, 5, 0, 7, 3, 4, 9, 1, 0, 3, 0, 9, 9, 6, 9, 8, 0, 3, 5, 6, 9, 7, 1, 7, 3, 4, 0, 7, 8, 5, 4, 1, 2, 5, 8, 4, 0, 9, 0, 6, 2, 2, 4, 4, 9, 6, 2, 7, 5, 1, 7, 1, 9, 8, 7, 2, 6, 5, 5, 4, 3, 1, 7, 6, 4, 2, 2, 5, 1, 2, 8, 1, 0, 4, 2, 6, 9, 3, 8, 3, 7, 6, 9, 1, 2], [5, 1, 3, 8, 6, 8, 3, 6, 8, 0, 0, 7, 4, 3, 8, 5, 5, 0, 7, 3, 4, 9, 1, 0, 3, 0, 9, 9, 6, 9, 8, 0, 3, 5, 6, 9, 7, 1, 2, 3, 4, 0, 7, 8, 5, 4, 1, 2, 5, 8, 4, 0, 9, 0, 6, 2, 7, 4, 4, 9, 6, 2, 7, 5, 1, 7, 1, 9, 8, 7, 2, 6, 5, 5, 4, 3, 1, 7, 6, 4, 2, 2, 5, 1, 2, 8, 1, 0, 4, 2, 6, 9, 3, 8, 3, 7, 6, 9, 1, 2], [5, 2, 7, 1, 1, 1, 3, 3, 3, 5, 4, 3, 4, 3, 8, 2, 5, 1, 7, 3, 1, 0, 4, 8, 3, 7, 6, 1, 7, 9, 8, 0, 3, 5, 6, 9, 7, 1, 3, 0, 6, 8, 7, 8, 5, 6, 0, 7, 5, 8, 5, 0, 1, 0, 2, 2, 6, 2, 4, 4, 9, 9, 9, 4, 4, 9, 2, 4, 8, 7, 2, 2, 6, 0, 6, 2, 1, 9, 8, 6, 3, 9, 5, 1, 5, 0, 6, 9, 0, 2, 8, 8, 4, 9, 6, 7, 4, 7, 5, 0], [5, 2, 7, 1, 1, 1, 3, 3, 3, 5, 4, 3, 4, 3, 8, 2, 5, 1, 7, 3, 1, 0, 4, 8, 3, 7, 6, 1, 7, 9, 8, 0, 3, 5, 6, 9, 7, 1, 3, 0, 6, 8, 7, 8, 5, 6, 0, 7, 5, 8, 5, 0, 1, 0, 2, 2, 6, 2, 4, 4, 9, 9, 9, 4, 4, 9, 2, 4, 8, 7, 2, 2, 6, 0, 6, 2, 1, 9, 8, 6, 3, 9, 5, 1, 5, 0, 6, 9, 0, 2, 8, 8, 4, 9, 6, 7, 4, 7, 5, 0], [3, 0, 0, 3, 7, 8, 8, 1, 3, 8, 3, 5, 0, 6, 1, 5, 5, 0, 7, 3, 8, 9, 3, 0, 9, 0, 6, 4, 6, 9, 8, 9, 7, 5, 6, 9, 7, 1, 2, 3, 4, 0, 4, 8, 5, 4, 1, 2, 5, 8, 4, 0, 9, 0, 6, 2, 7, 4, 4, 9, 6, 2, 7, 5, 1, 7, 1, 9, 8, 7, 2, 6, 5, 5, 4, 3, 1, 7, 6, 4, 2, 2, 5, 1, 2, 8, 1, 0, 4, 2, 6, 9, 3, 8, 3, 7, 6, 9, 1, 2], [3, 5, 5, 5, 2, 8, 5, 2, 2, 3, 3, 3, 5, 3, 7, 2, 5, 2, 2, 7, 8, 3, 5, 6, 2, 0, 9, 8, 7, 4, 6, 1, 3, 4, 6, 9, 7, 1, 2, 3, 4, 0, 7, 8, 5, 4, 1, 2, 5, 8, 4, 0, 9, 0, 6, 2, 7, 4, 4, 9, 6, 1, 0, 6, 4, 7, 6, 0, 1, 8, 4, 1, 4, 8, 7, 8, 6, 8, 0, 5, 3, 9, 7, 8, 3, 0, 1, 9, 1, 0, 1, 9, 9, 0, 1, 6, 9, 9, 6, 7], [3, 5, 3, 8, 6, 8, 8, 0, 6, 1, 0, 7, 4, 3, 8, 5, 5, 0, 7, 3, 4, 9, 1, 0, 3, 0, 9, 9, 6, 9, 8, 0, 3, 5, 6, 9, 7, 1, 2, 3, 4, 0, 7, 8, 5, 4, 1, 2, 5, 8, 4, 0, 9, 0, 6, 2, 7, 4, 4, 9, 6, 2, 7, 5, 1, 7, 1, 9, 8, 7, 2, 6, 5, 5, 4, 3, 1, 7, 6, 4, 2, 2, 5, 1, 2, 8, 1, 0, 4, 2, 6, 9, 3, 8, 3, 7, 6, 9, 1, 2], [2, 5, 5, 5, 2, 8, 5, 2, 2, 3, 3, 4, 5, 0, 7, 2, 9, 2, 2, 7, 8, 1, 4, 6, 2, 0, 9, 8, 7, 4, 6, 1, 3, 4, 3, 9, 3, 6, 5, 3, 2, 3, 9, 6, 5, 4, 5, 0, 8, 1, 4, 7, 0, 2, 7, 6, 7, 4, 8, 5, 3, 1, 0, 6, 4, 7, 6, 0, 1, 8, 4, 1, 4, 8, 7, 8, 6, 8, 0, 5, 3, 9, 7, 8, 3, 0, 1, 9, 1, 0, 1, 9, 9, 0, 1, 6, 9, 9, 6, 7], [2, 0, 1, 1, 2, 3, 8, 0, 2, 3, 5, 0, 4, 2, 5, 4, 6, 6, 0, 3, 1, 3, 9, 4, 3, 3, 8, 9, 6, 9, 5, 0, 3, 5, 6, 9, 7, 5, 2, 5, 1, 7, 6, 8, 4, 8, 3, 0, 5, 7, 4, 7, 9, 7, 6, 2, 1, 1, 4, 0, 8, 2, 9, 4, 8, 3, 5, 8, 8, 7, 4, 6, 6, 0, 1, 3, 0, 7, 6, 0, 2, 5, 1, 1, 9, 8, 1, 4, 7, 7, 8, 4, 9, 9, 2, 5, 6, 2, 7, 9], [3, 5, 3, 8, 6, 8, 8, 0, 6, 1, 0, 7, 4, 3, 8, 5, 5, 0, 7, 3, 4, 9, 1, 0, 3, 0, 9, 9, 6, 9, 8, 0, 3, 5, 6, 9, 7, 1, 2, 3, 4, 0, 7, 8, 5, 4, 1, 2, 5, 8, 4, 0, 9, 0, 6, 2, 7, 4, 4, 9, 6, 2, 7, 5, 1, 7, 1, 9, 8, 7, 2, 6, 5, 5, 4, 3, 1, 7, 6, 4, 2, 2, 5, 1, 2, 8, 1, 0, 4, 2, 6, 9, 3, 8, 3, 7, 6, 9, 1, 2], [2, 5, 5, 5, 2, 8, 5, 2, 2, 3, 3, 4, 5, 0, 7, 2, 9, 2, 2, 7, 8, 1, 4, 6, 2, 0, 9, 8, 7, 4, 6, 1, 3, 4, 3, 9, 3, 6, 5, 3, 2, 3, 9, 6, 5, 4, 5, 0, 8, 1, 4, 7, 0, 2, 7, 6, 7, 4, 8, 5, 3, 1, 0, 6, 4, 7, 6, 0, 1, 8, 4, 1, 4, 8, 7, 8, 6, 8, 0, 5, 3, 9, 7, 8, 3, 0, 1, 9, 1, 0, 1, 9, 9, 0, 1, 6, 9, 9, 6, 7], [5, 9, 8, 8, 9, 5, 9, 9, 2, 3, 0, 1, 6, 3, 8, 0, 1, 0, 5, 3, 6, 3, 1, 0, 3, 0, 9, 1, 8, 2, 8, 0, 3, 5, 6, 9, 7, 1, 4, 3, 4, 0, 7, 8, 5, 4, 1, 2, 5, 8, 4, 0, 9, 0, 6, 2, 7, 4, 4, 9, 6, 2, 7, 5, 1, 7, 1, 9, 8, 7, 2, 6, 6, 5, 1, 4, 4, 4, 7, 6, 6, 2, 5, 3, 5, 8, 0, 1, 7, 2, 2, 7, 3, 8, 3, 7, 6, 9, 2, 4], [5, 2, 3, 5, 5, 8, 1, 3, 8, 6, 0, 6, 7, 8, 0, 8, 3, 0, 7, 3, 4, 3, 1, 0, 3, 0, 9, 9, 6, 9, 8, 0, 3, 5, 6, 9, 7, 1, 4, 9, 4, 0, 7, 8, 5, 4, 1, 2, 5, 8, 4, 0, 9, 0, 6, 2, 7, 4, 4, 9, 6, 2, 7, 5, 1, 7, 1, 9, 8, 7, 2, 6, 5, 5, 4, 3, 1, 7, 6, 4, 2, 2, 5, 1, 2, 8, 1, 0, 4, 2, 6, 9, 3, 8, 3, 7, 6, 9, 1, 2], [3, 5, 3, 5, 5, 8, 8, 2, 6, 3, 0, 7, 4, 3, 8, 5, 5, 0, 7, 3, 4, 7, 1, 0, 3, 0, 9, 9, 6, 9, 8, 0, 3, 5, 6, 9, 7, 1, 2, 3, 4, 0, 7, 8, 5, 4, 1, 2, 5, 8, 4, 0, 9, 0, 6, 2, 7, 4, 4, 9, 6, 2, 2, 6, 1, 7, 1, 9, 8, 7, 9, 1, 5, 9, 4, 0, 2, 7, 6, 4, 2, 5, 6, 1, 2, 8, 1, 0, 1, 8, 6, 8, 3, 4, 3, 7, 6, 9, 1, 2], [3, 8, 9, 9, 3, 2, 9, 8, 9, 3, 4, 6, 0, 8, 5, 5, 8, 0, 2, 3, 6, 0, 6, 0, 7, 5, 6, 4, 8, 7, 8, 1, 8, 4, 1, 2, 5, 3, 4, 9, 6, 4, 7, 0, 2, 6, 0, 9, 9, 9, 5, 3, 4, 3, 0, 2, 7, 0, 6, 0, 6, 8, 6, 5, 1, 7, 1, 9, 8, 7, 2, 6, 5, 5, 4, 3, 1, 7, 2, 1, 7, 1, 3, 1, 5, 4, 2, 7, 4, 2, 5, 0, 4, 8, 3, 7, 1, 9, 1, 2], [1, 5, 3, 5, 9, 8, 3, 5, 5, 3, 6, 6, 5, 3, 0, 8, 0, 0, 8, 2, 9, 9, 1, 0, 0, 0, 9, 9, 6, 8, 7, 0, 3, 2, 4, 7, 7, 1, 2, 3, 4, 0, 7, 8, 5, 4, 1, 9, 8, 8, 4, 0, 4, 6, 6, 3, 7, 4, 4, 9, 6, 2, 7, 5, 1, 7, 1, 9, 8, 7, 2, 6, 5, 5, 4, 3, 1, 7, 6, 4, 2, 2, 5, 1, 2, 8, 1, 0, 4, 2, 6, 9, 3, 8, 3, 7, 6, 9, 1, 2], [5, 9, 8, 8, 9, 5, 3, 9, 2, 3, 0, 1, 4, 3, 8, 2, 1, 0, 4, 3, 6, 3, 1, 0, 3, 0, 9, 1, 8, 5, 8, 0, 3, 5, 6, 9, 7, 1, 4, 9, 4, 0, 7, 8, 5, 4, 1, 2, 7, 8, 4, 0, 6, 0, 2, 9, 7, 5, 6, 9, 6, 2, 7, 5, 1, 7, 1, 9, 8, 0, 2, 6, 6, 5, 1, 4, 4, 4, 7, 6, 6, 2, 5, 3, 5, 8, 0, 1, 7, 2, 2, 7, 3, 8, 3, 7, 6, 9, 2, 4], [5, 2, 3, 5, 5, 8, 1, 3, 8, 6, 0, 6, 7, 8, 0, 8, 3, 0, 7, 3, 4, 3, 1, 0, 3, 0, 9, 9, 6, 9, 8, 0, 3, 5, 6, 9, 7, 1, 4, 9, 4, 0, 7, 8, 5, 4, 1, 2, 5, 8, 4, 0, 9, 0, 6, 2, 7, 4, 4, 9, 6, 2, 7, 5, 1, 7, 1, 9, 8, 7, 2, 6, 5, 5, 4, 3, 1, 7, 6, 4, 2, 2, 5, 1, 2, 8, 1, 0, 4, 2, 6, 9, 3, 8, 3, 7, 6, 9, 1, 2], [5, 9, 8, 8, 9, 5, 9, 9, 2, 3, 0, 1, 6, 3, 8, 0, 1, 0, 5, 3, 6, 3, 1, 0, 3, 0, 9, 1, 8, 2, 8, 0, 3, 5, 6, 9, 7, 1, 4, 3, 4, 0, 7, 8, 5, 4, 1, 2, 5, 8, 4, 0, 9, 0, 6, 2, 7, 4, 4, 9, 6, 2, 7, 5, 1, 7, 1, 9, 8, 7, 2, 6, 6, 5, 1, 4, 4, 4, 7, 6, 6, 2, 5, 3, 5, 8, 0, 1, 7, 2, 2, 7, 3, 8, 3, 7, 6, 9, 2, 4], [3, 5, 3, 8, 5, 8, 3, 5, 8, 2, 0, 4, 1, 3, 0, 8, 0, 5, 7, 4, 4, 8, 1, 0, 3, 0, 9, 9, 6, 9, 6, 0, 3, 7, 6, 9, 7, 1, 9, 3, 6, 0, 7, 8, 5, 4, 1, 2, 5, 8, 4, 0, 9, 0, 6, 2, 7, 4, 4, 9, 6, 2, 7, 5, 1, 7, 1, 9, 8, 7, 2, 6, 5, 5, 4, 3, 1, 7, 6, 4, 2, 2, 5, 1, 2, 8, 1, 0, 4, 2, 6, 9, 3, 8, 3, 7, 6, 9, 1, 2]]\n",
      "[[54.195075757575765, 1054], [53.51325757575758, 1056], [40.520833333333336, 1796], [40.520833333333336, 1796], [47.271010387157695, 1098], [41.79924242424242, 1492], [50.416666666666664, 1059], [40.82386363636364, 1637], [43.04924242424242, 1490], [50.416666666666664, 1059], [40.82386363636364, 1637], [43.76893939393939, 1400], [46.68560606060606, 1168], [44.83901515151515, 1362], [46.458333333333336, 1283], [45.78598484848485, 1323], [45.23674242424243, 1338], [46.68560606060606, 1168], [43.76893939393939, 1400], [46.39204545454545, 1289]]\n",
      "the elapsed time:29.335877895355225\n"
     ]
    }
   ],
   "source": [
    "# -*- coding: utf-8 -*-\n",
    "\"\"\"\n",
    "Created on Thu May 24 13:32:33 2018\n",
    "\n",
    "@author: cheng-man wu\n",
    "\n",
    "LinkedIn: www.linkedin.com/in/chengmanwu\n",
    "Github: https://github.com/wurmen\n",
    "\"\"\"\n",
    "'''==========Solving job shop scheduling problem by NSGA-II algorithm in python======='''\n",
    "# importing required modules\n",
    "#import os\n",
    "import pandas as pd\n",
    "import numpy as np\n",
    "import time\n",
    "import copy\n",
    "''' ================= initialization setting ======================'''\n",
    "num_job=10 # number of jobs\n",
    "num_mc=10 # number of machines\n",
    "\n",
    "pt_tmp=pd.read_excel(\"JSP_dataset.xlsx\",sheet_name=\"Processing Time\",index_col =[0])\n",
    "ms_tmp=pd.read_excel(\"JSP_dataset.xlsx\",sheet_name=\"Machines Sequence\",index_col =[0])\n",
    "job_priority_duedate_tmp=pd.read_excel(\"JSP_dataset.xlsx\",sheet_name=\"Priority and Due date\",index_col =[0])\n",
    "\n",
    "# raw_input is used in python 2\n",
    "population_size=int(input('Please input the size of population: ') or 20) # default value is 20\n",
    "crossover_rate=float(input('Please input the size of Crossover Rate: ') or 0.8) # default value is 0.8\n",
    "mutation_rate=float(input('Please input the size of Mutation Rate: ') or 0.3) # default value is 0.3\n",
    "mutation_selection_rate=float(input('Please input the mutation selection rate: ') or 0.4)\n",
    "num_mutation_jobs=round(num_job*num_mc*mutation_selection_rate)\n",
    "num_iteration=int(input('Please input number of iteration: ') or 1000) # default value is 1000\n",
    "\n",
    "# speed up the data search\n",
    "# Below code can also be  written \"pt = pt_tmp.as_matrix().tolist()\"\n",
    "pt=[list(map(int, pt_tmp.iloc[i])) for i in range(num_job)]\n",
    "ms=[list(map(int,ms_tmp.iloc[i])) for i in range(num_job)]\n",
    "job_priority_duedate=[list(job_priority_duedate_tmp.iloc[i]) for i in range(num_job)]\n",
    "start_time = time.time()\n",
    "'''===========function==============='''\n",
    "'''-------non-dominated sorting function-------'''      \n",
    "def non_dominated_sorting(population_size,chroms_obj_record):\n",
    "    s,n={},{}\n",
    "    front,rank={},{}\n",
    "    front[0]=[]     \n",
    "    for p in range(population_size*2):\n",
    "        s[p]=[]\n",
    "        n[p]=0\n",
    "        for q in range(population_size*2):\n",
    "            \n",
    "            if ((chroms_obj_record[p][0]<chroms_obj_record[q][0] and chroms_obj_record[p][1]<chroms_obj_record[q][1]) or (chroms_obj_record[p][0]<=chroms_obj_record[q][0] and chroms_obj_record[p][1]<chroms_obj_record[q][1])\n",
    "            or (chroms_obj_record[p][0]<chroms_obj_record[q][0] and chroms_obj_record[p][1]<=chroms_obj_record[q][1])):\n",
    "                if q not in s[p]:\n",
    "                    s[p].append(q)\n",
    "            elif ((chroms_obj_record[p][0]>chroms_obj_record[q][0] and chroms_obj_record[p][1]>chroms_obj_record[q][1]) or (chroms_obj_record[p][0]>=chroms_obj_record[q][0] and chroms_obj_record[p][1]>chroms_obj_record[q][1])\n",
    "            or (chroms_obj_record[p][0]>chroms_obj_record[q][0] and chroms_obj_record[p][1]>=chroms_obj_record[q][1])):\n",
    "                n[p]=n[p]+1\n",
    "        if n[p]==0:\n",
    "            rank[p]=0\n",
    "            if p not in front[0]:\n",
    "                front[0].append(p)\n",
    "    \n",
    "    i=0\n",
    "    while (front[i]!=[]):\n",
    "        Q=[]\n",
    "        for p in front[i]:\n",
    "            for q in s[p]:\n",
    "                n[q]=n[q]-1\n",
    "                if n[q]==0:\n",
    "                    rank[q]=i+1\n",
    "                    if q not in Q:\n",
    "                        Q.append(q)\n",
    "        i=i+1\n",
    "        front[i]=Q\n",
    "                \n",
    "    del front[len(front)-1]\n",
    "    return front\n",
    "\n",
    "'''--------calculate crowding distance function---------'''\n",
    "def calculate_crowding_distance(front,chroms_obj_record):\n",
    "    \n",
    "    distance={m:0 for m in front}\n",
    "    for o in range(2):\n",
    "        obj={m:chroms_obj_record[m][o] for m in front}\n",
    "        sorted_keys=sorted(obj, key=obj.get)\n",
    "        distance[sorted_keys[0]]=distance[sorted_keys[len(front)-1]]=999999999999\n",
    "        for i in range(1,len(front)-1):\n",
    "            if len(set(obj.values()))==1:\n",
    "                distance[sorted_keys[i]]=distance[sorted_keys[i]]\n",
    "            else:\n",
    "                distance[sorted_keys[i]]=distance[sorted_keys[i]]+(obj[sorted_keys[i+1]]-obj[sorted_keys[i-1]])/(obj[sorted_keys[len(front)-1]]-obj[sorted_keys[0]])\n",
    "            \n",
    "    return distance            \n",
    "'''----------selection----------'''\n",
    "def selection(population_size,front,chroms_obj_record,total_chromosome):   \n",
    "    N=0\n",
    "    new_pop=[]\n",
    "    while N < population_size:\n",
    "        for i in range(len(front)):\n",
    "            N=N+len(front[i])\n",
    "            if N > population_size:\n",
    "                distance=calculate_crowding_distance(front[i],chroms_obj_record)\n",
    "                sorted_cdf=sorted(distance, key=distance.get)\n",
    "                sorted_cdf.reverse()\n",
    "                for j in sorted_cdf:\n",
    "                    if len(new_pop)==population_size:\n",
    "                        break                \n",
    "                    new_pop.append(j)              \n",
    "                break\n",
    "            else:\n",
    "                new_pop.extend(front[i])\n",
    "    \n",
    "    population_list=[]\n",
    "    for n in new_pop:\n",
    "        population_list.append(total_chromosome[n])\n",
    "    \n",
    "    return population_list,new_pop\n",
    "\n",
    "\n",
    "'''==================== main code ==============================='''\n",
    "'''----- generate initial population -----'''\n",
    "best_list,best_obj=[],[]\n",
    "population_list=[]\n",
    "for i in range(population_size):\n",
    "    nxm_random_num=list(np.random.permutation(num_job*num_mc)) # generate a random permutation of 0 to num_job*num_mc-1\n",
    "    population_list.append(nxm_random_num) # add to the population_list\n",
    "    for j in range(num_job*num_mc):\n",
    "        population_list[i][j]=population_list[i][j]%num_job # convert to job number format, every job appears m times\n",
    "        \n",
    "for n in range(num_iteration):           \n",
    "    '''-------- two point crossover --------'''\n",
    "    parent_list=copy.deepcopy(population_list)\n",
    "    offspring_list=[]\n",
    "    S=list(np.random.permutation(population_size)) # generate a random sequence to select the parent chromosome to crossover\n",
    "    \n",
    "    for m in range(int(population_size/2)):\n",
    "        \n",
    "        parent_1= population_list[S[2*m]][:]\n",
    "        parent_2= population_list[S[2*m+1]][:]\n",
    "        child_1=parent_1[:]\n",
    "        child_2=parent_2[:]\n",
    "        \n",
    "        cutpoint=list(np.random.choice(num_job*num_mc, 2, replace=False))\n",
    "        cutpoint.sort()\n",
    "    \n",
    "        child_1[cutpoint[0]:cutpoint[1]]=parent_2[cutpoint[0]:cutpoint[1]]\n",
    "        child_2[cutpoint[0]:cutpoint[1]]=parent_1[cutpoint[0]:cutpoint[1]]\n",
    "        \n",
    "        offspring_list.extend((child_1,child_2)) # append child chromosome to offspring list\n",
    "    '''----------repairment-------------'''\n",
    "    for m in range(population_size):\n",
    "        job_count={}\n",
    "        larger,less=[],[] # 'larger' record jobs appear in the chromosome more than m times, and 'less' records less than m times.\n",
    "        for i in range(num_job):\n",
    "            if i in offspring_list[m]:\n",
    "                count=offspring_list[m].count(i)\n",
    "                pos=offspring_list[m].index(i)\n",
    "                job_count[i]=[count,pos] # store the above two values to the job_count dictionary\n",
    "            else:\n",
    "                count=0\n",
    "                job_count[i]=[count,0]\n",
    "            if count>num_mc:\n",
    "                larger.append(i)\n",
    "            elif count<num_mc:\n",
    "                less.append(i)\n",
    "                \n",
    "        for k in range(len(larger)):\n",
    "            chg_job=larger[k]\n",
    "            while job_count[chg_job][0]>num_mc:\n",
    "                for d in range(len(less)):\n",
    "                    if job_count[less[d]][0]<num_mc:                    \n",
    "                        offspring_list[m][job_count[chg_job][1]]=less[d]\n",
    "                        job_count[chg_job][1]=offspring_list[m].index(chg_job)\n",
    "                        job_count[chg_job][0]=job_count[chg_job][0]-1\n",
    "                        job_count[less[d]][0]=job_count[less[d]][0]+1                    \n",
    "                    if job_count[chg_job][0]==num_mc:\n",
    "                        break        \n",
    "    \n",
    "    '''--------mutatuon--------'''   \n",
    "    for m in range(len(offspring_list)):\n",
    "        mutation_prob=np.random.rand()\n",
    "        if mutation_rate <= mutation_prob:\n",
    "            m_chg=list(np.random.choice(num_job*num_mc, num_mutation_jobs, replace=False)) # chooses the position to mutation\n",
    "            t_value_last=offspring_list[m][m_chg[0]] # save the value which is on the first mutation position\n",
    "            for i in range(num_mutation_jobs-1):\n",
    "                offspring_list[m][m_chg[i]]=offspring_list[m][m_chg[i+1]] # displacement\n",
    "            \n",
    "            offspring_list[m][m_chg[num_mutation_jobs-1]]=t_value_last # move the value of the first mutation position to the last mutation position   \n",
    "                        \n",
    "    \n",
    "    '''--------fitness value(calculate idle time)-------------'''\n",
    "    num_m = 10\n",
    "    chrom_fitness,chrom_fit=[],[]\n",
    "    total_fitness=0\n",
    "    s,d,D={},{},{}\n",
    "    v=[0 for c in range(population_size*2)]\n",
    "    '''--------fitness value(calculate  makespan and TWET)-------------'''\n",
    "    total_chromosome=copy.deepcopy(parent_list)+copy.deepcopy(offspring_list) # combine parent and offspring chromosomes\n",
    "    chroms_obj_record={} # record each chromosome objective values as chromosome_obj_record={chromosome:[TWET,makespan]}\n",
    "    for m in range(population_size*2):\n",
    "        j_keys=[j for j in range(num_job)]\n",
    "        key_count={key:0 for key in j_keys}\n",
    "        j_count={key:0 for key in j_keys}\n",
    "        m_keys=[j+1 for j in range(num_mc)]\n",
    "        m_count={key:0 for key in m_keys}\n",
    "        d_record={} # record jobs earliness and tardiness time as d_record={job:[earliness time,tardiness time]}\n",
    "        \n",
    "        c = m\n",
    "    \n",
    "        for i in range(num_m):\n",
    "            s[c,i]=pt[total_chromosome[c][0]][i]\n",
    "            d[c,i]=v[c]\n",
    "            D[c,i,total_chromosome[c][0]]=v[c]\n",
    "            v[c]=v[c]+pt[total_chromosome[c][0]][i]\n",
    "\n",
    "        for j in range(num_job):\n",
    "            D[c,0,j]=0\n",
    "\n",
    "        for j in range(1,num_job):\n",
    "            for i in range(0,num_m-1):\n",
    "                s[c,i]=s[c,i]+pt[total_chromosome[c][j]][i]\n",
    "                D[c,i+1,j]=max(0,s[c,i]+d[c,i]-s[c,i+1]-d[c,i+1])\n",
    "                d[c,i+1]=d[c,i+1]+D[c,i+1,j]\n",
    "\n",
    "            s[c,num_m-1]=s[c,num_m-1]+pt[total_chromosome[c][j]][i+1]\n",
    "\n",
    "        v[c]=0\n",
    "        for i in range(num_m):\n",
    "            v[c]=v[c]+d[c,i]\n",
    "        OEE = (makespan * 10 - v[c]) / (makespan * 10)\n",
    "        OEE_scaled = OEE * (makespan * 10)\n",
    "\n",
    "        chrom_fitness.append(1/v[c])\n",
    "        chrom_fit.append(v[c])\n",
    "        total_fitness=total_fitness+chrom_fitness[c]\n",
    "\n",
    "        \n",
    "        for i in total_chromosome[m]:\n",
    "            gen_t=int(pt[i][key_count[i]])\n",
    "            gen_m=int(ms[i][key_count[i]])\n",
    "            j_count[i]=j_count[i]+gen_t\n",
    "            m_count[gen_m]=m_count[gen_m]+gen_t\n",
    "            \n",
    "            if m_count[gen_m]<j_count[i]:\n",
    "                m_count[gen_m]=j_count[i]\n",
    "            elif m_count[gen_m]>j_count[i]:\n",
    "                j_count[i]=m_count[gen_m]\n",
    "            \n",
    "            key_count[i]=key_count[i]+1\n",
    "    \n",
    "        for j in j_keys:\n",
    "            if j_count[j]>job_priority_duedate[j][1]:\n",
    "                job_tardiness=j_count[j]-job_priority_duedate[j][1]\n",
    "                job_earliness=0\n",
    "                d_record[j]=[job_earliness,job_tardiness]\n",
    "            elif j_count[j]<job_priority_duedate[j][1]:\n",
    "                job_tardiness=0\n",
    "                job_earliness=job_priority_duedate[j][1]-j_count[j]\n",
    "                d_record[j]=[job_earliness,job_tardiness]\n",
    "            else:\n",
    "                job_tardiness=0\n",
    "                job_earliness=0\n",
    "                d_record[j]=[job_earliness,job_tardiness]\n",
    "        \n",
    "        twet=sum((1/job_priority_duedate[j][0])*d_record[j][0]+job_priority_duedate[j][0]*d_record[j][1] for j in j_keys)\n",
    "        makespan=max(j_count.values())\n",
    "        # chroms_obj_record[m]=[twet,makespan]\n",
    "        # chroms_obj_record[m]=[v[c],makespan]\n",
    "        # chroms_obj_record[m]=[OEE,makespan]\n",
    "        # chroms_obj_record[m]=[OEE_scaled,makespan]\n",
    "        chroms_obj_record[m]=[OEE * 100,makespan]\n",
    "                       \n",
    "    \n",
    "    '''-------non-dominated sorting-------'''      \n",
    "    front=non_dominated_sorting(population_size,chroms_obj_record)\n",
    "        \n",
    "    '''----------selection----------'''\n",
    "    population_list,new_pop=selection(population_size,front,chroms_obj_record,total_chromosome)\n",
    "    new_pop_obj=[chroms_obj_record[k] for k in new_pop]    \n",
    "    \n",
    "\n",
    "    '''----------comparison----------'''\n",
    "    if n==0:\n",
    "        best_list=copy.deepcopy(population_list)\n",
    "        best_obj=copy.deepcopy(new_pop_obj)\n",
    "    else:            \n",
    "        total_list=copy.deepcopy(population_list)+copy.deepcopy(best_list)\n",
    "        total_obj=copy.deepcopy(new_pop_obj)+copy.deepcopy(best_obj)\n",
    "        \n",
    "        now_best_front=non_dominated_sorting(population_size,total_obj)\n",
    "        best_list,best_pop=selection(population_size,now_best_front,total_obj,total_list)\n",
    "        best_obj=[total_obj[k] for k in best_pop]\n",
    "'''----------result----------'''\n",
    "print(best_list)\n",
    "print(best_obj)\n",
    "print('the elapsed time:%s'% (time.time() - start_time))\n",
    "\n",
    "\n"
   ]
  },
  {
   "cell_type": "markdown",
   "metadata": {},
   "source": [
    "### 取第一個解來畫排程甘特圖"
   ]
  },
  {
   "cell_type": "code",
   "execution_count": 34,
   "metadata": {
    "tags": []
   },
   "outputs": [],
   "source": [
    "'''--------plot gantt chart-------'''\n",
    "import pandas as pd\n",
    "# import plotly.plotly as py\n",
    "import plotly.figure_factory as ff\n",
    "import datetime\n",
    "import chart_studio.plotly as py\n",
    "\n",
    "m_keys=[j+1 for j in range(num_mc)]\n",
    "j_keys=[j for j in range(num_job)]\n",
    "key_count={key:0 for key in j_keys}\n",
    "j_count={key:0 for key in j_keys}\n",
    "m_count={key:0 for key in m_keys}\n",
    "j_record={}\n",
    "for i in best_list[0]:\n",
    "    gen_t=int(pt[i][key_count[i]])\n",
    "    gen_m=int(ms[i][key_count[i]])\n",
    "    j_count[i]=j_count[i]+gen_t\n",
    "    m_count[gen_m]=m_count[gen_m]+gen_t\n",
    "    \n",
    "    if m_count[gen_m]<j_count[i]:\n",
    "        m_count[gen_m]=j_count[i]\n",
    "    elif m_count[gen_m]>j_count[i]:\n",
    "        j_count[i]=m_count[gen_m]\n",
    "    \n",
    "    start=j_count[i]-pt[i][key_count[i]]\n",
    "    start_time=str(datetime.timedelta(seconds=start)) # convert seconds to hours, minutes and seconds\n",
    "    end_time=str(datetime.timedelta(seconds=j_count[i]))  \n",
    "    j_record[(i,gen_m)]=[start_time,end_time]\n",
    "    \n",
    "    key_count[i]=key_count[i]+1\n",
    "        \n",
    "\n",
    "df=[]\n",
    "for m in m_keys:\n",
    "    for j in j_keys:\n",
    "        df.append(dict(Task='Machine %s'%(m), Start='2018-07-14 %s'%(str(j_record[(j,m)][0])), Finish='2018-07-14 %s'%(str(j_record[(j,m)][1])),Resource='Job %s'%(j+1)))\n",
    "    \n",
    "fig = ff.create_gantt(df, index_col='Resource', show_colorbar=True, group_tasks=True, showgrid_x=True, title='Job shop Schedule')\n",
    "# py.iplot(fig, filename='GA_job_shop_scheduling1', world_readable=True)"
   ]
  },
  {
   "cell_type": "code",
   "execution_count": 32,
   "metadata": {
    "tags": []
   },
   "outputs": [
    {
     "data": {
      "application/vnd.plotly.v1+json": {
       "config": {
        "plotlyServerURL": "https://plot.ly"
       },
       "data": [
        {
         "fill": "toself",
         "fillcolor": "rgb(127, 127, 127)",
         "hoverinfo": "name",
         "legendgroup": "rgb(127, 127, 127)",
         "mode": "none",
         "name": "Job 7",
         "showlegend": true,
         "type": "scatter",
         "x": [
          "2018-07-14 0:08:40",
          "2018-07-14 0:09:17",
          "2018-07-14 0:09:17",
          "2018-07-14 0:08:40",
          "2018-07-14 0:08:40",
          "2018-07-14 0:07:54",
          "2018-07-14 0:08:40",
          "2018-07-14 0:08:40",
          "2018-07-14 0:07:54",
          "2018-07-14 0:07:54",
          "2018-07-14 0:11:08",
          "2018-07-14 0:11:21",
          "2018-07-14 0:11:21",
          "2018-07-14 0:11:08",
          "2018-07-14 0:11:08",
          "2018-07-14 0:09:17",
          "2018-07-14 0:10:18",
          "2018-07-14 0:10:18",
          "2018-07-14 0:09:17",
          "2018-07-14 0:09:17",
          "2018-07-14 0:18:43",
          "2018-07-14 0:19:38",
          "2018-07-14 0:19:38",
          "2018-07-14 0:18:43",
          "2018-07-14 0:18:43",
          "2018-07-14 0:11:53",
          "2018-07-14 0:12:14",
          "2018-07-14 0:12:14",
          "2018-07-14 0:11:53",
          "2018-07-14 0:11:53",
          "2018-07-14 0:11:21",
          "2018-07-14 0:11:53",
          "2018-07-14 0:11:53",
          "2018-07-14 0:11:21",
          "2018-07-14 0:11:21",
          "2018-07-14 0:18:13",
          "2018-07-14 0:18:43",
          "2018-07-14 0:18:43",
          "2018-07-14 0:18:13",
          "2018-07-14 0:18:13",
          "2018-07-14 0:16:05",
          "2018-07-14 0:17:34",
          "2018-07-14 0:17:34",
          "2018-07-14 0:16:05",
          "2018-07-14 0:16:05",
          "2018-07-14 0:15:30",
          "2018-07-14 0:16:02",
          "2018-07-14 0:16:02",
          "2018-07-14 0:15:30"
         ],
         "y": [
          8.8,
          8.8,
          9.2,
          9.2,
          null,
          7.8,
          7.8,
          8.2,
          8.2,
          null,
          6.8,
          6.8,
          7.2,
          7.2,
          null,
          5.8,
          5.8,
          6.2,
          6.2,
          null,
          4.8,
          4.8,
          5.2,
          5.2,
          null,
          3.8,
          3.8,
          4.2,
          4.2,
          null,
          2.8,
          2.8,
          3.2,
          3.2,
          null,
          1.8,
          1.8,
          2.2,
          2.2,
          null,
          0.8,
          0.8,
          1.2,
          1.2,
          null,
          -0.2,
          -0.2,
          0.2,
          0.2
         ]
        },
        {
         "fill": "toself",
         "fillcolor": "rgb(140, 86, 75)",
         "hoverinfo": "name",
         "legendgroup": "rgb(140, 86, 75)",
         "mode": "none",
         "name": "Job 5",
         "showlegend": true,
         "type": "scatter",
         "x": [
          "2018-07-14 0:05:19",
          "2018-07-14 0:05:25",
          "2018-07-14 0:05:25",
          "2018-07-14 0:05:19",
          "2018-07-14 0:05:19",
          "2018-07-14 0:06:07",
          "2018-07-14 0:06:29",
          "2018-07-14 0:06:29",
          "2018-07-14 0:06:07",
          "2018-07-14 0:06:07",
          "2018-07-14 0:01:55",
          "2018-07-14 0:02:09",
          "2018-07-14 0:02:09",
          "2018-07-14 0:01:55",
          "2018-07-14 0:01:55",
          "2018-07-14 0:08:29",
          "2018-07-14 0:08:55",
          "2018-07-14 0:08:55",
          "2018-07-14 0:08:29",
          "2018-07-14 0:08:29",
          "2018-07-14 0:10:19",
          "2018-07-14 0:11:28",
          "2018-07-14 0:11:28",
          "2018-07-14 0:10:19",
          "2018-07-14 0:10:19",
          "2018-07-14 0:07:28",
          "2018-07-14 0:08:29",
          "2018-07-14 0:08:29",
          "2018-07-14 0:07:28",
          "2018-07-14 0:07:28",
          "2018-07-14 0:16:06",
          "2018-07-14 0:16:59",
          "2018-07-14 0:16:59",
          "2018-07-14 0:16:06",
          "2018-07-14 0:16:06",
          "2018-07-14 0:12:07",
          "2018-07-14 0:12:56",
          "2018-07-14 0:12:56",
          "2018-07-14 0:12:07",
          "2018-07-14 0:12:07",
          "2018-07-14 0:11:37",
          "2018-07-14 0:11:58",
          "2018-07-14 0:11:58",
          "2018-07-14 0:11:37",
          "2018-07-14 0:11:37",
          "2018-07-14 0:14:18",
          "2018-07-14 0:15:30",
          "2018-07-14 0:15:30",
          "2018-07-14 0:14:18"
         ],
         "y": [
          8.8,
          8.8,
          9.2,
          9.2,
          null,
          7.8,
          7.8,
          8.2,
          8.2,
          null,
          6.8,
          6.8,
          7.2,
          7.2,
          null,
          5.8,
          5.8,
          6.2,
          6.2,
          null,
          4.8,
          4.8,
          5.2,
          5.2,
          null,
          3.8,
          3.8,
          4.2,
          4.2,
          null,
          2.8,
          2.8,
          3.2,
          3.2,
          null,
          1.8,
          1.8,
          2.2,
          2.2,
          null,
          0.8,
          0.8,
          1.2,
          1.2,
          null,
          -0.2,
          -0.2,
          0.2,
          0.2
         ]
        },
        {
         "fill": "toself",
         "fillcolor": "rgb(148, 103, 189)",
         "hoverinfo": "name",
         "legendgroup": "rgb(148, 103, 189)",
         "mode": "none",
         "name": "Job 4",
         "showlegend": true,
         "type": "scatter",
         "x": [
          "2018-07-14 0:05:25",
          "2018-07-14 0:06:36",
          "2018-07-14 0:06:36",
          "2018-07-14 0:05:25",
          "2018-07-14 0:05:25",
          "2018-07-14 0:00:00",
          "2018-07-14 0:01:21",
          "2018-07-14 0:01:21",
          "2018-07-14 0:00:00",
          "2018-07-14 0:00:00",
          "2018-07-14 0:02:09",
          "2018-07-14 0:03:44",
          "2018-07-14 0:03:44",
          "2018-07-14 0:02:09",
          "2018-07-14 0:02:09",
          "2018-07-14 0:11:39",
          "2018-07-14 0:13:17",
          "2018-07-14 0:13:17",
          "2018-07-14 0:11:39",
          "2018-07-14 0:11:39",
          "2018-07-14 0:06:36",
          "2018-07-14 0:08:15",
          "2018-07-14 0:08:15",
          "2018-07-14 0:06:36",
          "2018-07-14 0:06:36",
          "2018-07-14 0:16:24",
          "2018-07-14 0:17:07",
          "2018-07-14 0:17:07",
          "2018-07-14 0:16:24",
          "2018-07-14 0:16:24",
          "2018-07-14 0:08:15",
          "2018-07-14 0:08:24",
          "2018-07-14 0:08:24",
          "2018-07-14 0:08:15",
          "2018-07-14 0:08:15",
          "2018-07-14 0:09:46",
          "2018-07-14 0:11:11",
          "2018-07-14 0:11:11",
          "2018-07-14 0:09:46",
          "2018-07-14 0:09:46",
          "2018-07-14 0:08:24",
          "2018-07-14 0:09:16",
          "2018-07-14 0:09:16",
          "2018-07-14 0:08:24",
          "2018-07-14 0:08:24",
          "2018-07-14 0:16:02",
          "2018-07-14 0:16:24",
          "2018-07-14 0:16:24",
          "2018-07-14 0:16:02"
         ],
         "y": [
          8.8,
          8.8,
          9.2,
          9.2,
          null,
          7.8,
          7.8,
          8.2,
          8.2,
          null,
          6.8,
          6.8,
          7.2,
          7.2,
          null,
          5.8,
          5.8,
          6.2,
          6.2,
          null,
          4.8,
          4.8,
          5.2,
          5.2,
          null,
          3.8,
          3.8,
          4.2,
          4.2,
          null,
          2.8,
          2.8,
          3.2,
          3.2,
          null,
          1.8,
          1.8,
          2.2,
          2.2,
          null,
          0.8,
          0.8,
          1.2,
          1.2,
          null,
          -0.2,
          -0.2,
          0.2,
          0.2
         ]
        },
        {
         "fill": "toself",
         "fillcolor": "rgb(188, 189, 34)",
         "hoverinfo": "name",
         "legendgroup": "rgb(188, 189, 34)",
         "mode": "none",
         "name": "Job 8",
         "showlegend": true,
         "type": "scatter",
         "x": [
          "2018-07-14 0:01:45",
          "2018-07-14 0:03:11",
          "2018-07-14 0:03:11",
          "2018-07-14 0:01:45",
          "2018-07-14 0:01:45",
          "2018-07-14 0:04:03",
          "2018-07-14 0:04:49",
          "2018-07-14 0:04:49",
          "2018-07-14 0:04:03",
          "2018-07-14 0:04:03",
          "2018-07-14 0:00:00",
          "2018-07-14 0:00:31",
          "2018-07-14 0:00:31",
          "2018-07-14 0:00:00",
          "2018-07-14 0:00:00",
          "2018-07-14 0:15:57",
          "2018-07-14 0:17:16",
          "2018-07-14 0:17:16",
          "2018-07-14 0:15:57",
          "2018-07-14 0:15:57",
          "2018-07-14 0:06:03",
          "2018-07-14 0:06:35",
          "2018-07-14 0:06:35",
          "2018-07-14 0:06:03",
          "2018-07-14 0:06:03",
          "2018-07-14 0:04:49",
          "2018-07-14 0:06:03",
          "2018-07-14 0:06:03",
          "2018-07-14 0:04:49",
          "2018-07-14 0:04:49",
          "2018-07-14 0:06:35",
          "2018-07-14 0:08:03",
          "2018-07-14 0:08:03",
          "2018-07-14 0:06:35",
          "2018-07-14 0:06:35",
          "2018-07-14 0:09:10",
          "2018-07-14 0:09:46",
          "2018-07-14 0:09:46",
          "2018-07-14 0:09:10",
          "2018-07-14 0:09:10",
          "2018-07-14 0:08:03",
          "2018-07-14 0:08:22",
          "2018-07-14 0:08:22",
          "2018-07-14 0:08:03",
          "2018-07-14 0:08:03",
          "2018-07-14 0:08:22",
          "2018-07-14 0:09:10",
          "2018-07-14 0:09:10",
          "2018-07-14 0:08:22"
         ],
         "y": [
          8.8,
          8.8,
          9.2,
          9.2,
          null,
          7.8,
          7.8,
          8.2,
          8.2,
          null,
          6.8,
          6.8,
          7.2,
          7.2,
          null,
          5.8,
          5.8,
          6.2,
          6.2,
          null,
          4.8,
          4.8,
          5.2,
          5.2,
          null,
          3.8,
          3.8,
          4.2,
          4.2,
          null,
          2.8,
          2.8,
          3.2,
          3.2,
          null,
          1.8,
          1.8,
          2.2,
          2.2,
          null,
          0.8,
          0.8,
          1.2,
          1.2,
          null,
          -0.2,
          -0.2,
          0.2,
          0.2
         ]
        },
        {
         "fill": "toself",
         "fillcolor": "rgb(214, 39, 40)",
         "hoverinfo": "name",
         "legendgroup": "rgb(214, 39, 40)",
         "mode": "none",
         "name": "Job 3",
         "showlegend": true,
         "type": "scatter",
         "x": [
          "2018-07-14 0:03:54",
          "2018-07-14 0:05:19",
          "2018-07-14 0:05:19",
          "2018-07-14 0:03:54",
          "2018-07-14 0:03:54",
          "2018-07-14 0:01:21",
          "2018-07-14 0:02:52",
          "2018-07-14 0:02:52",
          "2018-07-14 0:01:21",
          "2018-07-14 0:01:21",
          "2018-07-14 0:08:53",
          "2018-07-14 0:10:07",
          "2018-07-14 0:10:07",
          "2018-07-14 0:08:53",
          "2018-07-14 0:08:53",
          "2018-07-14 0:07:13",
          "2018-07-14 0:07:52",
          "2018-07-14 0:07:52",
          "2018-07-14 0:07:13",
          "2018-07-14 0:07:13",
          "2018-07-14 0:17:27",
          "2018-07-14 0:18:00",
          "2018-07-14 0:18:00",
          "2018-07-14 0:17:27",
          "2018-07-14 0:17:27",
          "2018-07-14 0:11:37",
          "2018-07-14 0:11:47",
          "2018-07-14 0:11:47",
          "2018-07-14 0:11:37",
          "2018-07-14 0:11:37",
          "2018-07-14 0:14:37",
          "2018-07-14 0:16:06",
          "2018-07-14 0:16:06",
          "2018-07-14 0:14:37",
          "2018-07-14 0:14:37",
          "2018-07-14 0:14:25",
          "2018-07-14 0:14:37",
          "2018-07-14 0:14:37",
          "2018-07-14 0:14:25",
          "2018-07-14 0:14:25",
          "2018-07-14 0:10:07",
          "2018-07-14 0:11:37",
          "2018-07-14 0:11:37",
          "2018-07-14 0:10:07",
          "2018-07-14 0:10:07",
          "2018-07-14 0:16:24",
          "2018-07-14 0:17:09",
          "2018-07-14 0:17:09",
          "2018-07-14 0:16:24"
         ],
         "y": [
          8.8,
          8.8,
          9.2,
          9.2,
          null,
          7.8,
          7.8,
          8.2,
          8.2,
          null,
          6.8,
          6.8,
          7.2,
          7.2,
          null,
          5.8,
          5.8,
          6.2,
          6.2,
          null,
          4.8,
          4.8,
          5.2,
          5.2,
          null,
          3.8,
          3.8,
          4.2,
          4.2,
          null,
          2.8,
          2.8,
          3.2,
          3.2,
          null,
          1.8,
          1.8,
          2.2,
          2.2,
          null,
          0.8,
          0.8,
          1.2,
          1.2,
          null,
          -0.2,
          -0.2,
          0.2,
          0.2
         ]
        },
        {
         "fill": "toself",
         "fillcolor": "rgb(227, 119, 194)",
         "hoverinfo": "name",
         "legendgroup": "rgb(227, 119, 194)",
         "mode": "none",
         "name": "Job 6",
         "showlegend": true,
         "type": "scatter",
         "x": [
          "2018-07-14 0:07:21",
          "2018-07-14 0:08:08",
          "2018-07-14 0:08:08",
          "2018-07-14 0:07:21",
          "2018-07-14 0:07:21",
          "2018-07-14 0:02:52",
          "2018-07-14 0:02:54",
          "2018-07-14 0:02:54",
          "2018-07-14 0:02:52",
          "2018-07-14 0:02:52",
          "2018-07-14 0:00:31",
          "2018-07-14 0:01:55",
          "2018-07-14 0:01:55",
          "2018-07-14 0:00:31",
          "2018-07-14 0:00:31",
          "2018-07-14 0:03:46",
          "2018-07-14 0:05:21",
          "2018-07-14 0:05:21",
          "2018-07-14 0:03:46",
          "2018-07-14 0:03:46",
          "2018-07-14 0:13:58",
          "2018-07-14 0:14:04",
          "2018-07-14 0:14:04",
          "2018-07-14 0:13:58",
          "2018-07-14 0:13:58",
          "2018-07-14 0:02:54",
          "2018-07-14 0:03:46",
          "2018-07-14 0:03:46",
          "2018-07-14 0:02:54",
          "2018-07-14 0:02:54",
          "2018-07-14 0:12:53",
          "2018-07-14 0:13:58",
          "2018-07-14 0:13:58",
          "2018-07-14 0:12:53",
          "2018-07-14 0:12:53",
          "2018-07-14 0:17:03",
          "2018-07-14 0:17:28",
          "2018-07-14 0:17:28",
          "2018-07-14 0:17:03",
          "2018-07-14 0:17:03",
          "2018-07-14 0:05:21",
          "2018-07-14 0:06:09",
          "2018-07-14 0:06:09",
          "2018-07-14 0:05:21",
          "2018-07-14 0:05:21",
          "2018-07-14 0:06:09",
          "2018-07-14 0:07:21",
          "2018-07-14 0:07:21",
          "2018-07-14 0:06:09"
         ],
         "y": [
          8.8,
          8.8,
          9.2,
          9.2,
          null,
          7.8,
          7.8,
          8.2,
          8.2,
          null,
          6.8,
          6.8,
          7.2,
          7.2,
          null,
          5.8,
          5.8,
          6.2,
          6.2,
          null,
          4.8,
          4.8,
          5.2,
          5.2,
          null,
          3.8,
          3.8,
          4.2,
          4.2,
          null,
          2.8,
          2.8,
          3.2,
          3.2,
          null,
          1.8,
          1.8,
          2.2,
          2.2,
          null,
          0.8,
          0.8,
          1.2,
          1.2,
          null,
          -0.2,
          -0.2,
          0.2,
          0.2
         ]
        },
        {
         "fill": "toself",
         "fillcolor": "rgb(23, 190, 207)",
         "hoverinfo": "name",
         "legendgroup": "rgb(23, 190, 207)",
         "mode": "none",
         "name": "Job 9",
         "showlegend": true,
         "type": "scatter",
         "x": [
          "2018-07-14 0:00:00",
          "2018-07-14 0:01:16",
          "2018-07-14 0:01:16",
          "2018-07-14 0:00:00",
          "2018-07-14 0:00:00",
          "2018-07-14 0:02:54",
          "2018-07-14 0:04:03",
          "2018-07-14 0:04:03",
          "2018-07-14 0:02:54",
          "2018-07-14 0:02:54",
          "2018-07-14 0:07:28",
          "2018-07-14 0:08:53",
          "2018-07-14 0:08:53",
          "2018-07-14 0:07:28",
          "2018-07-14 0:07:28",
          "2018-07-14 0:05:21",
          "2018-07-14 0:06:37",
          "2018-07-14 0:06:37",
          "2018-07-14 0:05:21",
          "2018-07-14 0:05:21",
          "2018-07-14 0:14:25",
          "2018-07-14 0:14:51",
          "2018-07-14 0:14:51",
          "2018-07-14 0:14:25",
          "2018-07-14 0:14:25",
          "2018-07-14 0:06:37",
          "2018-07-14 0:07:28",
          "2018-07-14 0:07:28",
          "2018-07-14 0:06:37",
          "2018-07-14 0:06:37",
          "2018-07-14 0:10:17",
          "2018-07-14 0:10:57",
          "2018-07-14 0:10:57",
          "2018-07-14 0:10:17",
          "2018-07-14 0:10:17",
          "2018-07-14 0:12:56",
          "2018-07-14 0:14:25",
          "2018-07-14 0:14:25",
          "2018-07-14 0:12:56",
          "2018-07-14 0:12:56",
          "2018-07-14 0:14:51",
          "2018-07-14 0:16:05",
          "2018-07-14 0:16:05",
          "2018-07-14 0:14:51",
          "2018-07-14 0:14:51",
          "2018-07-14 0:09:10",
          "2018-07-14 0:09:21",
          "2018-07-14 0:09:21",
          "2018-07-14 0:09:10"
         ],
         "y": [
          8.8,
          8.8,
          9.2,
          9.2,
          null,
          7.8,
          7.8,
          8.2,
          8.2,
          null,
          6.8,
          6.8,
          7.2,
          7.2,
          null,
          5.8,
          5.8,
          6.2,
          6.2,
          null,
          4.8,
          4.8,
          5.2,
          5.2,
          null,
          3.8,
          3.8,
          4.2,
          4.2,
          null,
          2.8,
          2.8,
          3.2,
          3.2,
          null,
          1.8,
          1.8,
          2.2,
          2.2,
          null,
          0.8,
          0.8,
          1.2,
          1.2,
          null,
          -0.2,
          -0.2,
          0.2,
          0.2
         ]
        },
        {
         "fill": "toself",
         "fillcolor": "rgb(255, 127, 14)",
         "hoverinfo": "name",
         "legendgroup": "rgb(255, 127, 14)",
         "mode": "none",
         "name": "Job 10",
         "showlegend": true,
         "type": "scatter",
         "x": [
          "2018-07-14 0:08:08",
          "2018-07-14 0:08:21",
          "2018-07-14 0:08:21",
          "2018-07-14 0:08:08",
          "2018-07-14 0:08:08",
          "2018-07-14 0:06:29",
          "2018-07-14 0:07:54",
          "2018-07-14 0:07:54",
          "2018-07-14 0:06:29",
          "2018-07-14 0:06:29",
          "2018-07-14 0:10:07",
          "2018-07-14 0:11:08",
          "2018-07-14 0:11:08",
          "2018-07-14 0:10:07",
          "2018-07-14 0:10:07",
          "2018-07-14 0:15:05",
          "2018-07-14 0:15:57",
          "2018-07-14 0:15:57",
          "2018-07-14 0:15:05",
          "2018-07-14 0:15:05",
          "2018-07-14 0:15:57",
          "2018-07-14 0:17:27",
          "2018-07-14 0:17:27",
          "2018-07-14 0:15:57",
          "2018-07-14 0:15:57",
          "2018-07-14 0:14:18",
          "2018-07-14 0:15:05",
          "2018-07-14 0:15:05",
          "2018-07-14 0:14:18",
          "2018-07-14 0:14:18",
          "2018-07-14 0:11:08",
          "2018-07-14 0:11:15",
          "2018-07-14 0:11:15",
          "2018-07-14 0:11:08",
          "2018-07-14 0:11:08",
          "2018-07-14 0:17:28",
          "2018-07-14 0:18:13",
          "2018-07-14 0:18:13",
          "2018-07-14 0:17:28",
          "2018-07-14 0:17:28",
          "2018-07-14 0:11:58",
          "2018-07-14 0:13:02",
          "2018-07-14 0:13:02",
          "2018-07-14 0:11:58",
          "2018-07-14 0:11:58",
          "2018-07-14 0:13:02",
          "2018-07-14 0:14:18",
          "2018-07-14 0:14:18",
          "2018-07-14 0:13:02"
         ],
         "y": [
          8.8,
          8.8,
          9.2,
          9.2,
          null,
          7.8,
          7.8,
          8.2,
          8.2,
          null,
          6.8,
          6.8,
          7.2,
          7.2,
          null,
          5.8,
          5.8,
          6.2,
          6.2,
          null,
          4.8,
          4.8,
          5.2,
          5.2,
          null,
          3.8,
          3.8,
          4.2,
          4.2,
          null,
          2.8,
          2.8,
          3.2,
          3.2,
          null,
          1.8,
          1.8,
          2.2,
          2.2,
          null,
          0.8,
          0.8,
          1.2,
          1.2,
          null,
          -0.2,
          -0.2,
          0.2,
          0.2
         ]
        },
        {
         "fill": "toself",
         "fillcolor": "rgb(31, 119, 180)",
         "hoverinfo": "name",
         "legendgroup": "rgb(31, 119, 180)",
         "mode": "none",
         "name": "Job 1",
         "showlegend": true,
         "type": "scatter",
         "x": [
          "2018-07-14 0:01:16",
          "2018-07-14 0:01:45",
          "2018-07-14 0:01:45",
          "2018-07-14 0:01:16",
          "2018-07-14 0:01:16",
          "2018-07-14 0:04:49",
          "2018-07-14 0:06:07",
          "2018-07-14 0:06:07",
          "2018-07-14 0:04:49",
          "2018-07-14 0:04:49",
          "2018-07-14 0:06:07",
          "2018-07-14 0:06:16",
          "2018-07-14 0:06:16",
          "2018-07-14 0:06:07",
          "2018-07-14 0:06:07",
          "2018-07-14 0:06:37",
          "2018-07-14 0:07:13",
          "2018-07-14 0:07:13",
          "2018-07-14 0:06:37",
          "2018-07-14 0:06:37",
          "2018-07-14 0:08:15",
          "2018-07-14 0:09:04",
          "2018-07-14 0:09:04",
          "2018-07-14 0:08:15",
          "2018-07-14 0:08:15",
          "2018-07-14 0:09:04",
          "2018-07-14 0:09:15",
          "2018-07-14 0:09:15",
          "2018-07-14 0:09:04",
          "2018-07-14 0:09:04",
          "2018-07-14 0:09:15",
          "2018-07-14 0:10:17",
          "2018-07-14 0:10:17",
          "2018-07-14 0:09:15",
          "2018-07-14 0:09:15",
          "2018-07-14 0:11:11",
          "2018-07-14 0:12:07",
          "2018-07-14 0:12:07",
          "2018-07-14 0:11:11",
          "2018-07-14 0:11:11",
          "2018-07-14 0:13:02",
          "2018-07-14 0:13:46",
          "2018-07-14 0:13:46",
          "2018-07-14 0:13:02",
          "2018-07-14 0:13:02",
          "2018-07-14 0:17:09",
          "2018-07-14 0:17:30",
          "2018-07-14 0:17:30",
          "2018-07-14 0:17:09"
         ],
         "y": [
          8.8,
          8.8,
          9.2,
          9.2,
          null,
          7.8,
          7.8,
          8.2,
          8.2,
          null,
          6.8,
          6.8,
          7.2,
          7.2,
          null,
          5.8,
          5.8,
          6.2,
          6.2,
          null,
          4.8,
          4.8,
          5.2,
          5.2,
          null,
          3.8,
          3.8,
          4.2,
          4.2,
          null,
          2.8,
          2.8,
          3.2,
          3.2,
          null,
          1.8,
          1.8,
          2.2,
          2.2,
          null,
          0.8,
          0.8,
          1.2,
          1.2,
          null,
          -0.2,
          -0.2,
          0.2,
          0.2
         ]
        },
        {
         "fill": "toself",
         "fillcolor": "rgb(44, 160, 44)",
         "hoverinfo": "name",
         "legendgroup": "rgb(44, 160, 44)",
         "mode": "none",
         "name": "Job 2",
         "showlegend": true,
         "type": "scatter",
         "x": [
          "2018-07-14 0:03:11",
          "2018-07-14 0:03:54",
          "2018-07-14 0:03:54",
          "2018-07-14 0:03:11",
          "2018-07-14 0:03:11",
          "2018-07-14 0:11:39",
          "2018-07-14 0:12:07",
          "2018-07-14 0:12:07",
          "2018-07-14 0:11:39",
          "2018-07-14 0:11:39",
          "2018-07-14 0:03:54",
          "2018-07-14 0:05:24",
          "2018-07-14 0:05:24",
          "2018-07-14 0:03:54",
          "2018-07-14 0:03:54",
          "2018-07-14 0:10:30",
          "2018-07-14 0:11:39",
          "2018-07-14 0:11:39",
          "2018-07-14 0:10:30",
          "2018-07-14 0:10:30",
          "2018-07-14 0:09:04",
          "2018-07-14 0:10:19",
          "2018-07-14 0:10:19",
          "2018-07-14 0:09:04",
          "2018-07-14 0:09:04",
          "2018-07-14 0:15:05",
          "2018-07-14 0:15:51",
          "2018-07-14 0:15:51",
          "2018-07-14 0:15:05",
          "2018-07-14 0:15:05",
          "2018-07-14 0:12:07",
          "2018-07-14 0:12:53",
          "2018-07-14 0:12:53",
          "2018-07-14 0:12:07",
          "2018-07-14 0:12:07",
          "2018-07-14 0:15:51",
          "2018-07-14 0:17:03",
          "2018-07-14 0:17:03",
          "2018-07-14 0:15:51",
          "2018-07-14 0:15:51",
          "2018-07-14 0:17:34",
          "2018-07-14 0:18:04",
          "2018-07-14 0:18:04",
          "2018-07-14 0:17:34",
          "2018-07-14 0:17:34",
          "2018-07-14 0:10:19",
          "2018-07-14 0:10:30",
          "2018-07-14 0:10:30",
          "2018-07-14 0:10:19"
         ],
         "y": [
          8.8,
          8.8,
          9.2,
          9.2,
          null,
          7.8,
          7.8,
          8.2,
          8.2,
          null,
          6.8,
          6.8,
          7.2,
          7.2,
          null,
          5.8,
          5.8,
          6.2,
          6.2,
          null,
          4.8,
          4.8,
          5.2,
          5.2,
          null,
          3.8,
          3.8,
          4.2,
          4.2,
          null,
          2.8,
          2.8,
          3.2,
          3.2,
          null,
          1.8,
          1.8,
          2.2,
          2.2,
          null,
          0.8,
          0.8,
          1.2,
          1.2,
          null,
          -0.2,
          -0.2,
          0.2,
          0.2
         ]
        },
        {
         "legendgroup": "rgb(127, 127, 127)",
         "marker": {
          "color": "rgb(127, 127, 127)",
          "opacity": 0,
          "size": 1
         },
         "mode": "markers",
         "name": "",
         "showlegend": false,
         "text": [
          null,
          null,
          null,
          null,
          null,
          null,
          null,
          null,
          null,
          null,
          null,
          null,
          null,
          null,
          null,
          null,
          null,
          null,
          null,
          null
         ],
         "type": "scatter",
         "x": [
          "2018-07-14 0:08:40",
          "2018-07-14 0:09:17",
          "2018-07-14 0:07:54",
          "2018-07-14 0:08:40",
          "2018-07-14 0:11:08",
          "2018-07-14 0:11:21",
          "2018-07-14 0:09:17",
          "2018-07-14 0:10:18",
          "2018-07-14 0:18:43",
          "2018-07-14 0:19:38",
          "2018-07-14 0:11:53",
          "2018-07-14 0:12:14",
          "2018-07-14 0:11:21",
          "2018-07-14 0:11:53",
          "2018-07-14 0:18:13",
          "2018-07-14 0:18:43",
          "2018-07-14 0:16:05",
          "2018-07-14 0:17:34",
          "2018-07-14 0:15:30",
          "2018-07-14 0:16:02"
         ],
         "y": [
          9,
          9,
          8,
          8,
          7,
          7,
          6,
          6,
          5,
          5,
          4,
          4,
          3,
          3,
          2,
          2,
          1,
          1,
          0,
          0
         ]
        },
        {
         "legendgroup": "rgb(140, 86, 75)",
         "marker": {
          "color": "rgb(140, 86, 75)",
          "opacity": 0,
          "size": 1
         },
         "mode": "markers",
         "name": "",
         "showlegend": false,
         "text": [
          null,
          null,
          null,
          null,
          null,
          null,
          null,
          null,
          null,
          null,
          null,
          null,
          null,
          null,
          null,
          null,
          null,
          null,
          null,
          null
         ],
         "type": "scatter",
         "x": [
          "2018-07-14 0:05:19",
          "2018-07-14 0:05:25",
          "2018-07-14 0:06:07",
          "2018-07-14 0:06:29",
          "2018-07-14 0:01:55",
          "2018-07-14 0:02:09",
          "2018-07-14 0:08:29",
          "2018-07-14 0:08:55",
          "2018-07-14 0:10:19",
          "2018-07-14 0:11:28",
          "2018-07-14 0:07:28",
          "2018-07-14 0:08:29",
          "2018-07-14 0:16:06",
          "2018-07-14 0:16:59",
          "2018-07-14 0:12:07",
          "2018-07-14 0:12:56",
          "2018-07-14 0:11:37",
          "2018-07-14 0:11:58",
          "2018-07-14 0:14:18",
          "2018-07-14 0:15:30"
         ],
         "y": [
          9,
          9,
          8,
          8,
          7,
          7,
          6,
          6,
          5,
          5,
          4,
          4,
          3,
          3,
          2,
          2,
          1,
          1,
          0,
          0
         ]
        },
        {
         "legendgroup": "rgb(148, 103, 189)",
         "marker": {
          "color": "rgb(148, 103, 189)",
          "opacity": 0,
          "size": 1
         },
         "mode": "markers",
         "name": "",
         "showlegend": false,
         "text": [
          null,
          null,
          null,
          null,
          null,
          null,
          null,
          null,
          null,
          null,
          null,
          null,
          null,
          null,
          null,
          null,
          null,
          null,
          null,
          null
         ],
         "type": "scatter",
         "x": [
          "2018-07-14 0:05:25",
          "2018-07-14 0:06:36",
          "2018-07-14 0:00:00",
          "2018-07-14 0:01:21",
          "2018-07-14 0:02:09",
          "2018-07-14 0:03:44",
          "2018-07-14 0:11:39",
          "2018-07-14 0:13:17",
          "2018-07-14 0:06:36",
          "2018-07-14 0:08:15",
          "2018-07-14 0:16:24",
          "2018-07-14 0:17:07",
          "2018-07-14 0:08:15",
          "2018-07-14 0:08:24",
          "2018-07-14 0:09:46",
          "2018-07-14 0:11:11",
          "2018-07-14 0:08:24",
          "2018-07-14 0:09:16",
          "2018-07-14 0:16:02",
          "2018-07-14 0:16:24"
         ],
         "y": [
          9,
          9,
          8,
          8,
          7,
          7,
          6,
          6,
          5,
          5,
          4,
          4,
          3,
          3,
          2,
          2,
          1,
          1,
          0,
          0
         ]
        },
        {
         "legendgroup": "rgb(188, 189, 34)",
         "marker": {
          "color": "rgb(188, 189, 34)",
          "opacity": 0,
          "size": 1
         },
         "mode": "markers",
         "name": "",
         "showlegend": false,
         "text": [
          null,
          null,
          null,
          null,
          null,
          null,
          null,
          null,
          null,
          null,
          null,
          null,
          null,
          null,
          null,
          null,
          null,
          null,
          null,
          null
         ],
         "type": "scatter",
         "x": [
          "2018-07-14 0:01:45",
          "2018-07-14 0:03:11",
          "2018-07-14 0:04:03",
          "2018-07-14 0:04:49",
          "2018-07-14 0:00:00",
          "2018-07-14 0:00:31",
          "2018-07-14 0:15:57",
          "2018-07-14 0:17:16",
          "2018-07-14 0:06:03",
          "2018-07-14 0:06:35",
          "2018-07-14 0:04:49",
          "2018-07-14 0:06:03",
          "2018-07-14 0:06:35",
          "2018-07-14 0:08:03",
          "2018-07-14 0:09:10",
          "2018-07-14 0:09:46",
          "2018-07-14 0:08:03",
          "2018-07-14 0:08:22",
          "2018-07-14 0:08:22",
          "2018-07-14 0:09:10"
         ],
         "y": [
          9,
          9,
          8,
          8,
          7,
          7,
          6,
          6,
          5,
          5,
          4,
          4,
          3,
          3,
          2,
          2,
          1,
          1,
          0,
          0
         ]
        },
        {
         "legendgroup": "rgb(214, 39, 40)",
         "marker": {
          "color": "rgb(214, 39, 40)",
          "opacity": 0,
          "size": 1
         },
         "mode": "markers",
         "name": "",
         "showlegend": false,
         "text": [
          null,
          null,
          null,
          null,
          null,
          null,
          null,
          null,
          null,
          null,
          null,
          null,
          null,
          null,
          null,
          null,
          null,
          null,
          null,
          null
         ],
         "type": "scatter",
         "x": [
          "2018-07-14 0:03:54",
          "2018-07-14 0:05:19",
          "2018-07-14 0:01:21",
          "2018-07-14 0:02:52",
          "2018-07-14 0:08:53",
          "2018-07-14 0:10:07",
          "2018-07-14 0:07:13",
          "2018-07-14 0:07:52",
          "2018-07-14 0:17:27",
          "2018-07-14 0:18:00",
          "2018-07-14 0:11:37",
          "2018-07-14 0:11:47",
          "2018-07-14 0:14:37",
          "2018-07-14 0:16:06",
          "2018-07-14 0:14:25",
          "2018-07-14 0:14:37",
          "2018-07-14 0:10:07",
          "2018-07-14 0:11:37",
          "2018-07-14 0:16:24",
          "2018-07-14 0:17:09"
         ],
         "y": [
          9,
          9,
          8,
          8,
          7,
          7,
          6,
          6,
          5,
          5,
          4,
          4,
          3,
          3,
          2,
          2,
          1,
          1,
          0,
          0
         ]
        },
        {
         "legendgroup": "rgb(227, 119, 194)",
         "marker": {
          "color": "rgb(227, 119, 194)",
          "opacity": 0,
          "size": 1
         },
         "mode": "markers",
         "name": "",
         "showlegend": false,
         "text": [
          null,
          null,
          null,
          null,
          null,
          null,
          null,
          null,
          null,
          null,
          null,
          null,
          null,
          null,
          null,
          null,
          null,
          null,
          null,
          null
         ],
         "type": "scatter",
         "x": [
          "2018-07-14 0:07:21",
          "2018-07-14 0:08:08",
          "2018-07-14 0:02:52",
          "2018-07-14 0:02:54",
          "2018-07-14 0:00:31",
          "2018-07-14 0:01:55",
          "2018-07-14 0:03:46",
          "2018-07-14 0:05:21",
          "2018-07-14 0:13:58",
          "2018-07-14 0:14:04",
          "2018-07-14 0:02:54",
          "2018-07-14 0:03:46",
          "2018-07-14 0:12:53",
          "2018-07-14 0:13:58",
          "2018-07-14 0:17:03",
          "2018-07-14 0:17:28",
          "2018-07-14 0:05:21",
          "2018-07-14 0:06:09",
          "2018-07-14 0:06:09",
          "2018-07-14 0:07:21"
         ],
         "y": [
          9,
          9,
          8,
          8,
          7,
          7,
          6,
          6,
          5,
          5,
          4,
          4,
          3,
          3,
          2,
          2,
          1,
          1,
          0,
          0
         ]
        },
        {
         "legendgroup": "rgb(23, 190, 207)",
         "marker": {
          "color": "rgb(23, 190, 207)",
          "opacity": 0,
          "size": 1
         },
         "mode": "markers",
         "name": "",
         "showlegend": false,
         "text": [
          null,
          null,
          null,
          null,
          null,
          null,
          null,
          null,
          null,
          null,
          null,
          null,
          null,
          null,
          null,
          null,
          null,
          null,
          null,
          null
         ],
         "type": "scatter",
         "x": [
          "2018-07-14 0:00:00",
          "2018-07-14 0:01:16",
          "2018-07-14 0:02:54",
          "2018-07-14 0:04:03",
          "2018-07-14 0:07:28",
          "2018-07-14 0:08:53",
          "2018-07-14 0:05:21",
          "2018-07-14 0:06:37",
          "2018-07-14 0:14:25",
          "2018-07-14 0:14:51",
          "2018-07-14 0:06:37",
          "2018-07-14 0:07:28",
          "2018-07-14 0:10:17",
          "2018-07-14 0:10:57",
          "2018-07-14 0:12:56",
          "2018-07-14 0:14:25",
          "2018-07-14 0:14:51",
          "2018-07-14 0:16:05",
          "2018-07-14 0:09:10",
          "2018-07-14 0:09:21"
         ],
         "y": [
          9,
          9,
          8,
          8,
          7,
          7,
          6,
          6,
          5,
          5,
          4,
          4,
          3,
          3,
          2,
          2,
          1,
          1,
          0,
          0
         ]
        },
        {
         "legendgroup": "rgb(255, 127, 14)",
         "marker": {
          "color": "rgb(255, 127, 14)",
          "opacity": 0,
          "size": 1
         },
         "mode": "markers",
         "name": "",
         "showlegend": false,
         "text": [
          null,
          null,
          null,
          null,
          null,
          null,
          null,
          null,
          null,
          null,
          null,
          null,
          null,
          null,
          null,
          null,
          null,
          null,
          null,
          null
         ],
         "type": "scatter",
         "x": [
          "2018-07-14 0:08:08",
          "2018-07-14 0:08:21",
          "2018-07-14 0:06:29",
          "2018-07-14 0:07:54",
          "2018-07-14 0:10:07",
          "2018-07-14 0:11:08",
          "2018-07-14 0:15:05",
          "2018-07-14 0:15:57",
          "2018-07-14 0:15:57",
          "2018-07-14 0:17:27",
          "2018-07-14 0:14:18",
          "2018-07-14 0:15:05",
          "2018-07-14 0:11:08",
          "2018-07-14 0:11:15",
          "2018-07-14 0:17:28",
          "2018-07-14 0:18:13",
          "2018-07-14 0:11:58",
          "2018-07-14 0:13:02",
          "2018-07-14 0:13:02",
          "2018-07-14 0:14:18"
         ],
         "y": [
          9,
          9,
          8,
          8,
          7,
          7,
          6,
          6,
          5,
          5,
          4,
          4,
          3,
          3,
          2,
          2,
          1,
          1,
          0,
          0
         ]
        },
        {
         "legendgroup": "rgb(31, 119, 180)",
         "marker": {
          "color": "rgb(31, 119, 180)",
          "opacity": 0,
          "size": 1
         },
         "mode": "markers",
         "name": "",
         "showlegend": false,
         "text": [
          null,
          null,
          null,
          null,
          null,
          null,
          null,
          null,
          null,
          null,
          null,
          null,
          null,
          null,
          null,
          null,
          null,
          null,
          null,
          null
         ],
         "type": "scatter",
         "x": [
          "2018-07-14 0:01:16",
          "2018-07-14 0:01:45",
          "2018-07-14 0:04:49",
          "2018-07-14 0:06:07",
          "2018-07-14 0:06:07",
          "2018-07-14 0:06:16",
          "2018-07-14 0:06:37",
          "2018-07-14 0:07:13",
          "2018-07-14 0:08:15",
          "2018-07-14 0:09:04",
          "2018-07-14 0:09:04",
          "2018-07-14 0:09:15",
          "2018-07-14 0:09:15",
          "2018-07-14 0:10:17",
          "2018-07-14 0:11:11",
          "2018-07-14 0:12:07",
          "2018-07-14 0:13:02",
          "2018-07-14 0:13:46",
          "2018-07-14 0:17:09",
          "2018-07-14 0:17:30"
         ],
         "y": [
          9,
          9,
          8,
          8,
          7,
          7,
          6,
          6,
          5,
          5,
          4,
          4,
          3,
          3,
          2,
          2,
          1,
          1,
          0,
          0
         ]
        },
        {
         "legendgroup": "rgb(44, 160, 44)",
         "marker": {
          "color": "rgb(44, 160, 44)",
          "opacity": 0,
          "size": 1
         },
         "mode": "markers",
         "name": "",
         "showlegend": false,
         "text": [
          null,
          null,
          null,
          null,
          null,
          null,
          null,
          null,
          null,
          null,
          null,
          null,
          null,
          null,
          null,
          null,
          null,
          null,
          null,
          null
         ],
         "type": "scatter",
         "x": [
          "2018-07-14 0:03:11",
          "2018-07-14 0:03:54",
          "2018-07-14 0:11:39",
          "2018-07-14 0:12:07",
          "2018-07-14 0:03:54",
          "2018-07-14 0:05:24",
          "2018-07-14 0:10:30",
          "2018-07-14 0:11:39",
          "2018-07-14 0:09:04",
          "2018-07-14 0:10:19",
          "2018-07-14 0:15:05",
          "2018-07-14 0:15:51",
          "2018-07-14 0:12:07",
          "2018-07-14 0:12:53",
          "2018-07-14 0:15:51",
          "2018-07-14 0:17:03",
          "2018-07-14 0:17:34",
          "2018-07-14 0:18:04",
          "2018-07-14 0:10:19",
          "2018-07-14 0:10:30"
         ],
         "y": [
          9,
          9,
          8,
          8,
          7,
          7,
          6,
          6,
          5,
          5,
          4,
          4,
          3,
          3,
          2,
          2,
          1,
          1,
          0,
          0
         ]
        }
       ],
       "layout": {
        "autosize": true,
        "hovermode": "closest",
        "showlegend": true,
        "template": {
         "data": {
          "bar": [
           {
            "error_x": {
             "color": "#2a3f5f"
            },
            "error_y": {
             "color": "#2a3f5f"
            },
            "marker": {
             "line": {
              "color": "#E5ECF6",
              "width": 0.5
             },
             "pattern": {
              "fillmode": "overlay",
              "size": 10,
              "solidity": 0.2
             }
            },
            "type": "bar"
           }
          ],
          "barpolar": [
           {
            "marker": {
             "line": {
              "color": "#E5ECF6",
              "width": 0.5
             },
             "pattern": {
              "fillmode": "overlay",
              "size": 10,
              "solidity": 0.2
             }
            },
            "type": "barpolar"
           }
          ],
          "carpet": [
           {
            "aaxis": {
             "endlinecolor": "#2a3f5f",
             "gridcolor": "white",
             "linecolor": "white",
             "minorgridcolor": "white",
             "startlinecolor": "#2a3f5f"
            },
            "baxis": {
             "endlinecolor": "#2a3f5f",
             "gridcolor": "white",
             "linecolor": "white",
             "minorgridcolor": "white",
             "startlinecolor": "#2a3f5f"
            },
            "type": "carpet"
           }
          ],
          "choropleth": [
           {
            "colorbar": {
             "outlinewidth": 0,
             "ticks": ""
            },
            "type": "choropleth"
           }
          ],
          "contour": [
           {
            "colorbar": {
             "outlinewidth": 0,
             "ticks": ""
            },
            "colorscale": [
             [
              0,
              "#0d0887"
             ],
             [
              0.1111111111111111,
              "#46039f"
             ],
             [
              0.2222222222222222,
              "#7201a8"
             ],
             [
              0.3333333333333333,
              "#9c179e"
             ],
             [
              0.4444444444444444,
              "#bd3786"
             ],
             [
              0.5555555555555556,
              "#d8576b"
             ],
             [
              0.6666666666666666,
              "#ed7953"
             ],
             [
              0.7777777777777778,
              "#fb9f3a"
             ],
             [
              0.8888888888888888,
              "#fdca26"
             ],
             [
              1,
              "#f0f921"
             ]
            ],
            "type": "contour"
           }
          ],
          "contourcarpet": [
           {
            "colorbar": {
             "outlinewidth": 0,
             "ticks": ""
            },
            "type": "contourcarpet"
           }
          ],
          "heatmap": [
           {
            "colorbar": {
             "outlinewidth": 0,
             "ticks": ""
            },
            "colorscale": [
             [
              0,
              "#0d0887"
             ],
             [
              0.1111111111111111,
              "#46039f"
             ],
             [
              0.2222222222222222,
              "#7201a8"
             ],
             [
              0.3333333333333333,
              "#9c179e"
             ],
             [
              0.4444444444444444,
              "#bd3786"
             ],
             [
              0.5555555555555556,
              "#d8576b"
             ],
             [
              0.6666666666666666,
              "#ed7953"
             ],
             [
              0.7777777777777778,
              "#fb9f3a"
             ],
             [
              0.8888888888888888,
              "#fdca26"
             ],
             [
              1,
              "#f0f921"
             ]
            ],
            "type": "heatmap"
           }
          ],
          "heatmapgl": [
           {
            "colorbar": {
             "outlinewidth": 0,
             "ticks": ""
            },
            "colorscale": [
             [
              0,
              "#0d0887"
             ],
             [
              0.1111111111111111,
              "#46039f"
             ],
             [
              0.2222222222222222,
              "#7201a8"
             ],
             [
              0.3333333333333333,
              "#9c179e"
             ],
             [
              0.4444444444444444,
              "#bd3786"
             ],
             [
              0.5555555555555556,
              "#d8576b"
             ],
             [
              0.6666666666666666,
              "#ed7953"
             ],
             [
              0.7777777777777778,
              "#fb9f3a"
             ],
             [
              0.8888888888888888,
              "#fdca26"
             ],
             [
              1,
              "#f0f921"
             ]
            ],
            "type": "heatmapgl"
           }
          ],
          "histogram": [
           {
            "marker": {
             "pattern": {
              "fillmode": "overlay",
              "size": 10,
              "solidity": 0.2
             }
            },
            "type": "histogram"
           }
          ],
          "histogram2d": [
           {
            "colorbar": {
             "outlinewidth": 0,
             "ticks": ""
            },
            "colorscale": [
             [
              0,
              "#0d0887"
             ],
             [
              0.1111111111111111,
              "#46039f"
             ],
             [
              0.2222222222222222,
              "#7201a8"
             ],
             [
              0.3333333333333333,
              "#9c179e"
             ],
             [
              0.4444444444444444,
              "#bd3786"
             ],
             [
              0.5555555555555556,
              "#d8576b"
             ],
             [
              0.6666666666666666,
              "#ed7953"
             ],
             [
              0.7777777777777778,
              "#fb9f3a"
             ],
             [
              0.8888888888888888,
              "#fdca26"
             ],
             [
              1,
              "#f0f921"
             ]
            ],
            "type": "histogram2d"
           }
          ],
          "histogram2dcontour": [
           {
            "colorbar": {
             "outlinewidth": 0,
             "ticks": ""
            },
            "colorscale": [
             [
              0,
              "#0d0887"
             ],
             [
              0.1111111111111111,
              "#46039f"
             ],
             [
              0.2222222222222222,
              "#7201a8"
             ],
             [
              0.3333333333333333,
              "#9c179e"
             ],
             [
              0.4444444444444444,
              "#bd3786"
             ],
             [
              0.5555555555555556,
              "#d8576b"
             ],
             [
              0.6666666666666666,
              "#ed7953"
             ],
             [
              0.7777777777777778,
              "#fb9f3a"
             ],
             [
              0.8888888888888888,
              "#fdca26"
             ],
             [
              1,
              "#f0f921"
             ]
            ],
            "type": "histogram2dcontour"
           }
          ],
          "mesh3d": [
           {
            "colorbar": {
             "outlinewidth": 0,
             "ticks": ""
            },
            "type": "mesh3d"
           }
          ],
          "parcoords": [
           {
            "line": {
             "colorbar": {
              "outlinewidth": 0,
              "ticks": ""
             }
            },
            "type": "parcoords"
           }
          ],
          "pie": [
           {
            "automargin": true,
            "type": "pie"
           }
          ],
          "scatter": [
           {
            "fillpattern": {
             "fillmode": "overlay",
             "size": 10,
             "solidity": 0.2
            },
            "type": "scatter"
           }
          ],
          "scatter3d": [
           {
            "line": {
             "colorbar": {
              "outlinewidth": 0,
              "ticks": ""
             }
            },
            "marker": {
             "colorbar": {
              "outlinewidth": 0,
              "ticks": ""
             }
            },
            "type": "scatter3d"
           }
          ],
          "scattercarpet": [
           {
            "marker": {
             "colorbar": {
              "outlinewidth": 0,
              "ticks": ""
             }
            },
            "type": "scattercarpet"
           }
          ],
          "scattergeo": [
           {
            "marker": {
             "colorbar": {
              "outlinewidth": 0,
              "ticks": ""
             }
            },
            "type": "scattergeo"
           }
          ],
          "scattergl": [
           {
            "marker": {
             "colorbar": {
              "outlinewidth": 0,
              "ticks": ""
             }
            },
            "type": "scattergl"
           }
          ],
          "scattermapbox": [
           {
            "marker": {
             "colorbar": {
              "outlinewidth": 0,
              "ticks": ""
             }
            },
            "type": "scattermapbox"
           }
          ],
          "scatterpolar": [
           {
            "marker": {
             "colorbar": {
              "outlinewidth": 0,
              "ticks": ""
             }
            },
            "type": "scatterpolar"
           }
          ],
          "scatterpolargl": [
           {
            "marker": {
             "colorbar": {
              "outlinewidth": 0,
              "ticks": ""
             }
            },
            "type": "scatterpolargl"
           }
          ],
          "scatterternary": [
           {
            "marker": {
             "colorbar": {
              "outlinewidth": 0,
              "ticks": ""
             }
            },
            "type": "scatterternary"
           }
          ],
          "surface": [
           {
            "colorbar": {
             "outlinewidth": 0,
             "ticks": ""
            },
            "colorscale": [
             [
              0,
              "#0d0887"
             ],
             [
              0.1111111111111111,
              "#46039f"
             ],
             [
              0.2222222222222222,
              "#7201a8"
             ],
             [
              0.3333333333333333,
              "#9c179e"
             ],
             [
              0.4444444444444444,
              "#bd3786"
             ],
             [
              0.5555555555555556,
              "#d8576b"
             ],
             [
              0.6666666666666666,
              "#ed7953"
             ],
             [
              0.7777777777777778,
              "#fb9f3a"
             ],
             [
              0.8888888888888888,
              "#fdca26"
             ],
             [
              1,
              "#f0f921"
             ]
            ],
            "type": "surface"
           }
          ],
          "table": [
           {
            "cells": {
             "fill": {
              "color": "#EBF0F8"
             },
             "line": {
              "color": "white"
             }
            },
            "header": {
             "fill": {
              "color": "#C8D4E3"
             },
             "line": {
              "color": "white"
             }
            },
            "type": "table"
           }
          ]
         },
         "layout": {
          "annotationdefaults": {
           "arrowcolor": "#2a3f5f",
           "arrowhead": 0,
           "arrowwidth": 1
          },
          "autotypenumbers": "strict",
          "coloraxis": {
           "colorbar": {
            "outlinewidth": 0,
            "ticks": ""
           }
          },
          "colorscale": {
           "diverging": [
            [
             0,
             "#8e0152"
            ],
            [
             0.1,
             "#c51b7d"
            ],
            [
             0.2,
             "#de77ae"
            ],
            [
             0.3,
             "#f1b6da"
            ],
            [
             0.4,
             "#fde0ef"
            ],
            [
             0.5,
             "#f7f7f7"
            ],
            [
             0.6,
             "#e6f5d0"
            ],
            [
             0.7,
             "#b8e186"
            ],
            [
             0.8,
             "#7fbc41"
            ],
            [
             0.9,
             "#4d9221"
            ],
            [
             1,
             "#276419"
            ]
           ],
           "sequential": [
            [
             0,
             "#0d0887"
            ],
            [
             0.1111111111111111,
             "#46039f"
            ],
            [
             0.2222222222222222,
             "#7201a8"
            ],
            [
             0.3333333333333333,
             "#9c179e"
            ],
            [
             0.4444444444444444,
             "#bd3786"
            ],
            [
             0.5555555555555556,
             "#d8576b"
            ],
            [
             0.6666666666666666,
             "#ed7953"
            ],
            [
             0.7777777777777778,
             "#fb9f3a"
            ],
            [
             0.8888888888888888,
             "#fdca26"
            ],
            [
             1,
             "#f0f921"
            ]
           ],
           "sequentialminus": [
            [
             0,
             "#0d0887"
            ],
            [
             0.1111111111111111,
             "#46039f"
            ],
            [
             0.2222222222222222,
             "#7201a8"
            ],
            [
             0.3333333333333333,
             "#9c179e"
            ],
            [
             0.4444444444444444,
             "#bd3786"
            ],
            [
             0.5555555555555556,
             "#d8576b"
            ],
            [
             0.6666666666666666,
             "#ed7953"
            ],
            [
             0.7777777777777778,
             "#fb9f3a"
            ],
            [
             0.8888888888888888,
             "#fdca26"
            ],
            [
             1,
             "#f0f921"
            ]
           ]
          },
          "colorway": [
           "#636efa",
           "#EF553B",
           "#00cc96",
           "#ab63fa",
           "#FFA15A",
           "#19d3f3",
           "#FF6692",
           "#B6E880",
           "#FF97FF",
           "#FECB52"
          ],
          "font": {
           "color": "#2a3f5f"
          },
          "geo": {
           "bgcolor": "white",
           "lakecolor": "white",
           "landcolor": "#E5ECF6",
           "showlakes": true,
           "showland": true,
           "subunitcolor": "white"
          },
          "hoverlabel": {
           "align": "left"
          },
          "hovermode": "closest",
          "mapbox": {
           "style": "light"
          },
          "paper_bgcolor": "white",
          "plot_bgcolor": "#E5ECF6",
          "polar": {
           "angularaxis": {
            "gridcolor": "white",
            "linecolor": "white",
            "ticks": ""
           },
           "bgcolor": "#E5ECF6",
           "radialaxis": {
            "gridcolor": "white",
            "linecolor": "white",
            "ticks": ""
           }
          },
          "scene": {
           "xaxis": {
            "backgroundcolor": "#E5ECF6",
            "gridcolor": "white",
            "gridwidth": 2,
            "linecolor": "white",
            "showbackground": true,
            "ticks": "",
            "zerolinecolor": "white"
           },
           "yaxis": {
            "backgroundcolor": "#E5ECF6",
            "gridcolor": "white",
            "gridwidth": 2,
            "linecolor": "white",
            "showbackground": true,
            "ticks": "",
            "zerolinecolor": "white"
           },
           "zaxis": {
            "backgroundcolor": "#E5ECF6",
            "gridcolor": "white",
            "gridwidth": 2,
            "linecolor": "white",
            "showbackground": true,
            "ticks": "",
            "zerolinecolor": "white"
           }
          },
          "shapedefaults": {
           "line": {
            "color": "#2a3f5f"
           }
          },
          "ternary": {
           "aaxis": {
            "gridcolor": "white",
            "linecolor": "white",
            "ticks": ""
           },
           "baxis": {
            "gridcolor": "white",
            "linecolor": "white",
            "ticks": ""
           },
           "bgcolor": "#E5ECF6",
           "caxis": {
            "gridcolor": "white",
            "linecolor": "white",
            "ticks": ""
           }
          },
          "title": {
           "x": 0.05
          },
          "xaxis": {
           "automargin": true,
           "gridcolor": "white",
           "linecolor": "white",
           "ticks": "",
           "title": {
            "standoff": 15
           },
           "zerolinecolor": "white",
           "zerolinewidth": 2
          },
          "yaxis": {
           "automargin": true,
           "gridcolor": "white",
           "linecolor": "white",
           "ticks": "",
           "title": {
            "standoff": 15
           },
           "zerolinecolor": "white",
           "zerolinewidth": 2
          }
         }
        },
        "title": {
         "text": "objective: (due date, complete time)"
        },
        "xaxis": {
         "autorange": true,
         "range": [
          "2018-07-13 23:58:45.1187",
          "2018-07-14 00:20:52.8813"
         ],
         "rangeselector": {
          "buttons": [
           {
            "count": 7,
            "label": "1w",
            "step": "day",
            "stepmode": "backward"
           },
           {
            "count": 1,
            "label": "1m",
            "step": "month",
            "stepmode": "backward"
           },
           {
            "count": 6,
            "label": "6m",
            "step": "month",
            "stepmode": "backward"
           },
           {
            "count": 1,
            "label": "YTD",
            "step": "year",
            "stepmode": "todate"
           },
           {
            "count": 1,
            "label": "1y",
            "step": "year",
            "stepmode": "backward"
           },
           {
            "step": "all"
           }
          ]
         },
         "showgrid": true,
         "type": "date",
         "zeroline": false
        },
        "yaxis": {
         "autorange": false,
         "range": [
          -1,
          11
         ],
         "showgrid": false,
         "ticktext": [
          "Machine 10",
          "Machine 9",
          "Machine 8",
          "Machine 7",
          "Machine 6",
          "Machine 5",
          "Machine 4",
          "Machine 3",
          "Machine 2",
          "Machine 1"
         ],
         "tickvals": [
          0,
          1,
          2,
          3,
          4,
          5,
          6,
          7,
          8,
          9
         ],
         "type": "linear",
         "zeroline": false
        }
       }
      },
      "image/png": "[encoded data removed]",
      "text/html": [
       "<div>                            <div id=\"e6a5e1fb-33f3-4c4f-bb48-1c4482945d56\" class=\"plotly-graph-div\" style=\"height:600px; width:100%;\"></div>            <script type=\"text/javascript\">                require([\"plotly\"], function(Plotly) {                    window.PLOTLYENV=window.PLOTLYENV || {};                                    if (document.getElementById(\"e6a5e1fb-33f3-4c4f-bb48-1c4482945d56\")) {                    Plotly.newPlot(                        \"e6a5e1fb-33f3-4c4f-bb48-1c4482945d56\",                        [{\"fill\":\"toself\",\"fillcolor\":\"rgb(127, 127, 127)\",\"hoverinfo\":\"name\",\"legendgroup\":\"rgb(127, 127, 127)\",\"mode\":\"none\",\"name\":\"Job 7\",\"showlegend\":true,\"x\":[\"2018-07-14 0:08:40\",\"2018-07-14 0:09:17\",\"2018-07-14 0:09:17\",\"2018-07-14 0:08:40\",\"2018-07-14 0:08:40\",\"2018-07-14 0:07:54\",\"2018-07-14 0:08:40\",\"2018-07-14 0:08:40\",\"2018-07-14 0:07:54\",\"2018-07-14 0:07:54\",\"2018-07-14 0:11:08\",\"2018-07-14 0:11:21\",\"2018-07-14 0:11:21\",\"2018-07-14 0:11:08\",\"2018-07-14 0:11:08\",\"2018-07-14 0:09:17\",\"2018-07-14 0:10:18\",\"2018-07-14 0:10:18\",\"2018-07-14 0:09:17\",\"2018-07-14 0:09:17\",\"2018-07-14 0:18:43\",\"2018-07-14 0:19:38\",\"2018-07-14 0:19:38\",\"2018-07-14 0:18:43\",\"2018-07-14 0:18:43\",\"2018-07-14 0:11:53\",\"2018-07-14 0:12:14\",\"2018-07-14 0:12:14\",\"2018-07-14 0:11:53\",\"2018-07-14 0:11:53\",\"2018-07-14 0:11:21\",\"2018-07-14 0:11:53\",\"2018-07-14 0:11:53\",\"2018-07-14 0:11:21\",\"2018-07-14 0:11:21\",\"2018-07-14 0:18:13\",\"2018-07-14 0:18:43\",\"2018-07-14 0:18:43\",\"2018-07-14 0:18:13\",\"2018-07-14 0:18:13\",\"2018-07-14 0:16:05\",\"2018-07-14 0:17:34\",\"2018-07-14 0:17:34\",\"2018-07-14 0:16:05\",\"2018-07-14 0:16:05\",\"2018-07-14 0:15:30\",\"2018-07-14 0:16:02\",\"2018-07-14 0:16:02\",\"2018-07-14 0:15:30\"],\"y\":[8.8,8.8,9.2,9.2,null,7.8,7.8,8.2,8.2,null,6.8,6.8,7.2,7.2,null,5.8,5.8,6.2,6.2,null,4.8,4.8,5.2,5.2,null,3.8,3.8,4.2,4.2,null,2.8,2.8,3.2,3.2,null,1.8,1.8,2.2,2.2,null,0.8,0.8,1.2,1.2,null,-0.2,-0.2,0.2,0.2],\"type\":\"scatter\"},{\"fill\":\"toself\",\"fillcolor\":\"rgb(140, 86, 75)\",\"hoverinfo\":\"name\",\"legendgroup\":\"rgb(140, 86, 75)\",\"mode\":\"none\",\"name\":\"Job 5\",\"showlegend\":true,\"x\":[\"2018-07-14 0:05:19\",\"2018-07-14 0:05:25\",\"2018-07-14 0:05:25\",\"2018-07-14 0:05:19\",\"2018-07-14 0:05:19\",\"2018-07-14 0:06:07\",\"2018-07-14 0:06:29\",\"2018-07-14 0:06:29\",\"2018-07-14 0:06:07\",\"2018-07-14 0:06:07\",\"2018-07-14 0:01:55\",\"2018-07-14 0:02:09\",\"2018-07-14 0:02:09\",\"2018-07-14 0:01:55\",\"2018-07-14 0:01:55\",\"2018-07-14 0:08:29\",\"2018-07-14 0:08:55\",\"2018-07-14 0:08:55\",\"2018-07-14 0:08:29\",\"2018-07-14 0:08:29\",\"2018-07-14 0:10:19\",\"2018-07-14 0:11:28\",\"2018-07-14 0:11:28\",\"2018-07-14 0:10:19\",\"2018-07-14 0:10:19\",\"2018-07-14 0:07:28\",\"2018-07-14 0:08:29\",\"2018-07-14 0:08:29\",\"2018-07-14 0:07:28\",\"2018-07-14 0:07:28\",\"2018-07-14 0:16:06\",\"2018-07-14 0:16:59\",\"2018-07-14 0:16:59\",\"2018-07-14 0:16:06\",\"2018-07-14 0:16:06\",\"2018-07-14 0:12:07\",\"2018-07-14 0:12:56\",\"2018-07-14 0:12:56\",\"2018-07-14 0:12:07\",\"2018-07-14 0:12:07\",\"2018-07-14 0:11:37\",\"2018-07-14 0:11:58\",\"2018-07-14 0:11:58\",\"2018-07-14 0:11:37\",\"2018-07-14 0:11:37\",\"2018-07-14 0:14:18\",\"2018-07-14 0:15:30\",\"2018-07-14 0:15:30\",\"2018-07-14 0:14:18\"],\"y\":[8.8,8.8,9.2,9.2,null,7.8,7.8,8.2,8.2,null,6.8,6.8,7.2,7.2,null,5.8,5.8,6.2,6.2,null,4.8,4.8,5.2,5.2,null,3.8,3.8,4.2,4.2,null,2.8,2.8,3.2,3.2,null,1.8,1.8,2.2,2.2,null,0.8,0.8,1.2,1.2,null,-0.2,-0.2,0.2,0.2],\"type\":\"scatter\"},{\"fill\":\"toself\",\"fillcolor\":\"rgb(148, 103, 189)\",\"hoverinfo\":\"name\",\"legendgroup\":\"rgb(148, 103, 189)\",\"mode\":\"none\",\"name\":\"Job 4\",\"showlegend\":true,\"x\":[\"2018-07-14 0:05:25\",\"2018-07-14 0:06:36\",\"2018-07-14 0:06:36\",\"2018-07-14 0:05:25\",\"2018-07-14 0:05:25\",\"2018-07-14 0:00:00\",\"2018-07-14 0:01:21\",\"2018-07-14 0:01:21\",\"2018-07-14 0:00:00\",\"2018-07-14 0:00:00\",\"2018-07-14 0:02:09\",\"2018-07-14 0:03:44\",\"2018-07-14 0:03:44\",\"2018-07-14 0:02:09\",\"2018-07-14 0:02:09\",\"2018-07-14 0:11:39\",\"2018-07-14 0:13:17\",\"2018-07-14 0:13:17\",\"2018-07-14 0:11:39\",\"2018-07-14 0:11:39\",\"2018-07-14 0:06:36\",\"2018-07-14 0:08:15\",\"2018-07-14 0:08:15\",\"2018-07-14 0:06:36\",\"2018-07-14 0:06:36\",\"2018-07-14 0:16:24\",\"2018-07-14 0:17:07\",\"2018-07-14 0:17:07\",\"2018-07-14 0:16:24\",\"2018-07-14 0:16:24\",\"2018-07-14 0:08:15\",\"2018-07-14 0:08:24\",\"2018-07-14 0:08:24\",\"2018-07-14 0:08:15\",\"2018-07-14 0:08:15\",\"2018-07-14 0:09:46\",\"2018-07-14 0:11:11\",\"2018-07-14 0:11:11\",\"2018-07-14 0:09:46\",\"2018-07-14 0:09:46\",\"2018-07-14 0:08:24\",\"2018-07-14 0:09:16\",\"2018-07-14 0:09:16\",\"2018-07-14 0:08:24\",\"2018-07-14 0:08:24\",\"2018-07-14 0:16:02\",\"2018-07-14 0:16:24\",\"2018-07-14 0:16:24\",\"2018-07-14 0:16:02\"],\"y\":[8.8,8.8,9.2,9.2,null,7.8,7.8,8.2,8.2,null,6.8,6.8,7.2,7.2,null,5.8,5.8,6.2,6.2,null,4.8,4.8,5.2,5.2,null,3.8,3.8,4.2,4.2,null,2.8,2.8,3.2,3.2,null,1.8,1.8,2.2,2.2,null,0.8,0.8,1.2,1.2,null,-0.2,-0.2,0.2,0.2],\"type\":\"scatter\"},{\"fill\":\"toself\",\"fillcolor\":\"rgb(188, 189, 34)\",\"hoverinfo\":\"name\",\"legendgroup\":\"rgb(188, 189, 34)\",\"mode\":\"none\",\"name\":\"Job 8\",\"showlegend\":true,\"x\":[\"2018-07-14 0:01:45\",\"2018-07-14 0:03:11\",\"2018-07-14 0:03:11\",\"2018-07-14 0:01:45\",\"2018-07-14 0:01:45\",\"2018-07-14 0:04:03\",\"2018-07-14 0:04:49\",\"2018-07-14 0:04:49\",\"2018-07-14 0:04:03\",\"2018-07-14 0:04:03\",\"2018-07-14 0:00:00\",\"2018-07-14 0:00:31\",\"2018-07-14 0:00:31\",\"2018-07-14 0:00:00\",\"2018-07-14 0:00:00\",\"2018-07-14 0:15:57\",\"2018-07-14 0:17:16\",\"2018-07-14 0:17:16\",\"2018-07-14 0:15:57\",\"2018-07-14 0:15:57\",\"2018-07-14 0:06:03\",\"2018-07-14 0:06:35\",\"2018-07-14 0:06:35\",\"2018-07-14 0:06:03\",\"2018-07-14 0:06:03\",\"2018-07-14 0:04:49\",\"2018-07-14 0:06:03\",\"2018-07-14 0:06:03\",\"2018-07-14 0:04:49\",\"2018-07-14 0:04:49\",\"2018-07-14 0:06:35\",\"2018-07-14 0:08:03\",\"2018-07-14 0:08:03\",\"2018-07-14 0:06:35\",\"2018-07-14 0:06:35\",\"2018-07-14 0:09:10\",\"2018-07-14 0:09:46\",\"2018-07-14 0:09:46\",\"2018-07-14 0:09:10\",\"2018-07-14 0:09:10\",\"2018-07-14 0:08:03\",\"2018-07-14 0:08:22\",\"2018-07-14 0:08:22\",\"2018-07-14 0:08:03\",\"2018-07-14 0:08:03\",\"2018-07-14 0:08:22\",\"2018-07-14 0:09:10\",\"2018-07-14 0:09:10\",\"2018-07-14 0:08:22\"],\"y\":[8.8,8.8,9.2,9.2,null,7.8,7.8,8.2,8.2,null,6.8,6.8,7.2,7.2,null,5.8,5.8,6.2,6.2,null,4.8,4.8,5.2,5.2,null,3.8,3.8,4.2,4.2,null,2.8,2.8,3.2,3.2,null,1.8,1.8,2.2,2.2,null,0.8,0.8,1.2,1.2,null,-0.2,-0.2,0.2,0.2],\"type\":\"scatter\"},{\"fill\":\"toself\",\"fillcolor\":\"rgb(214, 39, 40)\",\"hoverinfo\":\"name\",\"legendgroup\":\"rgb(214, 39, 40)\",\"mode\":\"none\",\"name\":\"Job 3\",\"showlegend\":true,\"x\":[\"2018-07-14 0:03:54\",\"2018-07-14 0:05:19\",\"2018-07-14 0:05:19\",\"2018-07-14 0:03:54\",\"2018-07-14 0:03:54\",\"2018-07-14 0:01:21\",\"2018-07-14 0:02:52\",\"2018-07-14 0:02:52\",\"2018-07-14 0:01:21\",\"2018-07-14 0:01:21\",\"2018-07-14 0:08:53\",\"2018-07-14 0:10:07\",\"2018-07-14 0:10:07\",\"2018-07-14 0:08:53\",\"2018-07-14 0:08:53\",\"2018-07-14 0:07:13\",\"2018-07-14 0:07:52\",\"2018-07-14 0:07:52\",\"2018-07-14 0:07:13\",\"2018-07-14 0:07:13\",\"2018-07-14 0:17:27\",\"2018-07-14 0:18:00\",\"2018-07-14 0:18:00\",\"2018-07-14 0:17:27\",\"2018-07-14 0:17:27\",\"2018-07-14 0:11:37\",\"2018-07-14 0:11:47\",\"2018-07-14 0:11:47\",\"2018-07-14 0:11:37\",\"2018-07-14 0:11:37\",\"2018-07-14 0:14:37\",\"2018-07-14 0:16:06\",\"2018-07-14 0:16:06\",\"2018-07-14 0:14:37\",\"2018-07-14 0:14:37\",\"2018-07-14 0:14:25\",\"2018-07-14 0:14:37\",\"2018-07-14 0:14:37\",\"2018-07-14 0:14:25\",\"2018-07-14 0:14:25\",\"2018-07-14 0:10:07\",\"2018-07-14 0:11:37\",\"2018-07-14 0:11:37\",\"2018-07-14 0:10:07\",\"2018-07-14 0:10:07\",\"2018-07-14 0:16:24\",\"2018-07-14 0:17:09\",\"2018-07-14 0:17:09\",\"2018-07-14 0:16:24\"],\"y\":[8.8,8.8,9.2,9.2,null,7.8,7.8,8.2,8.2,null,6.8,6.8,7.2,7.2,null,5.8,5.8,6.2,6.2,null,4.8,4.8,5.2,5.2,null,3.8,3.8,4.2,4.2,null,2.8,2.8,3.2,3.2,null,1.8,1.8,2.2,2.2,null,0.8,0.8,1.2,1.2,null,-0.2,-0.2,0.2,0.2],\"type\":\"scatter\"},{\"fill\":\"toself\",\"fillcolor\":\"rgb(227, 119, 194)\",\"hoverinfo\":\"name\",\"legendgroup\":\"rgb(227, 119, 194)\",\"mode\":\"none\",\"name\":\"Job 6\",\"showlegend\":true,\"x\":[\"2018-07-14 0:07:21\",\"2018-07-14 0:08:08\",\"2018-07-14 0:08:08\",\"2018-07-14 0:07:21\",\"2018-07-14 0:07:21\",\"2018-07-14 0:02:52\",\"2018-07-14 0:02:54\",\"2018-07-14 0:02:54\",\"2018-07-14 0:02:52\",\"2018-07-14 0:02:52\",\"2018-07-14 0:00:31\",\"2018-07-14 0:01:55\",\"2018-07-14 0:01:55\",\"2018-07-14 0:00:31\",\"2018-07-14 0:00:31\",\"2018-07-14 0:03:46\",\"2018-07-14 0:05:21\",\"2018-07-14 0:05:21\",\"2018-07-14 0:03:46\",\"2018-07-14 0:03:46\",\"2018-07-14 0:13:58\",\"2018-07-14 0:14:04\",\"2018-07-14 0:14:04\",\"2018-07-14 0:13:58\",\"2018-07-14 0:13:58\",\"2018-07-14 0:02:54\",\"2018-07-14 0:03:46\",\"2018-07-14 0:03:46\",\"2018-07-14 0:02:54\",\"2018-07-14 0:02:54\",\"2018-07-14 0:12:53\",\"2018-07-14 0:13:58\",\"2018-07-14 0:13:58\",\"2018-07-14 0:12:53\",\"2018-07-14 0:12:53\",\"2018-07-14 0:17:03\",\"2018-07-14 0:17:28\",\"2018-07-14 0:17:28\",\"2018-07-14 0:17:03\",\"2018-07-14 0:17:03\",\"2018-07-14 0:05:21\",\"2018-07-14 0:06:09\",\"2018-07-14 0:06:09\",\"2018-07-14 0:05:21\",\"2018-07-14 0:05:21\",\"2018-07-14 0:06:09\",\"2018-07-14 0:07:21\",\"2018-07-14 0:07:21\",\"2018-07-14 0:06:09\"],\"y\":[8.8,8.8,9.2,9.2,null,7.8,7.8,8.2,8.2,null,6.8,6.8,7.2,7.2,null,5.8,5.8,6.2,6.2,null,4.8,4.8,5.2,5.2,null,3.8,3.8,4.2,4.2,null,2.8,2.8,3.2,3.2,null,1.8,1.8,2.2,2.2,null,0.8,0.8,1.2,1.2,null,-0.2,-0.2,0.2,0.2],\"type\":\"scatter\"},{\"fill\":\"toself\",\"fillcolor\":\"rgb(23, 190, 207)\",\"hoverinfo\":\"name\",\"legendgroup\":\"rgb(23, 190, 207)\",\"mode\":\"none\",\"name\":\"Job 9\",\"showlegend\":true,\"x\":[\"2018-07-14 0:00:00\",\"2018-07-14 0:01:16\",\"2018-07-14 0:01:16\",\"2018-07-14 0:00:00\",\"2018-07-14 0:00:00\",\"2018-07-14 0:02:54\",\"2018-07-14 0:04:03\",\"2018-07-14 0:04:03\",\"2018-07-14 0:02:54\",\"2018-07-14 0:02:54\",\"2018-07-14 0:07:28\",\"2018-07-14 0:08:53\",\"2018-07-14 0:08:53\",\"2018-07-14 0:07:28\",\"2018-07-14 0:07:28\",\"2018-07-14 0:05:21\",\"2018-07-14 0:06:37\",\"2018-07-14 0:06:37\",\"2018-07-14 0:05:21\",\"2018-07-14 0:05:21\",\"2018-07-14 0:14:25\",\"2018-07-14 0:14:51\",\"2018-07-14 0:14:51\",\"2018-07-14 0:14:25\",\"2018-07-14 0:14:25\",\"2018-07-14 0:06:37\",\"2018-07-14 0:07:28\",\"2018-07-14 0:07:28\",\"2018-07-14 0:06:37\",\"2018-07-14 0:06:37\",\"2018-07-14 0:10:17\",\"2018-07-14 0:10:57\",\"2018-07-14 0:10:57\",\"2018-07-14 0:10:17\",\"2018-07-14 0:10:17\",\"2018-07-14 0:12:56\",\"2018-07-14 0:14:25\",\"2018-07-14 0:14:25\",\"2018-07-14 0:12:56\",\"2018-07-14 0:12:56\",\"2018-07-14 0:14:51\",\"2018-07-14 0:16:05\",\"2018-07-14 0:16:05\",\"2018-07-14 0:14:51\",\"2018-07-14 0:14:51\",\"2018-07-14 0:09:10\",\"2018-07-14 0:09:21\",\"2018-07-14 0:09:21\",\"2018-07-14 0:09:10\"],\"y\":[8.8,8.8,9.2,9.2,null,7.8,7.8,8.2,8.2,null,6.8,6.8,7.2,7.2,null,5.8,5.8,6.2,6.2,null,4.8,4.8,5.2,5.2,null,3.8,3.8,4.2,4.2,null,2.8,2.8,3.2,3.2,null,1.8,1.8,2.2,2.2,null,0.8,0.8,1.2,1.2,null,-0.2,-0.2,0.2,0.2],\"type\":\"scatter\"},{\"fill\":\"toself\",\"fillcolor\":\"rgb(255, 127, 14)\",\"hoverinfo\":\"name\",\"legendgroup\":\"rgb(255, 127, 14)\",\"mode\":\"none\",\"name\":\"Job 10\",\"showlegend\":true,\"x\":[\"2018-07-14 0:08:08\",\"2018-07-14 0:08:21\",\"2018-07-14 0:08:21\",\"2018-07-14 0:08:08\",\"2018-07-14 0:08:08\",\"2018-07-14 0:06:29\",\"2018-07-14 0:07:54\",\"2018-07-14 0:07:54\",\"2018-07-14 0:06:29\",\"2018-07-14 0:06:29\",\"2018-07-14 0:10:07\",\"2018-07-14 0:11:08\",\"2018-07-14 0:11:08\",\"2018-07-14 0:10:07\",\"2018-07-14 0:10:07\",\"2018-07-14 0:15:05\",\"2018-07-14 0:15:57\",\"2018-07-14 0:15:57\",\"2018-07-14 0:15:05\",\"2018-07-14 0:15:05\",\"2018-07-14 0:15:57\",\"2018-07-14 0:17:27\",\"2018-07-14 0:17:27\",\"2018-07-14 0:15:57\",\"2018-07-14 0:15:57\",\"2018-07-14 0:14:18\",\"2018-07-14 0:15:05\",\"2018-07-14 0:15:05\",\"2018-07-14 0:14:18\",\"2018-07-14 0:14:18\",\"2018-07-14 0:11:08\",\"2018-07-14 0:11:15\",\"2018-07-14 0:11:15\",\"2018-07-14 0:11:08\",\"2018-07-14 0:11:08\",\"2018-07-14 0:17:28\",\"2018-07-14 0:18:13\",\"2018-07-14 0:18:13\",\"2018-07-14 0:17:28\",\"2018-07-14 0:17:28\",\"2018-07-14 0:11:58\",\"2018-07-14 0:13:02\",\"2018-07-14 0:13:02\",\"2018-07-14 0:11:58\",\"2018-07-14 0:11:58\",\"2018-07-14 0:13:02\",\"2018-07-14 0:14:18\",\"2018-07-14 0:14:18\",\"2018-07-14 0:13:02\"],\"y\":[8.8,8.8,9.2,9.2,null,7.8,7.8,8.2,8.2,null,6.8,6.8,7.2,7.2,null,5.8,5.8,6.2,6.2,null,4.8,4.8,5.2,5.2,null,3.8,3.8,4.2,4.2,null,2.8,2.8,3.2,3.2,null,1.8,1.8,2.2,2.2,null,0.8,0.8,1.2,1.2,null,-0.2,-0.2,0.2,0.2],\"type\":\"scatter\"},{\"fill\":\"toself\",\"fillcolor\":\"rgb(31, 119, 180)\",\"hoverinfo\":\"name\",\"legendgroup\":\"rgb(31, 119, 180)\",\"mode\":\"none\",\"name\":\"Job 1\",\"showlegend\":true,\"x\":[\"2018-07-14 0:01:16\",\"2018-07-14 0:01:45\",\"2018-07-14 0:01:45\",\"2018-07-14 0:01:16\",\"2018-07-14 0:01:16\",\"2018-07-14 0:04:49\",\"2018-07-14 0:06:07\",\"2018-07-14 0:06:07\",\"2018-07-14 0:04:49\",\"2018-07-14 0:04:49\",\"2018-07-14 0:06:07\",\"2018-07-14 0:06:16\",\"2018-07-14 0:06:16\",\"2018-07-14 0:06:07\",\"2018-07-14 0:06:07\",\"2018-07-14 0:06:37\",\"2018-07-14 0:07:13\",\"2018-07-14 0:07:13\",\"2018-07-14 0:06:37\",\"2018-07-14 0:06:37\",\"2018-07-14 0:08:15\",\"2018-07-14 0:09:04\",\"2018-07-14 0:09:04\",\"2018-07-14 0:08:15\",\"2018-07-14 0:08:15\",\"2018-07-14 0:09:04\",\"2018-07-14 0:09:15\",\"2018-07-14 0:09:15\",\"2018-07-14 0:09:04\",\"2018-07-14 0:09:04\",\"2018-07-14 0:09:15\",\"2018-07-14 0:10:17\",\"2018-07-14 0:10:17\",\"2018-07-14 0:09:15\",\"2018-07-14 0:09:15\",\"2018-07-14 0:11:11\",\"2018-07-14 0:12:07\",\"2018-07-14 0:12:07\",\"2018-07-14 0:11:11\",\"2018-07-14 0:11:11\",\"2018-07-14 0:13:02\",\"2018-07-14 0:13:46\",\"2018-07-14 0:13:46\",\"2018-07-14 0:13:02\",\"2018-07-14 0:13:02\",\"2018-07-14 0:17:09\",\"2018-07-14 0:17:30\",\"2018-07-14 0:17:30\",\"2018-07-14 0:17:09\"],\"y\":[8.8,8.8,9.2,9.2,null,7.8,7.8,8.2,8.2,null,6.8,6.8,7.2,7.2,null,5.8,5.8,6.2,6.2,null,4.8,4.8,5.2,5.2,null,3.8,3.8,4.2,4.2,null,2.8,2.8,3.2,3.2,null,1.8,1.8,2.2,2.2,null,0.8,0.8,1.2,1.2,null,-0.2,-0.2,0.2,0.2],\"type\":\"scatter\"},{\"fill\":\"toself\",\"fillcolor\":\"rgb(44, 160, 44)\",\"hoverinfo\":\"name\",\"legendgroup\":\"rgb(44, 160, 44)\",\"mode\":\"none\",\"name\":\"Job 2\",\"showlegend\":true,\"x\":[\"2018-07-14 0:03:11\",\"2018-07-14 0:03:54\",\"2018-07-14 0:03:54\",\"2018-07-14 0:03:11\",\"2018-07-14 0:03:11\",\"2018-07-14 0:11:39\",\"2018-07-14 0:12:07\",\"2018-07-14 0:12:07\",\"2018-07-14 0:11:39\",\"2018-07-14 0:11:39\",\"2018-07-14 0:03:54\",\"2018-07-14 0:05:24\",\"2018-07-14 0:05:24\",\"2018-07-14 0:03:54\",\"2018-07-14 0:03:54\",\"2018-07-14 0:10:30\",\"2018-07-14 0:11:39\",\"2018-07-14 0:11:39\",\"2018-07-14 0:10:30\",\"2018-07-14 0:10:30\",\"2018-07-14 0:09:04\",\"2018-07-14 0:10:19\",\"2018-07-14 0:10:19\",\"2018-07-14 0:09:04\",\"2018-07-14 0:09:04\",\"2018-07-14 0:15:05\",\"2018-07-14 0:15:51\",\"2018-07-14 0:15:51\",\"2018-07-14 0:15:05\",\"2018-07-14 0:15:05\",\"2018-07-14 0:12:07\",\"2018-07-14 0:12:53\",\"2018-07-14 0:12:53\",\"2018-07-14 0:12:07\",\"2018-07-14 0:12:07\",\"2018-07-14 0:15:51\",\"2018-07-14 0:17:03\",\"2018-07-14 0:17:03\",\"2018-07-14 0:15:51\",\"2018-07-14 0:15:51\",\"2018-07-14 0:17:34\",\"2018-07-14 0:18:04\",\"2018-07-14 0:18:04\",\"2018-07-14 0:17:34\",\"2018-07-14 0:17:34\",\"2018-07-14 0:10:19\",\"2018-07-14 0:10:30\",\"2018-07-14 0:10:30\",\"2018-07-14 0:10:19\"],\"y\":[8.8,8.8,9.2,9.2,null,7.8,7.8,8.2,8.2,null,6.8,6.8,7.2,7.2,null,5.8,5.8,6.2,6.2,null,4.8,4.8,5.2,5.2,null,3.8,3.8,4.2,4.2,null,2.8,2.8,3.2,3.2,null,1.8,1.8,2.2,2.2,null,0.8,0.8,1.2,1.2,null,-0.2,-0.2,0.2,0.2],\"type\":\"scatter\"},{\"legendgroup\":\"rgb(127, 127, 127)\",\"marker\":{\"color\":\"rgb(127, 127, 127)\",\"opacity\":0,\"size\":1},\"mode\":\"markers\",\"name\":\"\",\"showlegend\":false,\"text\":[null,null,null,null,null,null,null,null,null,null,null,null,null,null,null,null,null,null,null,null],\"x\":[\"2018-07-14 0:08:40\",\"2018-07-14 0:09:17\",\"2018-07-14 0:07:54\",\"2018-07-14 0:08:40\",\"2018-07-14 0:11:08\",\"2018-07-14 0:11:21\",\"2018-07-14 0:09:17\",\"2018-07-14 0:10:18\",\"2018-07-14 0:18:43\",\"2018-07-14 0:19:38\",\"2018-07-14 0:11:53\",\"2018-07-14 0:12:14\",\"2018-07-14 0:11:21\",\"2018-07-14 0:11:53\",\"2018-07-14 0:18:13\",\"2018-07-14 0:18:43\",\"2018-07-14 0:16:05\",\"2018-07-14 0:17:34\",\"2018-07-14 0:15:30\",\"2018-07-14 0:16:02\"],\"y\":[9,9,8,8,7,7,6,6,5,5,4,4,3,3,2,2,1,1,0,0],\"type\":\"scatter\"},{\"legendgroup\":\"rgb(140, 86, 75)\",\"marker\":{\"color\":\"rgb(140, 86, 75)\",\"opacity\":0,\"size\":1},\"mode\":\"markers\",\"name\":\"\",\"showlegend\":false,\"text\":[null,null,null,null,null,null,null,null,null,null,null,null,null,null,null,null,null,null,null,null],\"x\":[\"2018-07-14 0:05:19\",\"2018-07-14 0:05:25\",\"2018-07-14 0:06:07\",\"2018-07-14 0:06:29\",\"2018-07-14 0:01:55\",\"2018-07-14 0:02:09\",\"2018-07-14 0:08:29\",\"2018-07-14 0:08:55\",\"2018-07-14 0:10:19\",\"2018-07-14 0:11:28\",\"2018-07-14 0:07:28\",\"2018-07-14 0:08:29\",\"2018-07-14 0:16:06\",\"2018-07-14 0:16:59\",\"2018-07-14 0:12:07\",\"2018-07-14 0:12:56\",\"2018-07-14 0:11:37\",\"2018-07-14 0:11:58\",\"2018-07-14 0:14:18\",\"2018-07-14 0:15:30\"],\"y\":[9,9,8,8,7,7,6,6,5,5,4,4,3,3,2,2,1,1,0,0],\"type\":\"scatter\"},{\"legendgroup\":\"rgb(148, 103, 189)\",\"marker\":{\"color\":\"rgb(148, 103, 189)\",\"opacity\":0,\"size\":1},\"mode\":\"markers\",\"name\":\"\",\"showlegend\":false,\"text\":[null,null,null,null,null,null,null,null,null,null,null,null,null,null,null,null,null,null,null,null],\"x\":[\"2018-07-14 0:05:25\",\"2018-07-14 0:06:36\",\"2018-07-14 0:00:00\",\"2018-07-14 0:01:21\",\"2018-07-14 0:02:09\",\"2018-07-14 0:03:44\",\"2018-07-14 0:11:39\",\"2018-07-14 0:13:17\",\"2018-07-14 0:06:36\",\"2018-07-14 0:08:15\",\"2018-07-14 0:16:24\",\"2018-07-14 0:17:07\",\"2018-07-14 0:08:15\",\"2018-07-14 0:08:24\",\"2018-07-14 0:09:46\",\"2018-07-14 0:11:11\",\"2018-07-14 0:08:24\",\"2018-07-14 0:09:16\",\"2018-07-14 0:16:02\",\"2018-07-14 0:16:24\"],\"y\":[9,9,8,8,7,7,6,6,5,5,4,4,3,3,2,2,1,1,0,0],\"type\":\"scatter\"},{\"legendgroup\":\"rgb(188, 189, 34)\",\"marker\":{\"color\":\"rgb(188, 189, 34)\",\"opacity\":0,\"size\":1},\"mode\":\"markers\",\"name\":\"\",\"showlegend\":false,\"text\":[null,null,null,null,null,null,null,null,null,null,null,null,null,null,null,null,null,null,null,null],\"x\":[\"2018-07-14 0:01:45\",\"2018-07-14 0:03:11\",\"2018-07-14 0:04:03\",\"2018-07-14 0:04:49\",\"2018-07-14 0:00:00\",\"2018-07-14 0:00:31\",\"2018-07-14 0:15:57\",\"2018-07-14 0:17:16\",\"2018-07-14 0:06:03\",\"2018-07-14 0:06:35\",\"2018-07-14 0:04:49\",\"2018-07-14 0:06:03\",\"2018-07-14 0:06:35\",\"2018-07-14 0:08:03\",\"2018-07-14 0:09:10\",\"2018-07-14 0:09:46\",\"2018-07-14 0:08:03\",\"2018-07-14 0:08:22\",\"2018-07-14 0:08:22\",\"2018-07-14 0:09:10\"],\"y\":[9,9,8,8,7,7,6,6,5,5,4,4,3,3,2,2,1,1,0,0],\"type\":\"scatter\"},{\"legendgroup\":\"rgb(214, 39, 40)\",\"marker\":{\"color\":\"rgb(214, 39, 40)\",\"opacity\":0,\"size\":1},\"mode\":\"markers\",\"name\":\"\",\"showlegend\":false,\"text\":[null,null,null,null,null,null,null,null,null,null,null,null,null,null,null,null,null,null,null,null],\"x\":[\"2018-07-14 0:03:54\",\"2018-07-14 0:05:19\",\"2018-07-14 0:01:21\",\"2018-07-14 0:02:52\",\"2018-07-14 0:08:53\",\"2018-07-14 0:10:07\",\"2018-07-14 0:07:13\",\"2018-07-14 0:07:52\",\"2018-07-14 0:17:27\",\"2018-07-14 0:18:00\",\"2018-07-14 0:11:37\",\"2018-07-14 0:11:47\",\"2018-07-14 0:14:37\",\"2018-07-14 0:16:06\",\"2018-07-14 0:14:25\",\"2018-07-14 0:14:37\",\"2018-07-14 0:10:07\",\"2018-07-14 0:11:37\",\"2018-07-14 0:16:24\",\"2018-07-14 0:17:09\"],\"y\":[9,9,8,8,7,7,6,6,5,5,4,4,3,3,2,2,1,1,0,0],\"type\":\"scatter\"},{\"legendgroup\":\"rgb(227, 119, 194)\",\"marker\":{\"color\":\"rgb(227, 119, 194)\",\"opacity\":0,\"size\":1},\"mode\":\"markers\",\"name\":\"\",\"showlegend\":false,\"text\":[null,null,null,null,null,null,null,null,null,null,null,null,null,null,null,null,null,null,null,null],\"x\":[\"2018-07-14 0:07:21\",\"2018-07-14 0:08:08\",\"2018-07-14 0:02:52\",\"2018-07-14 0:02:54\",\"2018-07-14 0:00:31\",\"2018-07-14 0:01:55\",\"2018-07-14 0:03:46\",\"2018-07-14 0:05:21\",\"2018-07-14 0:13:58\",\"2018-07-14 0:14:04\",\"2018-07-14 0:02:54\",\"2018-07-14 0:03:46\",\"2018-07-14 0:12:53\",\"2018-07-14 0:13:58\",\"2018-07-14 0:17:03\",\"2018-07-14 0:17:28\",\"2018-07-14 0:05:21\",\"2018-07-14 0:06:09\",\"2018-07-14 0:06:09\",\"2018-07-14 0:07:21\"],\"y\":[9,9,8,8,7,7,6,6,5,5,4,4,3,3,2,2,1,1,0,0],\"type\":\"scatter\"},{\"legendgroup\":\"rgb(23, 190, 207)\",\"marker\":{\"color\":\"rgb(23, 190, 207)\",\"opacity\":0,\"size\":1},\"mode\":\"markers\",\"name\":\"\",\"showlegend\":false,\"text\":[null,null,null,null,null,null,null,null,null,null,null,null,null,null,null,null,null,null,null,null],\"x\":[\"2018-07-14 0:00:00\",\"2018-07-14 0:01:16\",\"2018-07-14 0:02:54\",\"2018-07-14 0:04:03\",\"2018-07-14 0:07:28\",\"2018-07-14 0:08:53\",\"2018-07-14 0:05:21\",\"2018-07-14 0:06:37\",\"2018-07-14 0:14:25\",\"2018-07-14 0:14:51\",\"2018-07-14 0:06:37\",\"2018-07-14 0:07:28\",\"2018-07-14 0:10:17\",\"2018-07-14 0:10:57\",\"2018-07-14 0:12:56\",\"2018-07-14 0:14:25\",\"2018-07-14 0:14:51\",\"2018-07-14 0:16:05\",\"2018-07-14 0:09:10\",\"2018-07-14 0:09:21\"],\"y\":[9,9,8,8,7,7,6,6,5,5,4,4,3,3,2,2,1,1,0,0],\"type\":\"scatter\"},{\"legendgroup\":\"rgb(255, 127, 14)\",\"marker\":{\"color\":\"rgb(255, 127, 14)\",\"opacity\":0,\"size\":1},\"mode\":\"markers\",\"name\":\"\",\"showlegend\":false,\"text\":[null,null,null,null,null,null,null,null,null,null,null,null,null,null,null,null,null,null,null,null],\"x\":[\"2018-07-14 0:08:08\",\"2018-07-14 0:08:21\",\"2018-07-14 0:06:29\",\"2018-07-14 0:07:54\",\"2018-07-14 0:10:07\",\"2018-07-14 0:11:08\",\"2018-07-14 0:15:05\",\"2018-07-14 0:15:57\",\"2018-07-14 0:15:57\",\"2018-07-14 0:17:27\",\"2018-07-14 0:14:18\",\"2018-07-14 0:15:05\",\"2018-07-14 0:11:08\",\"2018-07-14 0:11:15\",\"2018-07-14 0:17:28\",\"2018-07-14 0:18:13\",\"2018-07-14 0:11:58\",\"2018-07-14 0:13:02\",\"2018-07-14 0:13:02\",\"2018-07-14 0:14:18\"],\"y\":[9,9,8,8,7,7,6,6,5,5,4,4,3,3,2,2,1,1,0,0],\"type\":\"scatter\"},{\"legendgroup\":\"rgb(31, 119, 180)\",\"marker\":{\"color\":\"rgb(31, 119, 180)\",\"opacity\":0,\"size\":1},\"mode\":\"markers\",\"name\":\"\",\"showlegend\":false,\"text\":[null,null,null,null,null,null,null,null,null,null,null,null,null,null,null,null,null,null,null,null],\"x\":[\"2018-07-14 0:01:16\",\"2018-07-14 0:01:45\",\"2018-07-14 0:04:49\",\"2018-07-14 0:06:07\",\"2018-07-14 0:06:07\",\"2018-07-14 0:06:16\",\"2018-07-14 0:06:37\",\"2018-07-14 0:07:13\",\"2018-07-14 0:08:15\",\"2018-07-14 0:09:04\",\"2018-07-14 0:09:04\",\"2018-07-14 0:09:15\",\"2018-07-14 0:09:15\",\"2018-07-14 0:10:17\",\"2018-07-14 0:11:11\",\"2018-07-14 0:12:07\",\"2018-07-14 0:13:02\",\"2018-07-14 0:13:46\",\"2018-07-14 0:17:09\",\"2018-07-14 0:17:30\"],\"y\":[9,9,8,8,7,7,6,6,5,5,4,4,3,3,2,2,1,1,0,0],\"type\":\"scatter\"},{\"legendgroup\":\"rgb(44, 160, 44)\",\"marker\":{\"color\":\"rgb(44, 160, 44)\",\"opacity\":0,\"size\":1},\"mode\":\"markers\",\"name\":\"\",\"showlegend\":false,\"text\":[null,null,null,null,null,null,null,null,null,null,null,null,null,null,null,null,null,null,null,null],\"x\":[\"2018-07-14 0:03:11\",\"2018-07-14 0:03:54\",\"2018-07-14 0:11:39\",\"2018-07-14 0:12:07\",\"2018-07-14 0:03:54\",\"2018-07-14 0:05:24\",\"2018-07-14 0:10:30\",\"2018-07-14 0:11:39\",\"2018-07-14 0:09:04\",\"2018-07-14 0:10:19\",\"2018-07-14 0:15:05\",\"2018-07-14 0:15:51\",\"2018-07-14 0:12:07\",\"2018-07-14 0:12:53\",\"2018-07-14 0:15:51\",\"2018-07-14 0:17:03\",\"2018-07-14 0:17:34\",\"2018-07-14 0:18:04\",\"2018-07-14 0:10:19\",\"2018-07-14 0:10:30\"],\"y\":[9,9,8,8,7,7,6,6,5,5,4,4,3,3,2,2,1,1,0,0],\"type\":\"scatter\"}],                        {\"height\":600,\"hovermode\":\"closest\",\"showlegend\":true,\"title\":{\"text\":\"objective: (due date, complete time)\"},\"xaxis\":{\"rangeselector\":{\"buttons\":[{\"count\":7,\"label\":\"1w\",\"step\":\"day\",\"stepmode\":\"backward\"},{\"count\":1,\"label\":\"1m\",\"step\":\"month\",\"stepmode\":\"backward\"},{\"count\":6,\"label\":\"6m\",\"step\":\"month\",\"stepmode\":\"backward\"},{\"count\":1,\"label\":\"YTD\",\"step\":\"year\",\"stepmode\":\"todate\"},{\"count\":1,\"label\":\"1y\",\"step\":\"year\",\"stepmode\":\"backward\"},{\"step\":\"all\"}]},\"showgrid\":true,\"type\":\"date\",\"zeroline\":false},\"yaxis\":{\"autorange\":false,\"range\":[-1,11],\"showgrid\":false,\"ticktext\":[\"Machine 10\",\"Machine 9\",\"Machine 8\",\"Machine 7\",\"Machine 6\",\"Machine 5\",\"Machine 4\",\"Machine 3\",\"Machine 2\",\"Machine 1\"],\"tickvals\":[0,1,2,3,4,5,6,7,8,9],\"zeroline\":false},\"template\":{\"data\":{\"histogram2dcontour\":[{\"type\":\"histogram2dcontour\",\"colorbar\":{\"outlinewidth\":0,\"ticks\":\"\"},\"colorscale\":[[0.0,\"#0d0887\"],[0.1111111111111111,\"#46039f\"],[0.2222222222222222,\"#7201a8\"],[0.3333333333333333,\"#9c179e\"],[0.4444444444444444,\"#bd3786\"],[0.5555555555555556,\"#d8576b\"],[0.6666666666666666,\"#ed7953\"],[0.7777777777777778,\"#fb9f3a\"],[0.8888888888888888,\"#fdca26\"],[1.0,\"#f0f921\"]]}],\"choropleth\":[{\"type\":\"choropleth\",\"colorbar\":{\"outlinewidth\":0,\"ticks\":\"\"}}],\"histogram2d\":[{\"type\":\"histogram2d\",\"colorbar\":{\"outlinewidth\":0,\"ticks\":\"\"},\"colorscale\":[[0.0,\"#0d0887\"],[0.1111111111111111,\"#46039f\"],[0.2222222222222222,\"#7201a8\"],[0.3333333333333333,\"#9c179e\"],[0.4444444444444444,\"#bd3786\"],[0.5555555555555556,\"#d8576b\"],[0.6666666666666666,\"#ed7953\"],[0.7777777777777778,\"#fb9f3a\"],[0.8888888888888888,\"#fdca26\"],[1.0,\"#f0f921\"]]}],\"heatmap\":[{\"type\":\"heatmap\",\"colorbar\":{\"outlinewidth\":0,\"ticks\":\"\"},\"colorscale\":[[0.0,\"#0d0887\"],[0.1111111111111111,\"#46039f\"],[0.2222222222222222,\"#7201a8\"],[0.3333333333333333,\"#9c179e\"],[0.4444444444444444,\"#bd3786\"],[0.5555555555555556,\"#d8576b\"],[0.6666666666666666,\"#ed7953\"],[0.7777777777777778,\"#fb9f3a\"],[0.8888888888888888,\"#fdca26\"],[1.0,\"#f0f921\"]]}],\"heatmapgl\":[{\"type\":\"heatmapgl\",\"colorbar\":{\"outlinewidth\":0,\"ticks\":\"\"},\"colorscale\":[[0.0,\"#0d0887\"],[0.1111111111111111,\"#46039f\"],[0.2222222222222222,\"#7201a8\"],[0.3333333333333333,\"#9c179e\"],[0.4444444444444444,\"#bd3786\"],[0.5555555555555556,\"#d8576b\"],[0.6666666666666666,\"#ed7953\"],[0.7777777777777778,\"#fb9f3a\"],[0.8888888888888888,\"#fdca26\"],[1.0,\"#f0f921\"]]}],\"contourcarpet\":[{\"type\":\"contourcarpet\",\"colorbar\":{\"outlinewidth\":0,\"ticks\":\"\"}}],\"contour\":[{\"type\":\"contour\",\"colorbar\":{\"outlinewidth\":0,\"ticks\":\"\"},\"colorscale\":[[0.0,\"#0d0887\"],[0.1111111111111111,\"#46039f\"],[0.2222222222222222,\"#7201a8\"],[0.3333333333333333,\"#9c179e\"],[0.4444444444444444,\"#bd3786\"],[0.5555555555555556,\"#d8576b\"],[0.6666666666666666,\"#ed7953\"],[0.7777777777777778,\"#fb9f3a\"],[0.8888888888888888,\"#fdca26\"],[1.0,\"#f0f921\"]]}],\"surface\":[{\"type\":\"surface\",\"colorbar\":{\"outlinewidth\":0,\"ticks\":\"\"},\"colorscale\":[[0.0,\"#0d0887\"],[0.1111111111111111,\"#46039f\"],[0.2222222222222222,\"#7201a8\"],[0.3333333333333333,\"#9c179e\"],[0.4444444444444444,\"#bd3786\"],[0.5555555555555556,\"#d8576b\"],[0.6666666666666666,\"#ed7953\"],[0.7777777777777778,\"#fb9f3a\"],[0.8888888888888888,\"#fdca26\"],[1.0,\"#f0f921\"]]}],\"mesh3d\":[{\"type\":\"mesh3d\",\"colorbar\":{\"outlinewidth\":0,\"ticks\":\"\"}}],\"scatter\":[{\"fillpattern\":{\"fillmode\":\"overlay\",\"size\":10,\"solidity\":0.2},\"type\":\"scatter\"}],\"parcoords\":[{\"type\":\"parcoords\",\"line\":{\"colorbar\":{\"outlinewidth\":0,\"ticks\":\"\"}}}],\"scatterpolargl\":[{\"type\":\"scatterpolargl\",\"marker\":{\"colorbar\":{\"outlinewidth\":0,\"ticks\":\"\"}}}],\"bar\":[{\"error_x\":{\"color\":\"#2a3f5f\"},\"error_y\":{\"color\":\"#2a3f5f\"},\"marker\":{\"line\":{\"color\":\"#E5ECF6\",\"width\":0.5},\"pattern\":{\"fillmode\":\"overlay\",\"size\":10,\"solidity\":0.2}},\"type\":\"bar\"}],\"scattergeo\":[{\"type\":\"scattergeo\",\"marker\":{\"colorbar\":{\"outlinewidth\":0,\"ticks\":\"\"}}}],\"scatterpolar\":[{\"type\":\"scatterpolar\",\"marker\":{\"colorbar\":{\"outlinewidth\":0,\"ticks\":\"\"}}}],\"histogram\":[{\"marker\":{\"pattern\":{\"fillmode\":\"overlay\",\"size\":10,\"solidity\":0.2}},\"type\":\"histogram\"}],\"scattergl\":[{\"type\":\"scattergl\",\"marker\":{\"colorbar\":{\"outlinewidth\":0,\"ticks\":\"\"}}}],\"scatter3d\":[{\"type\":\"scatter3d\",\"line\":{\"colorbar\":{\"outlinewidth\":0,\"ticks\":\"\"}},\"marker\":{\"colorbar\":{\"outlinewidth\":0,\"ticks\":\"\"}}}],\"scattermapbox\":[{\"type\":\"scattermapbox\",\"marker\":{\"colorbar\":{\"outlinewidth\":0,\"ticks\":\"\"}}}],\"scatterternary\":[{\"type\":\"scatterternary\",\"marker\":{\"colorbar\":{\"outlinewidth\":0,\"ticks\":\"\"}}}],\"scattercarpet\":[{\"type\":\"scattercarpet\",\"marker\":{\"colorbar\":{\"outlinewidth\":0,\"ticks\":\"\"}}}],\"carpet\":[{\"aaxis\":{\"endlinecolor\":\"#2a3f5f\",\"gridcolor\":\"white\",\"linecolor\":\"white\",\"minorgridcolor\":\"white\",\"startlinecolor\":\"#2a3f5f\"},\"baxis\":{\"endlinecolor\":\"#2a3f5f\",\"gridcolor\":\"white\",\"linecolor\":\"white\",\"minorgridcolor\":\"white\",\"startlinecolor\":\"#2a3f5f\"},\"type\":\"carpet\"}],\"table\":[{\"cells\":{\"fill\":{\"color\":\"#EBF0F8\"},\"line\":{\"color\":\"white\"}},\"header\":{\"fill\":{\"color\":\"#C8D4E3\"},\"line\":{\"color\":\"white\"}},\"type\":\"table\"}],\"barpolar\":[{\"marker\":{\"line\":{\"color\":\"#E5ECF6\",\"width\":0.5},\"pattern\":{\"fillmode\":\"overlay\",\"size\":10,\"solidity\":0.2}},\"type\":\"barpolar\"}],\"pie\":[{\"automargin\":true,\"type\":\"pie\"}]},\"layout\":{\"autotypenumbers\":\"strict\",\"colorway\":[\"#636efa\",\"#EF553B\",\"#00cc96\",\"#ab63fa\",\"#FFA15A\",\"#19d3f3\",\"#FF6692\",\"#B6E880\",\"#FF97FF\",\"#FECB52\"],\"font\":{\"color\":\"#2a3f5f\"},\"hovermode\":\"closest\",\"hoverlabel\":{\"align\":\"left\"},\"paper_bgcolor\":\"white\",\"plot_bgcolor\":\"#E5ECF6\",\"polar\":{\"bgcolor\":\"#E5ECF6\",\"angularaxis\":{\"gridcolor\":\"white\",\"linecolor\":\"white\",\"ticks\":\"\"},\"radialaxis\":{\"gridcolor\":\"white\",\"linecolor\":\"white\",\"ticks\":\"\"}},\"ternary\":{\"bgcolor\":\"#E5ECF6\",\"aaxis\":{\"gridcolor\":\"white\",\"linecolor\":\"white\",\"ticks\":\"\"},\"baxis\":{\"gridcolor\":\"white\",\"linecolor\":\"white\",\"ticks\":\"\"},\"caxis\":{\"gridcolor\":\"white\",\"linecolor\":\"white\",\"ticks\":\"\"}},\"coloraxis\":{\"colorbar\":{\"outlinewidth\":0,\"ticks\":\"\"}},\"colorscale\":{\"sequential\":[[0.0,\"#0d0887\"],[0.1111111111111111,\"#46039f\"],[0.2222222222222222,\"#7201a8\"],[0.3333333333333333,\"#9c179e\"],[0.4444444444444444,\"#bd3786\"],[0.5555555555555556,\"#d8576b\"],[0.6666666666666666,\"#ed7953\"],[0.7777777777777778,\"#fb9f3a\"],[0.8888888888888888,\"#fdca26\"],[1.0,\"#f0f921\"]],\"sequentialminus\":[[0.0,\"#0d0887\"],[0.1111111111111111,\"#46039f\"],[0.2222222222222222,\"#7201a8\"],[0.3333333333333333,\"#9c179e\"],[0.4444444444444444,\"#bd3786\"],[0.5555555555555556,\"#d8576b\"],[0.6666666666666666,\"#ed7953\"],[0.7777777777777778,\"#fb9f3a\"],[0.8888888888888888,\"#fdca26\"],[1.0,\"#f0f921\"]],\"diverging\":[[0,\"#8e0152\"],[0.1,\"#c51b7d\"],[0.2,\"#de77ae\"],[0.3,\"#f1b6da\"],[0.4,\"#fde0ef\"],[0.5,\"#f7f7f7\"],[0.6,\"#e6f5d0\"],[0.7,\"#b8e186\"],[0.8,\"#7fbc41\"],[0.9,\"#4d9221\"],[1,\"#276419\"]]},\"xaxis\":{\"gridcolor\":\"white\",\"linecolor\":\"white\",\"ticks\":\"\",\"title\":{\"standoff\":15},\"zerolinecolor\":\"white\",\"automargin\":true,\"zerolinewidth\":2},\"yaxis\":{\"gridcolor\":\"white\",\"linecolor\":\"white\",\"ticks\":\"\",\"title\":{\"standoff\":15},\"zerolinecolor\":\"white\",\"automargin\":true,\"zerolinewidth\":2},\"scene\":{\"xaxis\":{\"backgroundcolor\":\"#E5ECF6\",\"gridcolor\":\"white\",\"linecolor\":\"white\",\"showbackground\":true,\"ticks\":\"\",\"zerolinecolor\":\"white\",\"gridwidth\":2},\"yaxis\":{\"backgroundcolor\":\"#E5ECF6\",\"gridcolor\":\"white\",\"linecolor\":\"white\",\"showbackground\":true,\"ticks\":\"\",\"zerolinecolor\":\"white\",\"gridwidth\":2},\"zaxis\":{\"backgroundcolor\":\"#E5ECF6\",\"gridcolor\":\"white\",\"linecolor\":\"white\",\"showbackground\":true,\"ticks\":\"\",\"zerolinecolor\":\"white\",\"gridwidth\":2}},\"shapedefaults\":{\"line\":{\"color\":\"#2a3f5f\"}},\"annotationdefaults\":{\"arrowcolor\":\"#2a3f5f\",\"arrowhead\":0,\"arrowwidth\":1},\"geo\":{\"bgcolor\":\"white\",\"landcolor\":\"#E5ECF6\",\"subunitcolor\":\"white\",\"showland\":true,\"showlakes\":true,\"lakecolor\":\"white\"},\"title\":{\"x\":0.05},\"mapbox\":{\"style\":\"light\"}}}},                        {\"responsive\": true}                    ).then(function(){\n",
       "                            \n",
       "var gd = document.getElementById('e6a5e1fb-33f3-4c4f-bb48-1c4482945d56');\n",
       "var x = new MutationObserver(function (mutations, observer) {{\n",
       "        var display = window.getComputedStyle(gd).display;\n",
       "        if (!display || display === 'none') {{\n",
       "            console.log([gd, 'removed!']);\n",
       "            Plotly.purge(gd);\n",
       "            observer.disconnect();\n",
       "        }}\n",
       "}});\n",
       "\n",
       "// Listen for the removal of the full notebook cells\n",
       "var notebookContainer = gd.closest('#notebook-container');\n",
       "if (notebookContainer) {{\n",
       "    x.observe(notebookContainer, {childList: true});\n",
       "}}\n",
       "\n",
       "// Listen for the clearing of the current output cell\n",
       "var outputEl = gd.closest('.output');\n",
       "if (outputEl) {{\n",
       "    x.observe(outputEl, {childList: true});\n",
       "}}\n",
       "\n",
       "                        })                };                });            </script>        </div>"
      ]
     },
     "metadata": {},
     "output_type": "display_data"
    }
   ],
   "source": [
    "fig.update_layout(\n",
    "    title = \"objective: (due date, complete time)\"\n",
    ")\n",
    "fig.show()"
   ]
  },
  {
   "cell_type": "code",
   "execution_count": 37,
   "metadata": {
    "tags": []
   },
   "outputs": [
    {
     "data": {
      "application/vnd.plotly.v1+json": {
       "config": {
        "plotlyServerURL": "https://plot.ly"
       },
       "data": [
        {
         "fill": "toself",
         "fillcolor": "rgb(127, 127, 127)",
         "hoverinfo": "name",
         "legendgroup": "rgb(127, 127, 127)",
         "mode": "none",
         "name": "Job 7",
         "showlegend": true,
         "type": "scatter",
         "x": [
          "2018-07-14 0:02:07",
          "2018-07-14 0:02:44",
          "2018-07-14 0:02:44",
          "2018-07-14 0:02:07",
          "2018-07-14 0:02:07",
          "2018-07-14 0:01:21",
          "2018-07-14 0:02:07",
          "2018-07-14 0:02:07",
          "2018-07-14 0:01:21",
          "2018-07-14 0:01:21",
          "2018-07-14 0:08:40",
          "2018-07-14 0:08:53",
          "2018-07-14 0:08:53",
          "2018-07-14 0:08:40",
          "2018-07-14 0:08:40",
          "2018-07-14 0:05:19",
          "2018-07-14 0:06:20",
          "2018-07-14 0:06:20",
          "2018-07-14 0:05:19",
          "2018-07-14 0:05:19",
          "2018-07-14 0:16:06",
          "2018-07-14 0:17:01",
          "2018-07-14 0:17:01",
          "2018-07-14 0:16:06",
          "2018-07-14 0:16:06",
          "2018-07-14 0:12:29",
          "2018-07-14 0:12:50",
          "2018-07-14 0:12:50",
          "2018-07-14 0:12:29",
          "2018-07-14 0:12:29",
          "2018-07-14 0:09:31",
          "2018-07-14 0:10:03",
          "2018-07-14 0:10:03",
          "2018-07-14 0:09:31",
          "2018-07-14 0:09:31",
          "2018-07-14 0:15:36",
          "2018-07-14 0:16:06",
          "2018-07-14 0:16:06",
          "2018-07-14 0:15:36",
          "2018-07-14 0:15:36",
          "2018-07-14 0:13:28",
          "2018-07-14 0:14:57",
          "2018-07-14 0:14:57",
          "2018-07-14 0:13:28",
          "2018-07-14 0:13:28",
          "2018-07-14 0:12:50",
          "2018-07-14 0:13:22",
          "2018-07-14 0:13:22",
          "2018-07-14 0:12:50"
         ],
         "y": [
          8.8,
          8.8,
          9.2,
          9.2,
          null,
          7.8,
          7.8,
          8.2,
          8.2,
          null,
          6.8,
          6.8,
          7.2,
          7.2,
          null,
          5.8,
          5.8,
          6.2,
          6.2,
          null,
          4.8,
          4.8,
          5.2,
          5.2,
          null,
          3.8,
          3.8,
          4.2,
          4.2,
          null,
          2.8,
          2.8,
          3.2,
          3.2,
          null,
          1.8,
          1.8,
          2.2,
          2.2,
          null,
          0.8,
          0.8,
          1.2,
          1.2,
          null,
          -0.2,
          -0.2,
          0.2,
          0.2
         ]
        },
        {
         "fill": "toself",
         "fillcolor": "rgb(140, 86, 75)",
         "hoverinfo": "name",
         "legendgroup": "rgb(140, 86, 75)",
         "mode": "none",
         "name": "Job 5",
         "showlegend": true,
         "type": "scatter",
         "x": [
          "2018-07-14 0:05:50",
          "2018-07-14 0:05:56",
          "2018-07-14 0:05:56",
          "2018-07-14 0:05:50",
          "2018-07-14 0:05:50",
          "2018-07-14 0:06:47",
          "2018-07-14 0:07:09",
          "2018-07-14 0:07:09",
          "2018-07-14 0:06:47",
          "2018-07-14 0:06:47",
          "2018-07-14 0:03:30",
          "2018-07-14 0:03:44",
          "2018-07-14 0:03:44",
          "2018-07-14 0:03:30",
          "2018-07-14 0:03:30",
          "2018-07-14 0:09:18",
          "2018-07-14 0:09:44",
          "2018-07-14 0:09:44",
          "2018-07-14 0:09:18",
          "2018-07-14 0:09:18",
          "2018-07-14 0:09:44",
          "2018-07-14 0:10:53",
          "2018-07-14 0:10:53",
          "2018-07-14 0:09:44",
          "2018-07-14 0:09:44",
          "2018-07-14 0:08:17",
          "2018-07-14 0:09:18",
          "2018-07-14 0:09:18",
          "2018-07-14 0:08:17",
          "2018-07-14 0:08:17",
          "2018-07-14 0:15:19",
          "2018-07-14 0:16:12",
          "2018-07-14 0:16:12",
          "2018-07-14 0:15:19",
          "2018-07-14 0:15:19",
          "2018-07-14 0:11:14",
          "2018-07-14 0:12:03",
          "2018-07-14 0:12:03",
          "2018-07-14 0:11:14",
          "2018-07-14 0:11:14",
          "2018-07-14 0:10:53",
          "2018-07-14 0:11:14",
          "2018-07-14 0:11:14",
          "2018-07-14 0:10:53",
          "2018-07-14 0:10:53",
          "2018-07-14 0:13:22",
          "2018-07-14 0:14:34",
          "2018-07-14 0:14:34",
          "2018-07-14 0:13:22"
         ],
         "y": [
          8.8,
          8.8,
          9.2,
          9.2,
          null,
          7.8,
          7.8,
          8.2,
          8.2,
          null,
          6.8,
          6.8,
          7.2,
          7.2,
          null,
          5.8,
          5.8,
          6.2,
          6.2,
          null,
          4.8,
          4.8,
          5.2,
          5.2,
          null,
          3.8,
          3.8,
          4.2,
          4.2,
          null,
          2.8,
          2.8,
          3.2,
          3.2,
          null,
          1.8,
          1.8,
          2.2,
          2.2,
          null,
          0.8,
          0.8,
          1.2,
          1.2,
          null,
          -0.2,
          -0.2,
          0.2,
          0.2
         ]
        },
        {
         "fill": "toself",
         "fillcolor": "rgb(148, 103, 189)",
         "hoverinfo": "name",
         "legendgroup": "rgb(148, 103, 189)",
         "mode": "none",
         "name": "Job 4",
         "showlegend": true,
         "type": "scatter",
         "x": [
          "2018-07-14 0:03:13",
          "2018-07-14 0:04:24",
          "2018-07-14 0:04:24",
          "2018-07-14 0:03:13",
          "2018-07-14 0:03:13",
          "2018-07-14 0:00:00",
          "2018-07-14 0:01:21",
          "2018-07-14 0:01:21",
          "2018-07-14 0:00:00",
          "2018-07-14 0:00:00",
          "2018-07-14 0:01:24",
          "2018-07-14 0:02:59",
          "2018-07-14 0:02:59",
          "2018-07-14 0:01:24",
          "2018-07-14 0:01:24",
          "2018-07-14 0:13:21",
          "2018-07-14 0:14:59",
          "2018-07-14 0:14:59",
          "2018-07-14 0:13:21",
          "2018-07-14 0:13:21",
          "2018-07-14 0:04:24",
          "2018-07-14 0:06:03",
          "2018-07-14 0:06:03",
          "2018-07-14 0:04:24",
          "2018-07-14 0:04:24",
          "2018-07-14 0:16:26",
          "2018-07-14 0:17:09",
          "2018-07-14 0:17:09",
          "2018-07-14 0:16:26",
          "2018-07-14 0:16:26",
          "2018-07-14 0:06:03",
          "2018-07-14 0:06:12",
          "2018-07-14 0:06:12",
          "2018-07-14 0:06:03",
          "2018-07-14 0:06:03",
          "2018-07-14 0:07:04",
          "2018-07-14 0:08:29",
          "2018-07-14 0:08:29",
          "2018-07-14 0:07:04",
          "2018-07-14 0:07:04",
          "2018-07-14 0:06:12",
          "2018-07-14 0:07:04",
          "2018-07-14 0:07:04",
          "2018-07-14 0:06:12",
          "2018-07-14 0:06:12",
          "2018-07-14 0:16:04",
          "2018-07-14 0:16:26",
          "2018-07-14 0:16:26",
          "2018-07-14 0:16:04"
         ],
         "y": [
          8.8,
          8.8,
          9.2,
          9.2,
          null,
          7.8,
          7.8,
          8.2,
          8.2,
          null,
          6.8,
          6.8,
          7.2,
          7.2,
          null,
          5.8,
          5.8,
          6.2,
          6.2,
          null,
          4.8,
          4.8,
          5.2,
          5.2,
          null,
          3.8,
          3.8,
          4.2,
          4.2,
          null,
          2.8,
          2.8,
          3.2,
          3.2,
          null,
          1.8,
          1.8,
          2.2,
          2.2,
          null,
          0.8,
          0.8,
          1.2,
          1.2,
          null,
          -0.2,
          -0.2,
          0.2,
          0.2
         ]
        },
        {
         "fill": "toself",
         "fillcolor": "rgb(188, 189, 34)",
         "hoverinfo": "name",
         "legendgroup": "rgb(188, 189, 34)",
         "mode": "none",
         "name": "Job 8",
         "showlegend": true,
         "type": "scatter",
         "x": [
          "2018-07-14 0:04:24",
          "2018-07-14 0:05:50",
          "2018-07-14 0:05:50",
          "2018-07-14 0:04:24",
          "2018-07-14 0:04:24",
          "2018-07-14 0:06:01",
          "2018-07-14 0:06:47",
          "2018-07-14 0:06:47",
          "2018-07-14 0:06:01",
          "2018-07-14 0:06:01",
          "2018-07-14 0:02:59",
          "2018-07-14 0:03:30",
          "2018-07-14 0:03:30",
          "2018-07-14 0:02:59",
          "2018-07-14 0:02:59",
          "2018-07-14 0:14:59",
          "2018-07-14 0:16:18",
          "2018-07-14 0:16:18",
          "2018-07-14 0:14:59",
          "2018-07-14 0:14:59",
          "2018-07-14 0:08:17",
          "2018-07-14 0:08:49",
          "2018-07-14 0:08:49",
          "2018-07-14 0:08:17",
          "2018-07-14 0:08:17",
          "2018-07-14 0:07:03",
          "2018-07-14 0:08:17",
          "2018-07-14 0:08:17",
          "2018-07-14 0:07:03",
          "2018-07-14 0:07:03",
          "2018-07-14 0:10:03",
          "2018-07-14 0:11:31",
          "2018-07-14 0:11:31",
          "2018-07-14 0:10:03",
          "2018-07-14 0:10:03",
          "2018-07-14 0:12:38",
          "2018-07-14 0:13:14",
          "2018-07-14 0:13:14",
          "2018-07-14 0:12:38",
          "2018-07-14 0:12:38",
          "2018-07-14 0:11:31",
          "2018-07-14 0:11:50",
          "2018-07-14 0:11:50",
          "2018-07-14 0:11:31",
          "2018-07-14 0:11:31",
          "2018-07-14 0:11:50",
          "2018-07-14 0:12:38",
          "2018-07-14 0:12:38",
          "2018-07-14 0:11:50"
         ],
         "y": [
          8.8,
          8.8,
          9.2,
          9.2,
          null,
          7.8,
          7.8,
          8.2,
          8.2,
          null,
          6.8,
          6.8,
          7.2,
          7.2,
          null,
          5.8,
          5.8,
          6.2,
          6.2,
          null,
          4.8,
          4.8,
          5.2,
          5.2,
          null,
          3.8,
          3.8,
          4.2,
          4.2,
          null,
          2.8,
          2.8,
          3.2,
          3.2,
          null,
          1.8,
          1.8,
          2.2,
          2.2,
          null,
          0.8,
          0.8,
          1.2,
          1.2,
          null,
          -0.2,
          -0.2,
          0.2,
          0.2
         ]
        },
        {
         "fill": "toself",
         "fillcolor": "rgb(214, 39, 40)",
         "hoverinfo": "name",
         "legendgroup": "rgb(214, 39, 40)",
         "mode": "none",
         "name": "Job 3",
         "showlegend": true,
         "type": "scatter",
         "x": [
          "2018-07-14 0:08:40",
          "2018-07-14 0:10:05",
          "2018-07-14 0:10:05",
          "2018-07-14 0:08:40",
          "2018-07-14 0:08:40",
          "2018-07-14 0:07:09",
          "2018-07-14 0:08:40",
          "2018-07-14 0:08:40",
          "2018-07-14 0:07:09",
          "2018-07-14 0:07:09",
          "2018-07-14 0:10:44",
          "2018-07-14 0:11:58",
          "2018-07-14 0:11:58",
          "2018-07-14 0:10:44",
          "2018-07-14 0:10:44",
          "2018-07-14 0:10:05",
          "2018-07-14 0:10:44",
          "2018-07-14 0:10:44",
          "2018-07-14 0:10:05",
          "2018-07-14 0:10:05",
          "2018-07-14 0:17:01",
          "2018-07-14 0:17:34",
          "2018-07-14 0:17:34",
          "2018-07-14 0:17:01",
          "2018-07-14 0:17:01",
          "2018-07-14 0:13:28",
          "2018-07-14 0:13:38",
          "2018-07-14 0:13:38",
          "2018-07-14 0:13:28",
          "2018-07-14 0:13:28",
          "2018-07-14 0:13:50",
          "2018-07-14 0:15:19",
          "2018-07-14 0:15:19",
          "2018-07-14 0:13:50",
          "2018-07-14 0:13:50",
          "2018-07-14 0:13:38",
          "2018-07-14 0:13:50",
          "2018-07-14 0:13:50",
          "2018-07-14 0:13:38",
          "2018-07-14 0:13:38",
          "2018-07-14 0:11:58",
          "2018-07-14 0:13:28",
          "2018-07-14 0:13:28",
          "2018-07-14 0:11:58",
          "2018-07-14 0:11:58",
          "2018-07-14 0:15:19",
          "2018-07-14 0:16:04",
          "2018-07-14 0:16:04",
          "2018-07-14 0:15:19"
         ],
         "y": [
          8.8,
          8.8,
          9.2,
          9.2,
          null,
          7.8,
          7.8,
          8.2,
          8.2,
          null,
          6.8,
          6.8,
          7.2,
          7.2,
          null,
          5.8,
          5.8,
          6.2,
          6.2,
          null,
          4.8,
          4.8,
          5.2,
          5.2,
          null,
          3.8,
          3.8,
          4.2,
          4.2,
          null,
          2.8,
          2.8,
          3.2,
          3.2,
          null,
          1.8,
          1.8,
          2.2,
          2.2,
          null,
          0.8,
          0.8,
          1.2,
          1.2,
          null,
          -0.2,
          -0.2,
          0.2,
          0.2
         ]
        },
        {
         "fill": "toself",
         "fillcolor": "rgb(227, 119, 194)",
         "hoverinfo": "name",
         "legendgroup": "rgb(227, 119, 194)",
         "mode": "none",
         "name": "Job 6",
         "showlegend": true,
         "type": "scatter",
         "x": [
          "2018-07-14 0:10:26",
          "2018-07-14 0:11:13",
          "2018-07-14 0:11:13",
          "2018-07-14 0:10:26",
          "2018-07-14 0:10:26",
          "2018-07-14 0:04:34",
          "2018-07-14 0:04:36",
          "2018-07-14 0:04:36",
          "2018-07-14 0:04:34",
          "2018-07-14 0:04:34",
          "2018-07-14 0:00:00",
          "2018-07-14 0:01:24",
          "2018-07-14 0:01:24",
          "2018-07-14 0:00:00",
          "2018-07-14 0:00:00",
          "2018-07-14 0:06:20",
          "2018-07-14 0:07:55",
          "2018-07-14 0:07:55",
          "2018-07-14 0:06:20",
          "2018-07-14 0:06:20",
          "2018-07-14 0:12:36",
          "2018-07-14 0:12:42",
          "2018-07-14 0:12:42",
          "2018-07-14 0:12:36",
          "2018-07-14 0:12:36",
          "2018-07-14 0:05:23",
          "2018-07-14 0:06:15",
          "2018-07-14 0:06:15",
          "2018-07-14 0:05:23",
          "2018-07-14 0:05:23",
          "2018-07-14 0:11:31",
          "2018-07-14 0:12:36",
          "2018-07-14 0:12:36",
          "2018-07-14 0:11:31",
          "2018-07-14 0:11:31",
          "2018-07-14 0:13:50",
          "2018-07-14 0:14:15",
          "2018-07-14 0:14:15",
          "2018-07-14 0:13:50",
          "2018-07-14 0:13:50",
          "2018-07-14 0:08:26",
          "2018-07-14 0:09:14",
          "2018-07-14 0:09:14",
          "2018-07-14 0:08:26",
          "2018-07-14 0:08:26",
          "2018-07-14 0:09:14",
          "2018-07-14 0:10:26",
          "2018-07-14 0:10:26",
          "2018-07-14 0:09:14"
         ],
         "y": [
          8.8,
          8.8,
          9.2,
          9.2,
          null,
          7.8,
          7.8,
          8.2,
          8.2,
          null,
          6.8,
          6.8,
          7.2,
          7.2,
          null,
          5.8,
          5.8,
          6.2,
          6.2,
          null,
          4.8,
          4.8,
          5.2,
          5.2,
          null,
          3.8,
          3.8,
          4.2,
          4.2,
          null,
          2.8,
          2.8,
          3.2,
          3.2,
          null,
          1.8,
          1.8,
          2.2,
          2.2,
          null,
          0.8,
          0.8,
          1.2,
          1.2,
          null,
          -0.2,
          -0.2,
          0.2,
          0.2
         ]
        },
        {
         "fill": "toself",
         "fillcolor": "rgb(23, 190, 207)",
         "hoverinfo": "name",
         "legendgroup": "rgb(23, 190, 207)",
         "mode": "none",
         "name": "Job 9",
         "showlegend": true,
         "type": "scatter",
         "x": [
          "2018-07-14 0:00:43",
          "2018-07-14 0:01:59",
          "2018-07-14 0:01:59",
          "2018-07-14 0:00:43",
          "2018-07-14 0:00:43",
          "2018-07-14 0:02:07",
          "2018-07-14 0:03:16",
          "2018-07-14 0:03:16",
          "2018-07-14 0:02:07",
          "2018-07-14 0:02:07",
          "2018-07-14 0:07:15",
          "2018-07-14 0:08:40",
          "2018-07-14 0:08:40",
          "2018-07-14 0:07:15",
          "2018-07-14 0:07:15",
          "2018-07-14 0:03:16",
          "2018-07-14 0:04:32",
          "2018-07-14 0:04:32",
          "2018-07-14 0:03:16",
          "2018-07-14 0:03:16",
          "2018-07-14 0:12:42",
          "2018-07-14 0:13:08",
          "2018-07-14 0:13:08",
          "2018-07-14 0:12:42",
          "2018-07-14 0:12:42",
          "2018-07-14 0:04:32",
          "2018-07-14 0:05:23",
          "2018-07-14 0:05:23",
          "2018-07-14 0:04:32",
          "2018-07-14 0:04:32",
          "2018-07-14 0:08:51",
          "2018-07-14 0:09:31",
          "2018-07-14 0:09:31",
          "2018-07-14 0:08:51",
          "2018-07-14 0:08:51",
          "2018-07-14 0:09:31",
          "2018-07-14 0:11:00",
          "2018-07-14 0:11:00",
          "2018-07-14 0:09:31",
          "2018-07-14 0:09:31",
          "2018-07-14 0:14:57",
          "2018-07-14 0:16:11",
          "2018-07-14 0:16:11",
          "2018-07-14 0:14:57",
          "2018-07-14 0:14:57",
          "2018-07-14 0:08:40",
          "2018-07-14 0:08:51",
          "2018-07-14 0:08:51",
          "2018-07-14 0:08:40"
         ],
         "y": [
          8.8,
          8.8,
          9.2,
          9.2,
          null,
          7.8,
          7.8,
          8.2,
          8.2,
          null,
          6.8,
          6.8,
          7.2,
          7.2,
          null,
          5.8,
          5.8,
          6.2,
          6.2,
          null,
          4.8,
          4.8,
          5.2,
          5.2,
          null,
          3.8,
          3.8,
          4.2,
          4.2,
          null,
          2.8,
          2.8,
          3.2,
          3.2,
          null,
          1.8,
          1.8,
          2.2,
          2.2,
          null,
          0.8,
          0.8,
          1.2,
          1.2,
          null,
          -0.2,
          -0.2,
          0.2,
          0.2
         ]
        },
        {
         "fill": "toself",
         "fillcolor": "rgb(255, 127, 14)",
         "hoverinfo": "name",
         "legendgroup": "rgb(255, 127, 14)",
         "mode": "none",
         "name": "Job 10",
         "showlegend": true,
         "type": "scatter",
         "x": [
          "2018-07-14 0:06:01",
          "2018-07-14 0:06:14",
          "2018-07-14 0:06:14",
          "2018-07-14 0:06:01",
          "2018-07-14 0:06:01",
          "2018-07-14 0:04:36",
          "2018-07-14 0:06:01",
          "2018-07-14 0:06:01",
          "2018-07-14 0:04:36",
          "2018-07-14 0:04:36",
          "2018-07-14 0:06:14",
          "2018-07-14 0:07:15",
          "2018-07-14 0:07:15",
          "2018-07-14 0:06:14",
          "2018-07-14 0:06:14",
          "2018-07-14 0:12:29",
          "2018-07-14 0:13:21",
          "2018-07-14 0:13:21",
          "2018-07-14 0:12:29",
          "2018-07-14 0:12:29",
          "2018-07-14 0:13:21",
          "2018-07-14 0:14:51",
          "2018-07-14 0:14:51",
          "2018-07-14 0:13:21",
          "2018-07-14 0:13:21",
          "2018-07-14 0:11:42",
          "2018-07-14 0:12:29",
          "2018-07-14 0:12:29",
          "2018-07-14 0:11:42",
          "2018-07-14 0:11:42",
          "2018-07-14 0:07:15",
          "2018-07-14 0:07:22",
          "2018-07-14 0:07:22",
          "2018-07-14 0:07:15",
          "2018-07-14 0:07:15",
          "2018-07-14 0:16:06",
          "2018-07-14 0:16:51",
          "2018-07-14 0:16:51",
          "2018-07-14 0:16:06",
          "2018-07-14 0:16:06",
          "2018-07-14 0:07:22",
          "2018-07-14 0:08:26",
          "2018-07-14 0:08:26",
          "2018-07-14 0:07:22",
          "2018-07-14 0:07:22",
          "2018-07-14 0:10:26",
          "2018-07-14 0:11:42",
          "2018-07-14 0:11:42",
          "2018-07-14 0:10:26"
         ],
         "y": [
          8.8,
          8.8,
          9.2,
          9.2,
          null,
          7.8,
          7.8,
          8.2,
          8.2,
          null,
          6.8,
          6.8,
          7.2,
          7.2,
          null,
          5.8,
          5.8,
          6.2,
          6.2,
          null,
          4.8,
          4.8,
          5.2,
          5.2,
          null,
          3.8,
          3.8,
          4.2,
          4.2,
          null,
          2.8,
          2.8,
          3.2,
          3.2,
          null,
          1.8,
          1.8,
          2.2,
          2.2,
          null,
          0.8,
          0.8,
          1.2,
          1.2,
          null,
          -0.2,
          -0.2,
          0.2,
          0.2
         ]
        },
        {
         "fill": "toself",
         "fillcolor": "rgb(31, 119, 180)",
         "hoverinfo": "name",
         "legendgroup": "rgb(31, 119, 180)",
         "mode": "none",
         "name": "Job 1",
         "showlegend": true,
         "type": "scatter",
         "x": [
          "2018-07-14 0:02:44",
          "2018-07-14 0:03:13",
          "2018-07-14 0:03:13",
          "2018-07-14 0:02:44",
          "2018-07-14 0:02:44",
          "2018-07-14 0:03:16",
          "2018-07-14 0:04:34",
          "2018-07-14 0:04:34",
          "2018-07-14 0:03:16",
          "2018-07-14 0:03:16",
          "2018-07-14 0:04:34",
          "2018-07-14 0:04:43",
          "2018-07-14 0:04:43",
          "2018-07-14 0:04:34",
          "2018-07-14 0:04:34",
          "2018-07-14 0:04:43",
          "2018-07-14 0:05:19",
          "2018-07-14 0:05:19",
          "2018-07-14 0:04:43",
          "2018-07-14 0:04:43",
          "2018-07-14 0:06:03",
          "2018-07-14 0:06:52",
          "2018-07-14 0:06:52",
          "2018-07-14 0:06:03",
          "2018-07-14 0:06:03",
          "2018-07-14 0:06:52",
          "2018-07-14 0:07:03",
          "2018-07-14 0:07:03",
          "2018-07-14 0:06:52",
          "2018-07-14 0:06:52",
          "2018-07-14 0:07:22",
          "2018-07-14 0:08:24",
          "2018-07-14 0:08:24",
          "2018-07-14 0:07:22",
          "2018-07-14 0:07:22",
          "2018-07-14 0:08:29",
          "2018-07-14 0:09:25",
          "2018-07-14 0:09:25",
          "2018-07-14 0:08:29",
          "2018-07-14 0:08:29",
          "2018-07-14 0:09:25",
          "2018-07-14 0:10:09",
          "2018-07-14 0:10:09",
          "2018-07-14 0:09:25",
          "2018-07-14 0:09:25",
          "2018-07-14 0:14:34",
          "2018-07-14 0:14:55",
          "2018-07-14 0:14:55",
          "2018-07-14 0:14:34"
         ],
         "y": [
          8.8,
          8.8,
          9.2,
          9.2,
          null,
          7.8,
          7.8,
          8.2,
          8.2,
          null,
          6.8,
          6.8,
          7.2,
          7.2,
          null,
          5.8,
          5.8,
          6.2,
          6.2,
          null,
          4.8,
          4.8,
          5.2,
          5.2,
          null,
          3.8,
          3.8,
          4.2,
          4.2,
          null,
          2.8,
          2.8,
          3.2,
          3.2,
          null,
          1.8,
          1.8,
          2.2,
          2.2,
          null,
          0.8,
          0.8,
          1.2,
          1.2,
          null,
          -0.2,
          -0.2,
          0.2,
          0.2
         ]
        },
        {
         "fill": "toself",
         "fillcolor": "rgb(44, 160, 44)",
         "hoverinfo": "name",
         "legendgroup": "rgb(44, 160, 44)",
         "mode": "none",
         "name": "Job 2",
         "showlegend": true,
         "type": "scatter",
         "x": [
          "2018-07-14 0:00:00",
          "2018-07-14 0:00:43",
          "2018-07-14 0:00:43",
          "2018-07-14 0:00:00",
          "2018-07-14 0:00:00",
          "2018-07-14 0:11:53",
          "2018-07-14 0:12:21",
          "2018-07-14 0:12:21",
          "2018-07-14 0:11:53",
          "2018-07-14 0:11:53",
          "2018-07-14 0:04:43",
          "2018-07-14 0:06:13",
          "2018-07-14 0:06:13",
          "2018-07-14 0:04:43",
          "2018-07-14 0:04:43",
          "2018-07-14 0:10:44",
          "2018-07-14 0:11:53",
          "2018-07-14 0:11:53",
          "2018-07-14 0:10:44",
          "2018-07-14 0:10:44",
          "2018-07-14 0:06:52",
          "2018-07-14 0:08:07",
          "2018-07-14 0:08:07",
          "2018-07-14 0:06:52",
          "2018-07-14 0:06:52",
          "2018-07-14 0:13:38",
          "2018-07-14 0:14:24",
          "2018-07-14 0:14:24",
          "2018-07-14 0:13:38",
          "2018-07-14 0:13:38",
          "2018-07-14 0:12:36",
          "2018-07-14 0:13:22",
          "2018-07-14 0:13:22",
          "2018-07-14 0:12:36",
          "2018-07-14 0:12:36",
          "2018-07-14 0:14:24",
          "2018-07-14 0:15:36",
          "2018-07-14 0:15:36",
          "2018-07-14 0:14:24",
          "2018-07-14 0:14:24",
          "2018-07-14 0:16:11",
          "2018-07-14 0:16:41",
          "2018-07-14 0:16:41",
          "2018-07-14 0:16:11",
          "2018-07-14 0:16:11",
          "2018-07-14 0:08:51",
          "2018-07-14 0:09:02",
          "2018-07-14 0:09:02",
          "2018-07-14 0:08:51"
         ],
         "y": [
          8.8,
          8.8,
          9.2,
          9.2,
          null,
          7.8,
          7.8,
          8.2,
          8.2,
          null,
          6.8,
          6.8,
          7.2,
          7.2,
          null,
          5.8,
          5.8,
          6.2,
          6.2,
          null,
          4.8,
          4.8,
          5.2,
          5.2,
          null,
          3.8,
          3.8,
          4.2,
          4.2,
          null,
          2.8,
          2.8,
          3.2,
          3.2,
          null,
          1.8,
          1.8,
          2.2,
          2.2,
          null,
          0.8,
          0.8,
          1.2,
          1.2,
          null,
          -0.2,
          -0.2,
          0.2,
          0.2
         ]
        },
        {
         "legendgroup": "rgb(127, 127, 127)",
         "marker": {
          "color": "rgb(127, 127, 127)",
          "opacity": 0,
          "size": 1
         },
         "mode": "markers",
         "name": "",
         "showlegend": false,
         "text": [
          null,
          null,
          null,
          null,
          null,
          null,
          null,
          null,
          null,
          null,
          null,
          null,
          null,
          null,
          null,
          null,
          null,
          null,
          null,
          null
         ],
         "type": "scatter",
         "x": [
          "2018-07-14 0:02:07",
          "2018-07-14 0:02:44",
          "2018-07-14 0:01:21",
          "2018-07-14 0:02:07",
          "2018-07-14 0:08:40",
          "2018-07-14 0:08:53",
          "2018-07-14 0:05:19",
          "2018-07-14 0:06:20",
          "2018-07-14 0:16:06",
          "2018-07-14 0:17:01",
          "2018-07-14 0:12:29",
          "2018-07-14 0:12:50",
          "2018-07-14 0:09:31",
          "2018-07-14 0:10:03",
          "2018-07-14 0:15:36",
          "2018-07-14 0:16:06",
          "2018-07-14 0:13:28",
          "2018-07-14 0:14:57",
          "2018-07-14 0:12:50",
          "2018-07-14 0:13:22"
         ],
         "y": [
          9,
          9,
          8,
          8,
          7,
          7,
          6,
          6,
          5,
          5,
          4,
          4,
          3,
          3,
          2,
          2,
          1,
          1,
          0,
          0
         ]
        },
        {
         "legendgroup": "rgb(140, 86, 75)",
         "marker": {
          "color": "rgb(140, 86, 75)",
          "opacity": 0,
          "size": 1
         },
         "mode": "markers",
         "name": "",
         "showlegend": false,
         "text": [
          null,
          null,
          null,
          null,
          null,
          null,
          null,
          null,
          null,
          null,
          null,
          null,
          null,
          null,
          null,
          null,
          null,
          null,
          null,
          null
         ],
         "type": "scatter",
         "x": [
          "2018-07-14 0:05:50",
          "2018-07-14 0:05:56",
          "2018-07-14 0:06:47",
          "2018-07-14 0:07:09",
          "2018-07-14 0:03:30",
          "2018-07-14 0:03:44",
          "2018-07-14 0:09:18",
          "2018-07-14 0:09:44",
          "2018-07-14 0:09:44",
          "2018-07-14 0:10:53",
          "2018-07-14 0:08:17",
          "2018-07-14 0:09:18",
          "2018-07-14 0:15:19",
          "2018-07-14 0:16:12",
          "2018-07-14 0:11:14",
          "2018-07-14 0:12:03",
          "2018-07-14 0:10:53",
          "2018-07-14 0:11:14",
          "2018-07-14 0:13:22",
          "2018-07-14 0:14:34"
         ],
         "y": [
          9,
          9,
          8,
          8,
          7,
          7,
          6,
          6,
          5,
          5,
          4,
          4,
          3,
          3,
          2,
          2,
          1,
          1,
          0,
          0
         ]
        },
        {
         "legendgroup": "rgb(148, 103, 189)",
         "marker": {
          "color": "rgb(148, 103, 189)",
          "opacity": 0,
          "size": 1
         },
         "mode": "markers",
         "name": "",
         "showlegend": false,
         "text": [
          null,
          null,
          null,
          null,
          null,
          null,
          null,
          null,
          null,
          null,
          null,
          null,
          null,
          null,
          null,
          null,
          null,
          null,
          null,
          null
         ],
         "type": "scatter",
         "x": [
          "2018-07-14 0:03:13",
          "2018-07-14 0:04:24",
          "2018-07-14 0:00:00",
          "2018-07-14 0:01:21",
          "2018-07-14 0:01:24",
          "2018-07-14 0:02:59",
          "2018-07-14 0:13:21",
          "2018-07-14 0:14:59",
          "2018-07-14 0:04:24",
          "2018-07-14 0:06:03",
          "2018-07-14 0:16:26",
          "2018-07-14 0:17:09",
          "2018-07-14 0:06:03",
          "2018-07-14 0:06:12",
          "2018-07-14 0:07:04",
          "2018-07-14 0:08:29",
          "2018-07-14 0:06:12",
          "2018-07-14 0:07:04",
          "2018-07-14 0:16:04",
          "2018-07-14 0:16:26"
         ],
         "y": [
          9,
          9,
          8,
          8,
          7,
          7,
          6,
          6,
          5,
          5,
          4,
          4,
          3,
          3,
          2,
          2,
          1,
          1,
          0,
          0
         ]
        },
        {
         "legendgroup": "rgb(188, 189, 34)",
         "marker": {
          "color": "rgb(188, 189, 34)",
          "opacity": 0,
          "size": 1
         },
         "mode": "markers",
         "name": "",
         "showlegend": false,
         "text": [
          null,
          null,
          null,
          null,
          null,
          null,
          null,
          null,
          null,
          null,
          null,
          null,
          null,
          null,
          null,
          null,
          null,
          null,
          null,
          null
         ],
         "type": "scatter",
         "x": [
          "2018-07-14 0:04:24",
          "2018-07-14 0:05:50",
          "2018-07-14 0:06:01",
          "2018-07-14 0:06:47",
          "2018-07-14 0:02:59",
          "2018-07-14 0:03:30",
          "2018-07-14 0:14:59",
          "2018-07-14 0:16:18",
          "2018-07-14 0:08:17",
          "2018-07-14 0:08:49",
          "2018-07-14 0:07:03",
          "2018-07-14 0:08:17",
          "2018-07-14 0:10:03",
          "2018-07-14 0:11:31",
          "2018-07-14 0:12:38",
          "2018-07-14 0:13:14",
          "2018-07-14 0:11:31",
          "2018-07-14 0:11:50",
          "2018-07-14 0:11:50",
          "2018-07-14 0:12:38"
         ],
         "y": [
          9,
          9,
          8,
          8,
          7,
          7,
          6,
          6,
          5,
          5,
          4,
          4,
          3,
          3,
          2,
          2,
          1,
          1,
          0,
          0
         ]
        },
        {
         "legendgroup": "rgb(214, 39, 40)",
         "marker": {
          "color": "rgb(214, 39, 40)",
          "opacity": 0,
          "size": 1
         },
         "mode": "markers",
         "name": "",
         "showlegend": false,
         "text": [
          null,
          null,
          null,
          null,
          null,
          null,
          null,
          null,
          null,
          null,
          null,
          null,
          null,
          null,
          null,
          null,
          null,
          null,
          null,
          null
         ],
         "type": "scatter",
         "x": [
          "2018-07-14 0:08:40",
          "2018-07-14 0:10:05",
          "2018-07-14 0:07:09",
          "2018-07-14 0:08:40",
          "2018-07-14 0:10:44",
          "2018-07-14 0:11:58",
          "2018-07-14 0:10:05",
          "2018-07-14 0:10:44",
          "2018-07-14 0:17:01",
          "2018-07-14 0:17:34",
          "2018-07-14 0:13:28",
          "2018-07-14 0:13:38",
          "2018-07-14 0:13:50",
          "2018-07-14 0:15:19",
          "2018-07-14 0:13:38",
          "2018-07-14 0:13:50",
          "2018-07-14 0:11:58",
          "2018-07-14 0:13:28",
          "2018-07-14 0:15:19",
          "2018-07-14 0:16:04"
         ],
         "y": [
          9,
          9,
          8,
          8,
          7,
          7,
          6,
          6,
          5,
          5,
          4,
          4,
          3,
          3,
          2,
          2,
          1,
          1,
          0,
          0
         ]
        },
        {
         "legendgroup": "rgb(227, 119, 194)",
         "marker": {
          "color": "rgb(227, 119, 194)",
          "opacity": 0,
          "size": 1
         },
         "mode": "markers",
         "name": "",
         "showlegend": false,
         "text": [
          null,
          null,
          null,
          null,
          null,
          null,
          null,
          null,
          null,
          null,
          null,
          null,
          null,
          null,
          null,
          null,
          null,
          null,
          null,
          null
         ],
         "type": "scatter",
         "x": [
          "2018-07-14 0:10:26",
          "2018-07-14 0:11:13",
          "2018-07-14 0:04:34",
          "2018-07-14 0:04:36",
          "2018-07-14 0:00:00",
          "2018-07-14 0:01:24",
          "2018-07-14 0:06:20",
          "2018-07-14 0:07:55",
          "2018-07-14 0:12:36",
          "2018-07-14 0:12:42",
          "2018-07-14 0:05:23",
          "2018-07-14 0:06:15",
          "2018-07-14 0:11:31",
          "2018-07-14 0:12:36",
          "2018-07-14 0:13:50",
          "2018-07-14 0:14:15",
          "2018-07-14 0:08:26",
          "2018-07-14 0:09:14",
          "2018-07-14 0:09:14",
          "2018-07-14 0:10:26"
         ],
         "y": [
          9,
          9,
          8,
          8,
          7,
          7,
          6,
          6,
          5,
          5,
          4,
          4,
          3,
          3,
          2,
          2,
          1,
          1,
          0,
          0
         ]
        },
        {
         "legendgroup": "rgb(23, 190, 207)",
         "marker": {
          "color": "rgb(23, 190, 207)",
          "opacity": 0,
          "size": 1
         },
         "mode": "markers",
         "name": "",
         "showlegend": false,
         "text": [
          null,
          null,
          null,
          null,
          null,
          null,
          null,
          null,
          null,
          null,
          null,
          null,
          null,
          null,
          null,
          null,
          null,
          null,
          null,
          null
         ],
         "type": "scatter",
         "x": [
          "2018-07-14 0:00:43",
          "2018-07-14 0:01:59",
          "2018-07-14 0:02:07",
          "2018-07-14 0:03:16",
          "2018-07-14 0:07:15",
          "2018-07-14 0:08:40",
          "2018-07-14 0:03:16",
          "2018-07-14 0:04:32",
          "2018-07-14 0:12:42",
          "2018-07-14 0:13:08",
          "2018-07-14 0:04:32",
          "2018-07-14 0:05:23",
          "2018-07-14 0:08:51",
          "2018-07-14 0:09:31",
          "2018-07-14 0:09:31",
          "2018-07-14 0:11:00",
          "2018-07-14 0:14:57",
          "2018-07-14 0:16:11",
          "2018-07-14 0:08:40",
          "2018-07-14 0:08:51"
         ],
         "y": [
          9,
          9,
          8,
          8,
          7,
          7,
          6,
          6,
          5,
          5,
          4,
          4,
          3,
          3,
          2,
          2,
          1,
          1,
          0,
          0
         ]
        },
        {
         "legendgroup": "rgb(255, 127, 14)",
         "marker": {
          "color": "rgb(255, 127, 14)",
          "opacity": 0,
          "size": 1
         },
         "mode": "markers",
         "name": "",
         "showlegend": false,
         "text": [
          null,
          null,
          null,
          null,
          null,
          null,
          null,
          null,
          null,
          null,
          null,
          null,
          null,
          null,
          null,
          null,
          null,
          null,
          null,
          null
         ],
         "type": "scatter",
         "x": [
          "2018-07-14 0:06:01",
          "2018-07-14 0:06:14",
          "2018-07-14 0:04:36",
          "2018-07-14 0:06:01",
          "2018-07-14 0:06:14",
          "2018-07-14 0:07:15",
          "2018-07-14 0:12:29",
          "2018-07-14 0:13:21",
          "2018-07-14 0:13:21",
          "2018-07-14 0:14:51",
          "2018-07-14 0:11:42",
          "2018-07-14 0:12:29",
          "2018-07-14 0:07:15",
          "2018-07-14 0:07:22",
          "2018-07-14 0:16:06",
          "2018-07-14 0:16:51",
          "2018-07-14 0:07:22",
          "2018-07-14 0:08:26",
          "2018-07-14 0:10:26",
          "2018-07-14 0:11:42"
         ],
         "y": [
          9,
          9,
          8,
          8,
          7,
          7,
          6,
          6,
          5,
          5,
          4,
          4,
          3,
          3,
          2,
          2,
          1,
          1,
          0,
          0
         ]
        },
        {
         "legendgroup": "rgb(31, 119, 180)",
         "marker": {
          "color": "rgb(31, 119, 180)",
          "opacity": 0,
          "size": 1
         },
         "mode": "markers",
         "name": "",
         "showlegend": false,
         "text": [
          null,
          null,
          null,
          null,
          null,
          null,
          null,
          null,
          null,
          null,
          null,
          null,
          null,
          null,
          null,
          null,
          null,
          null,
          null,
          null
         ],
         "type": "scatter",
         "x": [
          "2018-07-14 0:02:44",
          "2018-07-14 0:03:13",
          "2018-07-14 0:03:16",
          "2018-07-14 0:04:34",
          "2018-07-14 0:04:34",
          "2018-07-14 0:04:43",
          "2018-07-14 0:04:43",
          "2018-07-14 0:05:19",
          "2018-07-14 0:06:03",
          "2018-07-14 0:06:52",
          "2018-07-14 0:06:52",
          "2018-07-14 0:07:03",
          "2018-07-14 0:07:22",
          "2018-07-14 0:08:24",
          "2018-07-14 0:08:29",
          "2018-07-14 0:09:25",
          "2018-07-14 0:09:25",
          "2018-07-14 0:10:09",
          "2018-07-14 0:14:34",
          "2018-07-14 0:14:55"
         ],
         "y": [
          9,
          9,
          8,
          8,
          7,
          7,
          6,
          6,
          5,
          5,
          4,
          4,
          3,
          3,
          2,
          2,
          1,
          1,
          0,
          0
         ]
        },
        {
         "legendgroup": "rgb(44, 160, 44)",
         "marker": {
          "color": "rgb(44, 160, 44)",
          "opacity": 0,
          "size": 1
         },
         "mode": "markers",
         "name": "",
         "showlegend": false,
         "text": [
          null,
          null,
          null,
          null,
          null,
          null,
          null,
          null,
          null,
          null,
          null,
          null,
          null,
          null,
          null,
          null,
          null,
          null,
          null,
          null
         ],
         "type": "scatter",
         "x": [
          "2018-07-14 0:00:00",
          "2018-07-14 0:00:43",
          "2018-07-14 0:11:53",
          "2018-07-14 0:12:21",
          "2018-07-14 0:04:43",
          "2018-07-14 0:06:13",
          "2018-07-14 0:10:44",
          "2018-07-14 0:11:53",
          "2018-07-14 0:06:52",
          "2018-07-14 0:08:07",
          "2018-07-14 0:13:38",
          "2018-07-14 0:14:24",
          "2018-07-14 0:12:36",
          "2018-07-14 0:13:22",
          "2018-07-14 0:14:24",
          "2018-07-14 0:15:36",
          "2018-07-14 0:16:11",
          "2018-07-14 0:16:41",
          "2018-07-14 0:08:51",
          "2018-07-14 0:09:02"
         ],
         "y": [
          9,
          9,
          8,
          8,
          7,
          7,
          6,
          6,
          5,
          5,
          4,
          4,
          3,
          3,
          2,
          2,
          1,
          1,
          0,
          0
         ]
        }
       ],
       "layout": {
        "autosize": true,
        "hovermode": "closest",
        "showlegend": true,
        "template": {
         "data": {
          "bar": [
           {
            "error_x": {
             "color": "#2a3f5f"
            },
            "error_y": {
             "color": "#2a3f5f"
            },
            "marker": {
             "line": {
              "color": "#E5ECF6",
              "width": 0.5
             },
             "pattern": {
              "fillmode": "overlay",
              "size": 10,
              "solidity": 0.2
             }
            },
            "type": "bar"
           }
          ],
          "barpolar": [
           {
            "marker": {
             "line": {
              "color": "#E5ECF6",
              "width": 0.5
             },
             "pattern": {
              "fillmode": "overlay",
              "size": 10,
              "solidity": 0.2
             }
            },
            "type": "barpolar"
           }
          ],
          "carpet": [
           {
            "aaxis": {
             "endlinecolor": "#2a3f5f",
             "gridcolor": "white",
             "linecolor": "white",
             "minorgridcolor": "white",
             "startlinecolor": "#2a3f5f"
            },
            "baxis": {
             "endlinecolor": "#2a3f5f",
             "gridcolor": "white",
             "linecolor": "white",
             "minorgridcolor": "white",
             "startlinecolor": "#2a3f5f"
            },
            "type": "carpet"
           }
          ],
          "choropleth": [
           {
            "colorbar": {
             "outlinewidth": 0,
             "ticks": ""
            },
            "type": "choropleth"
           }
          ],
          "contour": [
           {
            "colorbar": {
             "outlinewidth": 0,
             "ticks": ""
            },
            "colorscale": [
             [
              0,
              "#0d0887"
             ],
             [
              0.1111111111111111,
              "#46039f"
             ],
             [
              0.2222222222222222,
              "#7201a8"
             ],
             [
              0.3333333333333333,
              "#9c179e"
             ],
             [
              0.4444444444444444,
              "#bd3786"
             ],
             [
              0.5555555555555556,
              "#d8576b"
             ],
             [
              0.6666666666666666,
              "#ed7953"
             ],
             [
              0.7777777777777778,
              "#fb9f3a"
             ],
             [
              0.8888888888888888,
              "#fdca26"
             ],
             [
              1,
              "#f0f921"
             ]
            ],
            "type": "contour"
           }
          ],
          "contourcarpet": [
           {
            "colorbar": {
             "outlinewidth": 0,
             "ticks": ""
            },
            "type": "contourcarpet"
           }
          ],
          "heatmap": [
           {
            "colorbar": {
             "outlinewidth": 0,
             "ticks": ""
            },
            "colorscale": [
             [
              0,
              "#0d0887"
             ],
             [
              0.1111111111111111,
              "#46039f"
             ],
             [
              0.2222222222222222,
              "#7201a8"
             ],
             [
              0.3333333333333333,
              "#9c179e"
             ],
             [
              0.4444444444444444,
              "#bd3786"
             ],
             [
              0.5555555555555556,
              "#d8576b"
             ],
             [
              0.6666666666666666,
              "#ed7953"
             ],
             [
              0.7777777777777778,
              "#fb9f3a"
             ],
             [
              0.8888888888888888,
              "#fdca26"
             ],
             [
              1,
              "#f0f921"
             ]
            ],
            "type": "heatmap"
           }
          ],
          "heatmapgl": [
           {
            "colorbar": {
             "outlinewidth": 0,
             "ticks": ""
            },
            "colorscale": [
             [
              0,
              "#0d0887"
             ],
             [
              0.1111111111111111,
              "#46039f"
             ],
             [
              0.2222222222222222,
              "#7201a8"
             ],
             [
              0.3333333333333333,
              "#9c179e"
             ],
             [
              0.4444444444444444,
              "#bd3786"
             ],
             [
              0.5555555555555556,
              "#d8576b"
             ],
             [
              0.6666666666666666,
              "#ed7953"
             ],
             [
              0.7777777777777778,
              "#fb9f3a"
             ],
             [
              0.8888888888888888,
              "#fdca26"
             ],
             [
              1,
              "#f0f921"
             ]
            ],
            "type": "heatmapgl"
           }
          ],
          "histogram": [
           {
            "marker": {
             "pattern": {
              "fillmode": "overlay",
              "size": 10,
              "solidity": 0.2
             }
            },
            "type": "histogram"
           }
          ],
          "histogram2d": [
           {
            "colorbar": {
             "outlinewidth": 0,
             "ticks": ""
            },
            "colorscale": [
             [
              0,
              "#0d0887"
             ],
             [
              0.1111111111111111,
              "#46039f"
             ],
             [
              0.2222222222222222,
              "#7201a8"
             ],
             [
              0.3333333333333333,
              "#9c179e"
             ],
             [
              0.4444444444444444,
              "#bd3786"
             ],
             [
              0.5555555555555556,
              "#d8576b"
             ],
             [
              0.6666666666666666,
              "#ed7953"
             ],
             [
              0.7777777777777778,
              "#fb9f3a"
             ],
             [
              0.8888888888888888,
              "#fdca26"
             ],
             [
              1,
              "#f0f921"
             ]
            ],
            "type": "histogram2d"
           }
          ],
          "histogram2dcontour": [
           {
            "colorbar": {
             "outlinewidth": 0,
             "ticks": ""
            },
            "colorscale": [
             [
              0,
              "#0d0887"
             ],
             [
              0.1111111111111111,
              "#46039f"
             ],
             [
              0.2222222222222222,
              "#7201a8"
             ],
             [
              0.3333333333333333,
              "#9c179e"
             ],
             [
              0.4444444444444444,
              "#bd3786"
             ],
             [
              0.5555555555555556,
              "#d8576b"
             ],
             [
              0.6666666666666666,
              "#ed7953"
             ],
             [
              0.7777777777777778,
              "#fb9f3a"
             ],
             [
              0.8888888888888888,
              "#fdca26"
             ],
             [
              1,
              "#f0f921"
             ]
            ],
            "type": "histogram2dcontour"
           }
          ],
          "mesh3d": [
           {
            "colorbar": {
             "outlinewidth": 0,
             "ticks": ""
            },
            "type": "mesh3d"
           }
          ],
          "parcoords": [
           {
            "line": {
             "colorbar": {
              "outlinewidth": 0,
              "ticks": ""
             }
            },
            "type": "parcoords"
           }
          ],
          "pie": [
           {
            "automargin": true,
            "type": "pie"
           }
          ],
          "scatter": [
           {
            "fillpattern": {
             "fillmode": "overlay",
             "size": 10,
             "solidity": 0.2
            },
            "type": "scatter"
           }
          ],
          "scatter3d": [
           {
            "line": {
             "colorbar": {
              "outlinewidth": 0,
              "ticks": ""
             }
            },
            "marker": {
             "colorbar": {
              "outlinewidth": 0,
              "ticks": ""
             }
            },
            "type": "scatter3d"
           }
          ],
          "scattercarpet": [
           {
            "marker": {
             "colorbar": {
              "outlinewidth": 0,
              "ticks": ""
             }
            },
            "type": "scattercarpet"
           }
          ],
          "scattergeo": [
           {
            "marker": {
             "colorbar": {
              "outlinewidth": 0,
              "ticks": ""
             }
            },
            "type": "scattergeo"
           }
          ],
          "scattergl": [
           {
            "marker": {
             "colorbar": {
              "outlinewidth": 0,
              "ticks": ""
             }
            },
            "type": "scattergl"
           }
          ],
          "scattermapbox": [
           {
            "marker": {
             "colorbar": {
              "outlinewidth": 0,
              "ticks": ""
             }
            },
            "type": "scattermapbox"
           }
          ],
          "scatterpolar": [
           {
            "marker": {
             "colorbar": {
              "outlinewidth": 0,
              "ticks": ""
             }
            },
            "type": "scatterpolar"
           }
          ],
          "scatterpolargl": [
           {
            "marker": {
             "colorbar": {
              "outlinewidth": 0,
              "ticks": ""
             }
            },
            "type": "scatterpolargl"
           }
          ],
          "scatterternary": [
           {
            "marker": {
             "colorbar": {
              "outlinewidth": 0,
              "ticks": ""
             }
            },
            "type": "scatterternary"
           }
          ],
          "surface": [
           {
            "colorbar": {
             "outlinewidth": 0,
             "ticks": ""
            },
            "colorscale": [
             [
              0,
              "#0d0887"
             ],
             [
              0.1111111111111111,
              "#46039f"
             ],
             [
              0.2222222222222222,
              "#7201a8"
             ],
             [
              0.3333333333333333,
              "#9c179e"
             ],
             [
              0.4444444444444444,
              "#bd3786"
             ],
             [
              0.5555555555555556,
              "#d8576b"
             ],
             [
              0.6666666666666666,
              "#ed7953"
             ],
             [
              0.7777777777777778,
              "#fb9f3a"
             ],
             [
              0.8888888888888888,
              "#fdca26"
             ],
             [
              1,
              "#f0f921"
             ]
            ],
            "type": "surface"
           }
          ],
          "table": [
           {
            "cells": {
             "fill": {
              "color": "#EBF0F8"
             },
             "line": {
              "color": "white"
             }
            },
            "header": {
             "fill": {
              "color": "#C8D4E3"
             },
             "line": {
              "color": "white"
             }
            },
            "type": "table"
           }
          ]
         },
         "layout": {
          "annotationdefaults": {
           "arrowcolor": "#2a3f5f",
           "arrowhead": 0,
           "arrowwidth": 1
          },
          "autotypenumbers": "strict",
          "coloraxis": {
           "colorbar": {
            "outlinewidth": 0,
            "ticks": ""
           }
          },
          "colorscale": {
           "diverging": [
            [
             0,
             "#8e0152"
            ],
            [
             0.1,
             "#c51b7d"
            ],
            [
             0.2,
             "#de77ae"
            ],
            [
             0.3,
             "#f1b6da"
            ],
            [
             0.4,
             "#fde0ef"
            ],
            [
             0.5,
             "#f7f7f7"
            ],
            [
             0.6,
             "#e6f5d0"
            ],
            [
             0.7,
             "#b8e186"
            ],
            [
             0.8,
             "#7fbc41"
            ],
            [
             0.9,
             "#4d9221"
            ],
            [
             1,
             "#276419"
            ]
           ],
           "sequential": [
            [
             0,
             "#0d0887"
            ],
            [
             0.1111111111111111,
             "#46039f"
            ],
            [
             0.2222222222222222,
             "#7201a8"
            ],
            [
             0.3333333333333333,
             "#9c179e"
            ],
            [
             0.4444444444444444,
             "#bd3786"
            ],
            [
             0.5555555555555556,
             "#d8576b"
            ],
            [
             0.6666666666666666,
             "#ed7953"
            ],
            [
             0.7777777777777778,
             "#fb9f3a"
            ],
            [
             0.8888888888888888,
             "#fdca26"
            ],
            [
             1,
             "#f0f921"
            ]
           ],
           "sequentialminus": [
            [
             0,
             "#0d0887"
            ],
            [
             0.1111111111111111,
             "#46039f"
            ],
            [
             0.2222222222222222,
             "#7201a8"
            ],
            [
             0.3333333333333333,
             "#9c179e"
            ],
            [
             0.4444444444444444,
             "#bd3786"
            ],
            [
             0.5555555555555556,
             "#d8576b"
            ],
            [
             0.6666666666666666,
             "#ed7953"
            ],
            [
             0.7777777777777778,
             "#fb9f3a"
            ],
            [
             0.8888888888888888,
             "#fdca26"
            ],
            [
             1,
             "#f0f921"
            ]
           ]
          },
          "colorway": [
           "#636efa",
           "#EF553B",
           "#00cc96",
           "#ab63fa",
           "#FFA15A",
           "#19d3f3",
           "#FF6692",
           "#B6E880",
           "#FF97FF",
           "#FECB52"
          ],
          "font": {
           "color": "#2a3f5f"
          },
          "geo": {
           "bgcolor": "white",
           "lakecolor": "white",
           "landcolor": "#E5ECF6",
           "showlakes": true,
           "showland": true,
           "subunitcolor": "white"
          },
          "hoverlabel": {
           "align": "left"
          },
          "hovermode": "closest",
          "mapbox": {
           "style": "light"
          },
          "paper_bgcolor": "white",
          "plot_bgcolor": "#E5ECF6",
          "polar": {
           "angularaxis": {
            "gridcolor": "white",
            "linecolor": "white",
            "ticks": ""
           },
           "bgcolor": "#E5ECF6",
           "radialaxis": {
            "gridcolor": "white",
            "linecolor": "white",
            "ticks": ""
           }
          },
          "scene": {
           "xaxis": {
            "backgroundcolor": "#E5ECF6",
            "gridcolor": "white",
            "gridwidth": 2,
            "linecolor": "white",
            "showbackground": true,
            "ticks": "",
            "zerolinecolor": "white"
           },
           "yaxis": {
            "backgroundcolor": "#E5ECF6",
            "gridcolor": "white",
            "gridwidth": 2,
            "linecolor": "white",
            "showbackground": true,
            "ticks": "",
            "zerolinecolor": "white"
           },
           "zaxis": {
            "backgroundcolor": "#E5ECF6",
            "gridcolor": "white",
            "gridwidth": 2,
            "linecolor": "white",
            "showbackground": true,
            "ticks": "",
            "zerolinecolor": "white"
           }
          },
          "shapedefaults": {
           "line": {
            "color": "#2a3f5f"
           }
          },
          "ternary": {
           "aaxis": {
            "gridcolor": "white",
            "linecolor": "white",
            "ticks": ""
           },
           "baxis": {
            "gridcolor": "white",
            "linecolor": "white",
            "ticks": ""
           },
           "bgcolor": "#E5ECF6",
           "caxis": {
            "gridcolor": "white",
            "linecolor": "white",
            "ticks": ""
           }
          },
          "title": {
           "x": 0.05
          },
          "xaxis": {
           "automargin": true,
           "gridcolor": "white",
           "linecolor": "white",
           "ticks": "",
           "title": {
            "standoff": 15
           },
           "zerolinecolor": "white",
           "zerolinewidth": 2
          },
          "yaxis": {
           "automargin": true,
           "gridcolor": "white",
           "linecolor": "white",
           "ticks": "",
           "title": {
            "standoff": 15
           },
           "zerolinecolor": "white",
           "zerolinewidth": 2
          }
         }
        },
        "title": {
         "text": "objective: (OEE, complete time)"
        },
        "xaxis": {
         "autorange": true,
         "range": [
          "2018-07-13 23:58:53.001",
          "2018-07-14 00:18:40.999"
         ],
         "rangeselector": {
          "buttons": [
           {
            "count": 7,
            "label": "1w",
            "step": "day",
            "stepmode": "backward"
           },
           {
            "count": 1,
            "label": "1m",
            "step": "month",
            "stepmode": "backward"
           },
           {
            "count": 6,
            "label": "6m",
            "step": "month",
            "stepmode": "backward"
           },
           {
            "count": 1,
            "label": "YTD",
            "step": "year",
            "stepmode": "todate"
           },
           {
            "count": 1,
            "label": "1y",
            "step": "year",
            "stepmode": "backward"
           },
           {
            "step": "all"
           }
          ]
         },
         "showgrid": true,
         "type": "date",
         "zeroline": false
        },
        "yaxis": {
         "autorange": false,
         "range": [
          -1,
          11
         ],
         "showgrid": false,
         "ticktext": [
          "Machine 10",
          "Machine 9",
          "Machine 8",
          "Machine 7",
          "Machine 6",
          "Machine 5",
          "Machine 4",
          "Machine 3",
          "Machine 2",
          "Machine 1"
         ],
         "tickvals": [
          0,
          1,
          2,
          3,
          4,
          5,
          6,
          7,
          8,
          9
         ],
         "type": "linear",
         "zeroline": false
        }
       }
      },
      "image/png": "[encoded data removed]",
      "text/html": [
       "<div>                            <div id=\"1481689f-0657-44bc-bc78-3c20ea06c747\" class=\"plotly-graph-div\" style=\"height:600px; width:100%;\"></div>            <script type=\"text/javascript\">                require([\"plotly\"], function(Plotly) {                    window.PLOTLYENV=window.PLOTLYENV || {};                                    if (document.getElementById(\"1481689f-0657-44bc-bc78-3c20ea06c747\")) {                    Plotly.newPlot(                        \"1481689f-0657-44bc-bc78-3c20ea06c747\",                        [{\"fill\":\"toself\",\"fillcolor\":\"rgb(127, 127, 127)\",\"hoverinfo\":\"name\",\"legendgroup\":\"rgb(127, 127, 127)\",\"mode\":\"none\",\"name\":\"Job 7\",\"showlegend\":true,\"x\":[\"2018-07-14 0:02:07\",\"2018-07-14 0:02:44\",\"2018-07-14 0:02:44\",\"2018-07-14 0:02:07\",\"2018-07-14 0:02:07\",\"2018-07-14 0:01:21\",\"2018-07-14 0:02:07\",\"2018-07-14 0:02:07\",\"2018-07-14 0:01:21\",\"2018-07-14 0:01:21\",\"2018-07-14 0:08:40\",\"2018-07-14 0:08:53\",\"2018-07-14 0:08:53\",\"2018-07-14 0:08:40\",\"2018-07-14 0:08:40\",\"2018-07-14 0:05:19\",\"2018-07-14 0:06:20\",\"2018-07-14 0:06:20\",\"2018-07-14 0:05:19\",\"2018-07-14 0:05:19\",\"2018-07-14 0:16:06\",\"2018-07-14 0:17:01\",\"2018-07-14 0:17:01\",\"2018-07-14 0:16:06\",\"2018-07-14 0:16:06\",\"2018-07-14 0:12:29\",\"2018-07-14 0:12:50\",\"2018-07-14 0:12:50\",\"2018-07-14 0:12:29\",\"2018-07-14 0:12:29\",\"2018-07-14 0:09:31\",\"2018-07-14 0:10:03\",\"2018-07-14 0:10:03\",\"2018-07-14 0:09:31\",\"2018-07-14 0:09:31\",\"2018-07-14 0:15:36\",\"2018-07-14 0:16:06\",\"2018-07-14 0:16:06\",\"2018-07-14 0:15:36\",\"2018-07-14 0:15:36\",\"2018-07-14 0:13:28\",\"2018-07-14 0:14:57\",\"2018-07-14 0:14:57\",\"2018-07-14 0:13:28\",\"2018-07-14 0:13:28\",\"2018-07-14 0:12:50\",\"2018-07-14 0:13:22\",\"2018-07-14 0:13:22\",\"2018-07-14 0:12:50\"],\"y\":[8.8,8.8,9.2,9.2,null,7.8,7.8,8.2,8.2,null,6.8,6.8,7.2,7.2,null,5.8,5.8,6.2,6.2,null,4.8,4.8,5.2,5.2,null,3.8,3.8,4.2,4.2,null,2.8,2.8,3.2,3.2,null,1.8,1.8,2.2,2.2,null,0.8,0.8,1.2,1.2,null,-0.2,-0.2,0.2,0.2],\"type\":\"scatter\"},{\"fill\":\"toself\",\"fillcolor\":\"rgb(140, 86, 75)\",\"hoverinfo\":\"name\",\"legendgroup\":\"rgb(140, 86, 75)\",\"mode\":\"none\",\"name\":\"Job 5\",\"showlegend\":true,\"x\":[\"2018-07-14 0:05:50\",\"2018-07-14 0:05:56\",\"2018-07-14 0:05:56\",\"2018-07-14 0:05:50\",\"2018-07-14 0:05:50\",\"2018-07-14 0:06:47\",\"2018-07-14 0:07:09\",\"2018-07-14 0:07:09\",\"2018-07-14 0:06:47\",\"2018-07-14 0:06:47\",\"2018-07-14 0:03:30\",\"2018-07-14 0:03:44\",\"2018-07-14 0:03:44\",\"2018-07-14 0:03:30\",\"2018-07-14 0:03:30\",\"2018-07-14 0:09:18\",\"2018-07-14 0:09:44\",\"2018-07-14 0:09:44\",\"2018-07-14 0:09:18\",\"2018-07-14 0:09:18\",\"2018-07-14 0:09:44\",\"2018-07-14 0:10:53\",\"2018-07-14 0:10:53\",\"2018-07-14 0:09:44\",\"2018-07-14 0:09:44\",\"2018-07-14 0:08:17\",\"2018-07-14 0:09:18\",\"2018-07-14 0:09:18\",\"2018-07-14 0:08:17\",\"2018-07-14 0:08:17\",\"2018-07-14 0:15:19\",\"2018-07-14 0:16:12\",\"2018-07-14 0:16:12\",\"2018-07-14 0:15:19\",\"2018-07-14 0:15:19\",\"2018-07-14 0:11:14\",\"2018-07-14 0:12:03\",\"2018-07-14 0:12:03\",\"2018-07-14 0:11:14\",\"2018-07-14 0:11:14\",\"2018-07-14 0:10:53\",\"2018-07-14 0:11:14\",\"2018-07-14 0:11:14\",\"2018-07-14 0:10:53\",\"2018-07-14 0:10:53\",\"2018-07-14 0:13:22\",\"2018-07-14 0:14:34\",\"2018-07-14 0:14:34\",\"2018-07-14 0:13:22\"],\"y\":[8.8,8.8,9.2,9.2,null,7.8,7.8,8.2,8.2,null,6.8,6.8,7.2,7.2,null,5.8,5.8,6.2,6.2,null,4.8,4.8,5.2,5.2,null,3.8,3.8,4.2,4.2,null,2.8,2.8,3.2,3.2,null,1.8,1.8,2.2,2.2,null,0.8,0.8,1.2,1.2,null,-0.2,-0.2,0.2,0.2],\"type\":\"scatter\"},{\"fill\":\"toself\",\"fillcolor\":\"rgb(148, 103, 189)\",\"hoverinfo\":\"name\",\"legendgroup\":\"rgb(148, 103, 189)\",\"mode\":\"none\",\"name\":\"Job 4\",\"showlegend\":true,\"x\":[\"2018-07-14 0:03:13\",\"2018-07-14 0:04:24\",\"2018-07-14 0:04:24\",\"2018-07-14 0:03:13\",\"2018-07-14 0:03:13\",\"2018-07-14 0:00:00\",\"2018-07-14 0:01:21\",\"2018-07-14 0:01:21\",\"2018-07-14 0:00:00\",\"2018-07-14 0:00:00\",\"2018-07-14 0:01:24\",\"2018-07-14 0:02:59\",\"2018-07-14 0:02:59\",\"2018-07-14 0:01:24\",\"2018-07-14 0:01:24\",\"2018-07-14 0:13:21\",\"2018-07-14 0:14:59\",\"2018-07-14 0:14:59\",\"2018-07-14 0:13:21\",\"2018-07-14 0:13:21\",\"2018-07-14 0:04:24\",\"2018-07-14 0:06:03\",\"2018-07-14 0:06:03\",\"2018-07-14 0:04:24\",\"2018-07-14 0:04:24\",\"2018-07-14 0:16:26\",\"2018-07-14 0:17:09\",\"2018-07-14 0:17:09\",\"2018-07-14 0:16:26\",\"2018-07-14 0:16:26\",\"2018-07-14 0:06:03\",\"2018-07-14 0:06:12\",\"2018-07-14 0:06:12\",\"2018-07-14 0:06:03\",\"2018-07-14 0:06:03\",\"2018-07-14 0:07:04\",\"2018-07-14 0:08:29\",\"2018-07-14 0:08:29\",\"2018-07-14 0:07:04\",\"2018-07-14 0:07:04\",\"2018-07-14 0:06:12\",\"2018-07-14 0:07:04\",\"2018-07-14 0:07:04\",\"2018-07-14 0:06:12\",\"2018-07-14 0:06:12\",\"2018-07-14 0:16:04\",\"2018-07-14 0:16:26\",\"2018-07-14 0:16:26\",\"2018-07-14 0:16:04\"],\"y\":[8.8,8.8,9.2,9.2,null,7.8,7.8,8.2,8.2,null,6.8,6.8,7.2,7.2,null,5.8,5.8,6.2,6.2,null,4.8,4.8,5.2,5.2,null,3.8,3.8,4.2,4.2,null,2.8,2.8,3.2,3.2,null,1.8,1.8,2.2,2.2,null,0.8,0.8,1.2,1.2,null,-0.2,-0.2,0.2,0.2],\"type\":\"scatter\"},{\"fill\":\"toself\",\"fillcolor\":\"rgb(188, 189, 34)\",\"hoverinfo\":\"name\",\"legendgroup\":\"rgb(188, 189, 34)\",\"mode\":\"none\",\"name\":\"Job 8\",\"showlegend\":true,\"x\":[\"2018-07-14 0:04:24\",\"2018-07-14 0:05:50\",\"2018-07-14 0:05:50\",\"2018-07-14 0:04:24\",\"2018-07-14 0:04:24\",\"2018-07-14 0:06:01\",\"2018-07-14 0:06:47\",\"2018-07-14 0:06:47\",\"2018-07-14 0:06:01\",\"2018-07-14 0:06:01\",\"2018-07-14 0:02:59\",\"2018-07-14 0:03:30\",\"2018-07-14 0:03:30\",\"2018-07-14 0:02:59\",\"2018-07-14 0:02:59\",\"2018-07-14 0:14:59\",\"2018-07-14 0:16:18\",\"2018-07-14 0:16:18\",\"2018-07-14 0:14:59\",\"2018-07-14 0:14:59\",\"2018-07-14 0:08:17\",\"2018-07-14 0:08:49\",\"2018-07-14 0:08:49\",\"2018-07-14 0:08:17\",\"2018-07-14 0:08:17\",\"2018-07-14 0:07:03\",\"2018-07-14 0:08:17\",\"2018-07-14 0:08:17\",\"2018-07-14 0:07:03\",\"2018-07-14 0:07:03\",\"2018-07-14 0:10:03\",\"2018-07-14 0:11:31\",\"2018-07-14 0:11:31\",\"2018-07-14 0:10:03\",\"2018-07-14 0:10:03\",\"2018-07-14 0:12:38\",\"2018-07-14 0:13:14\",\"2018-07-14 0:13:14\",\"2018-07-14 0:12:38\",\"2018-07-14 0:12:38\",\"2018-07-14 0:11:31\",\"2018-07-14 0:11:50\",\"2018-07-14 0:11:50\",\"2018-07-14 0:11:31\",\"2018-07-14 0:11:31\",\"2018-07-14 0:11:50\",\"2018-07-14 0:12:38\",\"2018-07-14 0:12:38\",\"2018-07-14 0:11:50\"],\"y\":[8.8,8.8,9.2,9.2,null,7.8,7.8,8.2,8.2,null,6.8,6.8,7.2,7.2,null,5.8,5.8,6.2,6.2,null,4.8,4.8,5.2,5.2,null,3.8,3.8,4.2,4.2,null,2.8,2.8,3.2,3.2,null,1.8,1.8,2.2,2.2,null,0.8,0.8,1.2,1.2,null,-0.2,-0.2,0.2,0.2],\"type\":\"scatter\"},{\"fill\":\"toself\",\"fillcolor\":\"rgb(214, 39, 40)\",\"hoverinfo\":\"name\",\"legendgroup\":\"rgb(214, 39, 40)\",\"mode\":\"none\",\"name\":\"Job 3\",\"showlegend\":true,\"x\":[\"2018-07-14 0:08:40\",\"2018-07-14 0:10:05\",\"2018-07-14 0:10:05\",\"2018-07-14 0:08:40\",\"2018-07-14 0:08:40\",\"2018-07-14 0:07:09\",\"2018-07-14 0:08:40\",\"2018-07-14 0:08:40\",\"2018-07-14 0:07:09\",\"2018-07-14 0:07:09\",\"2018-07-14 0:10:44\",\"2018-07-14 0:11:58\",\"2018-07-14 0:11:58\",\"2018-07-14 0:10:44\",\"2018-07-14 0:10:44\",\"2018-07-14 0:10:05\",\"2018-07-14 0:10:44\",\"2018-07-14 0:10:44\",\"2018-07-14 0:10:05\",\"2018-07-14 0:10:05\",\"2018-07-14 0:17:01\",\"2018-07-14 0:17:34\",\"2018-07-14 0:17:34\",\"2018-07-14 0:17:01\",\"2018-07-14 0:17:01\",\"2018-07-14 0:13:28\",\"2018-07-14 0:13:38\",\"2018-07-14 0:13:38\",\"2018-07-14 0:13:28\",\"2018-07-14 0:13:28\",\"2018-07-14 0:13:50\",\"2018-07-14 0:15:19\",\"2018-07-14 0:15:19\",\"2018-07-14 0:13:50\",\"2018-07-14 0:13:50\",\"2018-07-14 0:13:38\",\"2018-07-14 0:13:50\",\"2018-07-14 0:13:50\",\"2018-07-14 0:13:38\",\"2018-07-14 0:13:38\",\"2018-07-14 0:11:58\",\"2018-07-14 0:13:28\",\"2018-07-14 0:13:28\",\"2018-07-14 0:11:58\",\"2018-07-14 0:11:58\",\"2018-07-14 0:15:19\",\"2018-07-14 0:16:04\",\"2018-07-14 0:16:04\",\"2018-07-14 0:15:19\"],\"y\":[8.8,8.8,9.2,9.2,null,7.8,7.8,8.2,8.2,null,6.8,6.8,7.2,7.2,null,5.8,5.8,6.2,6.2,null,4.8,4.8,5.2,5.2,null,3.8,3.8,4.2,4.2,null,2.8,2.8,3.2,3.2,null,1.8,1.8,2.2,2.2,null,0.8,0.8,1.2,1.2,null,-0.2,-0.2,0.2,0.2],\"type\":\"scatter\"},{\"fill\":\"toself\",\"fillcolor\":\"rgb(227, 119, 194)\",\"hoverinfo\":\"name\",\"legendgroup\":\"rgb(227, 119, 194)\",\"mode\":\"none\",\"name\":\"Job 6\",\"showlegend\":true,\"x\":[\"2018-07-14 0:10:26\",\"2018-07-14 0:11:13\",\"2018-07-14 0:11:13\",\"2018-07-14 0:10:26\",\"2018-07-14 0:10:26\",\"2018-07-14 0:04:34\",\"2018-07-14 0:04:36\",\"2018-07-14 0:04:36\",\"2018-07-14 0:04:34\",\"2018-07-14 0:04:34\",\"2018-07-14 0:00:00\",\"2018-07-14 0:01:24\",\"2018-07-14 0:01:24\",\"2018-07-14 0:00:00\",\"2018-07-14 0:00:00\",\"2018-07-14 0:06:20\",\"2018-07-14 0:07:55\",\"2018-07-14 0:07:55\",\"2018-07-14 0:06:20\",\"2018-07-14 0:06:20\",\"2018-07-14 0:12:36\",\"2018-07-14 0:12:42\",\"2018-07-14 0:12:42\",\"2018-07-14 0:12:36\",\"2018-07-14 0:12:36\",\"2018-07-14 0:05:23\",\"2018-07-14 0:06:15\",\"2018-07-14 0:06:15\",\"2018-07-14 0:05:23\",\"2018-07-14 0:05:23\",\"2018-07-14 0:11:31\",\"2018-07-14 0:12:36\",\"2018-07-14 0:12:36\",\"2018-07-14 0:11:31\",\"2018-07-14 0:11:31\",\"2018-07-14 0:13:50\",\"2018-07-14 0:14:15\",\"2018-07-14 0:14:15\",\"2018-07-14 0:13:50\",\"2018-07-14 0:13:50\",\"2018-07-14 0:08:26\",\"2018-07-14 0:09:14\",\"2018-07-14 0:09:14\",\"2018-07-14 0:08:26\",\"2018-07-14 0:08:26\",\"2018-07-14 0:09:14\",\"2018-07-14 0:10:26\",\"2018-07-14 0:10:26\",\"2018-07-14 0:09:14\"],\"y\":[8.8,8.8,9.2,9.2,null,7.8,7.8,8.2,8.2,null,6.8,6.8,7.2,7.2,null,5.8,5.8,6.2,6.2,null,4.8,4.8,5.2,5.2,null,3.8,3.8,4.2,4.2,null,2.8,2.8,3.2,3.2,null,1.8,1.8,2.2,2.2,null,0.8,0.8,1.2,1.2,null,-0.2,-0.2,0.2,0.2],\"type\":\"scatter\"},{\"fill\":\"toself\",\"fillcolor\":\"rgb(23, 190, 207)\",\"hoverinfo\":\"name\",\"legendgroup\":\"rgb(23, 190, 207)\",\"mode\":\"none\",\"name\":\"Job 9\",\"showlegend\":true,\"x\":[\"2018-07-14 0:00:43\",\"2018-07-14 0:01:59\",\"2018-07-14 0:01:59\",\"2018-07-14 0:00:43\",\"2018-07-14 0:00:43\",\"2018-07-14 0:02:07\",\"2018-07-14 0:03:16\",\"2018-07-14 0:03:16\",\"2018-07-14 0:02:07\",\"2018-07-14 0:02:07\",\"2018-07-14 0:07:15\",\"2018-07-14 0:08:40\",\"2018-07-14 0:08:40\",\"2018-07-14 0:07:15\",\"2018-07-14 0:07:15\",\"2018-07-14 0:03:16\",\"2018-07-14 0:04:32\",\"2018-07-14 0:04:32\",\"2018-07-14 0:03:16\",\"2018-07-14 0:03:16\",\"2018-07-14 0:12:42\",\"2018-07-14 0:13:08\",\"2018-07-14 0:13:08\",\"2018-07-14 0:12:42\",\"2018-07-14 0:12:42\",\"2018-07-14 0:04:32\",\"2018-07-14 0:05:23\",\"2018-07-14 0:05:23\",\"2018-07-14 0:04:32\",\"2018-07-14 0:04:32\",\"2018-07-14 0:08:51\",\"2018-07-14 0:09:31\",\"2018-07-14 0:09:31\",\"2018-07-14 0:08:51\",\"2018-07-14 0:08:51\",\"2018-07-14 0:09:31\",\"2018-07-14 0:11:00\",\"2018-07-14 0:11:00\",\"2018-07-14 0:09:31\",\"2018-07-14 0:09:31\",\"2018-07-14 0:14:57\",\"2018-07-14 0:16:11\",\"2018-07-14 0:16:11\",\"2018-07-14 0:14:57\",\"2018-07-14 0:14:57\",\"2018-07-14 0:08:40\",\"2018-07-14 0:08:51\",\"2018-07-14 0:08:51\",\"2018-07-14 0:08:40\"],\"y\":[8.8,8.8,9.2,9.2,null,7.8,7.8,8.2,8.2,null,6.8,6.8,7.2,7.2,null,5.8,5.8,6.2,6.2,null,4.8,4.8,5.2,5.2,null,3.8,3.8,4.2,4.2,null,2.8,2.8,3.2,3.2,null,1.8,1.8,2.2,2.2,null,0.8,0.8,1.2,1.2,null,-0.2,-0.2,0.2,0.2],\"type\":\"scatter\"},{\"fill\":\"toself\",\"fillcolor\":\"rgb(255, 127, 14)\",\"hoverinfo\":\"name\",\"legendgroup\":\"rgb(255, 127, 14)\",\"mode\":\"none\",\"name\":\"Job 10\",\"showlegend\":true,\"x\":[\"2018-07-14 0:06:01\",\"2018-07-14 0:06:14\",\"2018-07-14 0:06:14\",\"2018-07-14 0:06:01\",\"2018-07-14 0:06:01\",\"2018-07-14 0:04:36\",\"2018-07-14 0:06:01\",\"2018-07-14 0:06:01\",\"2018-07-14 0:04:36\",\"2018-07-14 0:04:36\",\"2018-07-14 0:06:14\",\"2018-07-14 0:07:15\",\"2018-07-14 0:07:15\",\"2018-07-14 0:06:14\",\"2018-07-14 0:06:14\",\"2018-07-14 0:12:29\",\"2018-07-14 0:13:21\",\"2018-07-14 0:13:21\",\"2018-07-14 0:12:29\",\"2018-07-14 0:12:29\",\"2018-07-14 0:13:21\",\"2018-07-14 0:14:51\",\"2018-07-14 0:14:51\",\"2018-07-14 0:13:21\",\"2018-07-14 0:13:21\",\"2018-07-14 0:11:42\",\"2018-07-14 0:12:29\",\"2018-07-14 0:12:29\",\"2018-07-14 0:11:42\",\"2018-07-14 0:11:42\",\"2018-07-14 0:07:15\",\"2018-07-14 0:07:22\",\"2018-07-14 0:07:22\",\"2018-07-14 0:07:15\",\"2018-07-14 0:07:15\",\"2018-07-14 0:16:06\",\"2018-07-14 0:16:51\",\"2018-07-14 0:16:51\",\"2018-07-14 0:16:06\",\"2018-07-14 0:16:06\",\"2018-07-14 0:07:22\",\"2018-07-14 0:08:26\",\"2018-07-14 0:08:26\",\"2018-07-14 0:07:22\",\"2018-07-14 0:07:22\",\"2018-07-14 0:10:26\",\"2018-07-14 0:11:42\",\"2018-07-14 0:11:42\",\"2018-07-14 0:10:26\"],\"y\":[8.8,8.8,9.2,9.2,null,7.8,7.8,8.2,8.2,null,6.8,6.8,7.2,7.2,null,5.8,5.8,6.2,6.2,null,4.8,4.8,5.2,5.2,null,3.8,3.8,4.2,4.2,null,2.8,2.8,3.2,3.2,null,1.8,1.8,2.2,2.2,null,0.8,0.8,1.2,1.2,null,-0.2,-0.2,0.2,0.2],\"type\":\"scatter\"},{\"fill\":\"toself\",\"fillcolor\":\"rgb(31, 119, 180)\",\"hoverinfo\":\"name\",\"legendgroup\":\"rgb(31, 119, 180)\",\"mode\":\"none\",\"name\":\"Job 1\",\"showlegend\":true,\"x\":[\"2018-07-14 0:02:44\",\"2018-07-14 0:03:13\",\"2018-07-14 0:03:13\",\"2018-07-14 0:02:44\",\"2018-07-14 0:02:44\",\"2018-07-14 0:03:16\",\"2018-07-14 0:04:34\",\"2018-07-14 0:04:34\",\"2018-07-14 0:03:16\",\"2018-07-14 0:03:16\",\"2018-07-14 0:04:34\",\"2018-07-14 0:04:43\",\"2018-07-14 0:04:43\",\"2018-07-14 0:04:34\",\"2018-07-14 0:04:34\",\"2018-07-14 0:04:43\",\"2018-07-14 0:05:19\",\"2018-07-14 0:05:19\",\"2018-07-14 0:04:43\",\"2018-07-14 0:04:43\",\"2018-07-14 0:06:03\",\"2018-07-14 0:06:52\",\"2018-07-14 0:06:52\",\"2018-07-14 0:06:03\",\"2018-07-14 0:06:03\",\"2018-07-14 0:06:52\",\"2018-07-14 0:07:03\",\"2018-07-14 0:07:03\",\"2018-07-14 0:06:52\",\"2018-07-14 0:06:52\",\"2018-07-14 0:07:22\",\"2018-07-14 0:08:24\",\"2018-07-14 0:08:24\",\"2018-07-14 0:07:22\",\"2018-07-14 0:07:22\",\"2018-07-14 0:08:29\",\"2018-07-14 0:09:25\",\"2018-07-14 0:09:25\",\"2018-07-14 0:08:29\",\"2018-07-14 0:08:29\",\"2018-07-14 0:09:25\",\"2018-07-14 0:10:09\",\"2018-07-14 0:10:09\",\"2018-07-14 0:09:25\",\"2018-07-14 0:09:25\",\"2018-07-14 0:14:34\",\"2018-07-14 0:14:55\",\"2018-07-14 0:14:55\",\"2018-07-14 0:14:34\"],\"y\":[8.8,8.8,9.2,9.2,null,7.8,7.8,8.2,8.2,null,6.8,6.8,7.2,7.2,null,5.8,5.8,6.2,6.2,null,4.8,4.8,5.2,5.2,null,3.8,3.8,4.2,4.2,null,2.8,2.8,3.2,3.2,null,1.8,1.8,2.2,2.2,null,0.8,0.8,1.2,1.2,null,-0.2,-0.2,0.2,0.2],\"type\":\"scatter\"},{\"fill\":\"toself\",\"fillcolor\":\"rgb(44, 160, 44)\",\"hoverinfo\":\"name\",\"legendgroup\":\"rgb(44, 160, 44)\",\"mode\":\"none\",\"name\":\"Job 2\",\"showlegend\":true,\"x\":[\"2018-07-14 0:00:00\",\"2018-07-14 0:00:43\",\"2018-07-14 0:00:43\",\"2018-07-14 0:00:00\",\"2018-07-14 0:00:00\",\"2018-07-14 0:11:53\",\"2018-07-14 0:12:21\",\"2018-07-14 0:12:21\",\"2018-07-14 0:11:53\",\"2018-07-14 0:11:53\",\"2018-07-14 0:04:43\",\"2018-07-14 0:06:13\",\"2018-07-14 0:06:13\",\"2018-07-14 0:04:43\",\"2018-07-14 0:04:43\",\"2018-07-14 0:10:44\",\"2018-07-14 0:11:53\",\"2018-07-14 0:11:53\",\"2018-07-14 0:10:44\",\"2018-07-14 0:10:44\",\"2018-07-14 0:06:52\",\"2018-07-14 0:08:07\",\"2018-07-14 0:08:07\",\"2018-07-14 0:06:52\",\"2018-07-14 0:06:52\",\"2018-07-14 0:13:38\",\"2018-07-14 0:14:24\",\"2018-07-14 0:14:24\",\"2018-07-14 0:13:38\",\"2018-07-14 0:13:38\",\"2018-07-14 0:12:36\",\"2018-07-14 0:13:22\",\"2018-07-14 0:13:22\",\"2018-07-14 0:12:36\",\"2018-07-14 0:12:36\",\"2018-07-14 0:14:24\",\"2018-07-14 0:15:36\",\"2018-07-14 0:15:36\",\"2018-07-14 0:14:24\",\"2018-07-14 0:14:24\",\"2018-07-14 0:16:11\",\"2018-07-14 0:16:41\",\"2018-07-14 0:16:41\",\"2018-07-14 0:16:11\",\"2018-07-14 0:16:11\",\"2018-07-14 0:08:51\",\"2018-07-14 0:09:02\",\"2018-07-14 0:09:02\",\"2018-07-14 0:08:51\"],\"y\":[8.8,8.8,9.2,9.2,null,7.8,7.8,8.2,8.2,null,6.8,6.8,7.2,7.2,null,5.8,5.8,6.2,6.2,null,4.8,4.8,5.2,5.2,null,3.8,3.8,4.2,4.2,null,2.8,2.8,3.2,3.2,null,1.8,1.8,2.2,2.2,null,0.8,0.8,1.2,1.2,null,-0.2,-0.2,0.2,0.2],\"type\":\"scatter\"},{\"legendgroup\":\"rgb(127, 127, 127)\",\"marker\":{\"color\":\"rgb(127, 127, 127)\",\"opacity\":0,\"size\":1},\"mode\":\"markers\",\"name\":\"\",\"showlegend\":false,\"text\":[null,null,null,null,null,null,null,null,null,null,null,null,null,null,null,null,null,null,null,null],\"x\":[\"2018-07-14 0:02:07\",\"2018-07-14 0:02:44\",\"2018-07-14 0:01:21\",\"2018-07-14 0:02:07\",\"2018-07-14 0:08:40\",\"2018-07-14 0:08:53\",\"2018-07-14 0:05:19\",\"2018-07-14 0:06:20\",\"2018-07-14 0:16:06\",\"2018-07-14 0:17:01\",\"2018-07-14 0:12:29\",\"2018-07-14 0:12:50\",\"2018-07-14 0:09:31\",\"2018-07-14 0:10:03\",\"2018-07-14 0:15:36\",\"2018-07-14 0:16:06\",\"2018-07-14 0:13:28\",\"2018-07-14 0:14:57\",\"2018-07-14 0:12:50\",\"2018-07-14 0:13:22\"],\"y\":[9,9,8,8,7,7,6,6,5,5,4,4,3,3,2,2,1,1,0,0],\"type\":\"scatter\"},{\"legendgroup\":\"rgb(140, 86, 75)\",\"marker\":{\"color\":\"rgb(140, 86, 75)\",\"opacity\":0,\"size\":1},\"mode\":\"markers\",\"name\":\"\",\"showlegend\":false,\"text\":[null,null,null,null,null,null,null,null,null,null,null,null,null,null,null,null,null,null,null,null],\"x\":[\"2018-07-14 0:05:50\",\"2018-07-14 0:05:56\",\"2018-07-14 0:06:47\",\"2018-07-14 0:07:09\",\"2018-07-14 0:03:30\",\"2018-07-14 0:03:44\",\"2018-07-14 0:09:18\",\"2018-07-14 0:09:44\",\"2018-07-14 0:09:44\",\"2018-07-14 0:10:53\",\"2018-07-14 0:08:17\",\"2018-07-14 0:09:18\",\"2018-07-14 0:15:19\",\"2018-07-14 0:16:12\",\"2018-07-14 0:11:14\",\"2018-07-14 0:12:03\",\"2018-07-14 0:10:53\",\"2018-07-14 0:11:14\",\"2018-07-14 0:13:22\",\"2018-07-14 0:14:34\"],\"y\":[9,9,8,8,7,7,6,6,5,5,4,4,3,3,2,2,1,1,0,0],\"type\":\"scatter\"},{\"legendgroup\":\"rgb(148, 103, 189)\",\"marker\":{\"color\":\"rgb(148, 103, 189)\",\"opacity\":0,\"size\":1},\"mode\":\"markers\",\"name\":\"\",\"showlegend\":false,\"text\":[null,null,null,null,null,null,null,null,null,null,null,null,null,null,null,null,null,null,null,null],\"x\":[\"2018-07-14 0:03:13\",\"2018-07-14 0:04:24\",\"2018-07-14 0:00:00\",\"2018-07-14 0:01:21\",\"2018-07-14 0:01:24\",\"2018-07-14 0:02:59\",\"2018-07-14 0:13:21\",\"2018-07-14 0:14:59\",\"2018-07-14 0:04:24\",\"2018-07-14 0:06:03\",\"2018-07-14 0:16:26\",\"2018-07-14 0:17:09\",\"2018-07-14 0:06:03\",\"2018-07-14 0:06:12\",\"2018-07-14 0:07:04\",\"2018-07-14 0:08:29\",\"2018-07-14 0:06:12\",\"2018-07-14 0:07:04\",\"2018-07-14 0:16:04\",\"2018-07-14 0:16:26\"],\"y\":[9,9,8,8,7,7,6,6,5,5,4,4,3,3,2,2,1,1,0,0],\"type\":\"scatter\"},{\"legendgroup\":\"rgb(188, 189, 34)\",\"marker\":{\"color\":\"rgb(188, 189, 34)\",\"opacity\":0,\"size\":1},\"mode\":\"markers\",\"name\":\"\",\"showlegend\":false,\"text\":[null,null,null,null,null,null,null,null,null,null,null,null,null,null,null,null,null,null,null,null],\"x\":[\"2018-07-14 0:04:24\",\"2018-07-14 0:05:50\",\"2018-07-14 0:06:01\",\"2018-07-14 0:06:47\",\"2018-07-14 0:02:59\",\"2018-07-14 0:03:30\",\"2018-07-14 0:14:59\",\"2018-07-14 0:16:18\",\"2018-07-14 0:08:17\",\"2018-07-14 0:08:49\",\"2018-07-14 0:07:03\",\"2018-07-14 0:08:17\",\"2018-07-14 0:10:03\",\"2018-07-14 0:11:31\",\"2018-07-14 0:12:38\",\"2018-07-14 0:13:14\",\"2018-07-14 0:11:31\",\"2018-07-14 0:11:50\",\"2018-07-14 0:11:50\",\"2018-07-14 0:12:38\"],\"y\":[9,9,8,8,7,7,6,6,5,5,4,4,3,3,2,2,1,1,0,0],\"type\":\"scatter\"},{\"legendgroup\":\"rgb(214, 39, 40)\",\"marker\":{\"color\":\"rgb(214, 39, 40)\",\"opacity\":0,\"size\":1},\"mode\":\"markers\",\"name\":\"\",\"showlegend\":false,\"text\":[null,null,null,null,null,null,null,null,null,null,null,null,null,null,null,null,null,null,null,null],\"x\":[\"2018-07-14 0:08:40\",\"2018-07-14 0:10:05\",\"2018-07-14 0:07:09\",\"2018-07-14 0:08:40\",\"2018-07-14 0:10:44\",\"2018-07-14 0:11:58\",\"2018-07-14 0:10:05\",\"2018-07-14 0:10:44\",\"2018-07-14 0:17:01\",\"2018-07-14 0:17:34\",\"2018-07-14 0:13:28\",\"2018-07-14 0:13:38\",\"2018-07-14 0:13:50\",\"2018-07-14 0:15:19\",\"2018-07-14 0:13:38\",\"2018-07-14 0:13:50\",\"2018-07-14 0:11:58\",\"2018-07-14 0:13:28\",\"2018-07-14 0:15:19\",\"2018-07-14 0:16:04\"],\"y\":[9,9,8,8,7,7,6,6,5,5,4,4,3,3,2,2,1,1,0,0],\"type\":\"scatter\"},{\"legendgroup\":\"rgb(227, 119, 194)\",\"marker\":{\"color\":\"rgb(227, 119, 194)\",\"opacity\":0,\"size\":1},\"mode\":\"markers\",\"name\":\"\",\"showlegend\":false,\"text\":[null,null,null,null,null,null,null,null,null,null,null,null,null,null,null,null,null,null,null,null],\"x\":[\"2018-07-14 0:10:26\",\"2018-07-14 0:11:13\",\"2018-07-14 0:04:34\",\"2018-07-14 0:04:36\",\"2018-07-14 0:00:00\",\"2018-07-14 0:01:24\",\"2018-07-14 0:06:20\",\"2018-07-14 0:07:55\",\"2018-07-14 0:12:36\",\"2018-07-14 0:12:42\",\"2018-07-14 0:05:23\",\"2018-07-14 0:06:15\",\"2018-07-14 0:11:31\",\"2018-07-14 0:12:36\",\"2018-07-14 0:13:50\",\"2018-07-14 0:14:15\",\"2018-07-14 0:08:26\",\"2018-07-14 0:09:14\",\"2018-07-14 0:09:14\",\"2018-07-14 0:10:26\"],\"y\":[9,9,8,8,7,7,6,6,5,5,4,4,3,3,2,2,1,1,0,0],\"type\":\"scatter\"},{\"legendgroup\":\"rgb(23, 190, 207)\",\"marker\":{\"color\":\"rgb(23, 190, 207)\",\"opacity\":0,\"size\":1},\"mode\":\"markers\",\"name\":\"\",\"showlegend\":false,\"text\":[null,null,null,null,null,null,null,null,null,null,null,null,null,null,null,null,null,null,null,null],\"x\":[\"2018-07-14 0:00:43\",\"2018-07-14 0:01:59\",\"2018-07-14 0:02:07\",\"2018-07-14 0:03:16\",\"2018-07-14 0:07:15\",\"2018-07-14 0:08:40\",\"2018-07-14 0:03:16\",\"2018-07-14 0:04:32\",\"2018-07-14 0:12:42\",\"2018-07-14 0:13:08\",\"2018-07-14 0:04:32\",\"2018-07-14 0:05:23\",\"2018-07-14 0:08:51\",\"2018-07-14 0:09:31\",\"2018-07-14 0:09:31\",\"2018-07-14 0:11:00\",\"2018-07-14 0:14:57\",\"2018-07-14 0:16:11\",\"2018-07-14 0:08:40\",\"2018-07-14 0:08:51\"],\"y\":[9,9,8,8,7,7,6,6,5,5,4,4,3,3,2,2,1,1,0,0],\"type\":\"scatter\"},{\"legendgroup\":\"rgb(255, 127, 14)\",\"marker\":{\"color\":\"rgb(255, 127, 14)\",\"opacity\":0,\"size\":1},\"mode\":\"markers\",\"name\":\"\",\"showlegend\":false,\"text\":[null,null,null,null,null,null,null,null,null,null,null,null,null,null,null,null,null,null,null,null],\"x\":[\"2018-07-14 0:06:01\",\"2018-07-14 0:06:14\",\"2018-07-14 0:04:36\",\"2018-07-14 0:06:01\",\"2018-07-14 0:06:14\",\"2018-07-14 0:07:15\",\"2018-07-14 0:12:29\",\"2018-07-14 0:13:21\",\"2018-07-14 0:13:21\",\"2018-07-14 0:14:51\",\"2018-07-14 0:11:42\",\"2018-07-14 0:12:29\",\"2018-07-14 0:07:15\",\"2018-07-14 0:07:22\",\"2018-07-14 0:16:06\",\"2018-07-14 0:16:51\",\"2018-07-14 0:07:22\",\"2018-07-14 0:08:26\",\"2018-07-14 0:10:26\",\"2018-07-14 0:11:42\"],\"y\":[9,9,8,8,7,7,6,6,5,5,4,4,3,3,2,2,1,1,0,0],\"type\":\"scatter\"},{\"legendgroup\":\"rgb(31, 119, 180)\",\"marker\":{\"color\":\"rgb(31, 119, 180)\",\"opacity\":0,\"size\":1},\"mode\":\"markers\",\"name\":\"\",\"showlegend\":false,\"text\":[null,null,null,null,null,null,null,null,null,null,null,null,null,null,null,null,null,null,null,null],\"x\":[\"2018-07-14 0:02:44\",\"2018-07-14 0:03:13\",\"2018-07-14 0:03:16\",\"2018-07-14 0:04:34\",\"2018-07-14 0:04:34\",\"2018-07-14 0:04:43\",\"2018-07-14 0:04:43\",\"2018-07-14 0:05:19\",\"2018-07-14 0:06:03\",\"2018-07-14 0:06:52\",\"2018-07-14 0:06:52\",\"2018-07-14 0:07:03\",\"2018-07-14 0:07:22\",\"2018-07-14 0:08:24\",\"2018-07-14 0:08:29\",\"2018-07-14 0:09:25\",\"2018-07-14 0:09:25\",\"2018-07-14 0:10:09\",\"2018-07-14 0:14:34\",\"2018-07-14 0:14:55\"],\"y\":[9,9,8,8,7,7,6,6,5,5,4,4,3,3,2,2,1,1,0,0],\"type\":\"scatter\"},{\"legendgroup\":\"rgb(44, 160, 44)\",\"marker\":{\"color\":\"rgb(44, 160, 44)\",\"opacity\":0,\"size\":1},\"mode\":\"markers\",\"name\":\"\",\"showlegend\":false,\"text\":[null,null,null,null,null,null,null,null,null,null,null,null,null,null,null,null,null,null,null,null],\"x\":[\"2018-07-14 0:00:00\",\"2018-07-14 0:00:43\",\"2018-07-14 0:11:53\",\"2018-07-14 0:12:21\",\"2018-07-14 0:04:43\",\"2018-07-14 0:06:13\",\"2018-07-14 0:10:44\",\"2018-07-14 0:11:53\",\"2018-07-14 0:06:52\",\"2018-07-14 0:08:07\",\"2018-07-14 0:13:38\",\"2018-07-14 0:14:24\",\"2018-07-14 0:12:36\",\"2018-07-14 0:13:22\",\"2018-07-14 0:14:24\",\"2018-07-14 0:15:36\",\"2018-07-14 0:16:11\",\"2018-07-14 0:16:41\",\"2018-07-14 0:08:51\",\"2018-07-14 0:09:02\"],\"y\":[9,9,8,8,7,7,6,6,5,5,4,4,3,3,2,2,1,1,0,0],\"type\":\"scatter\"}],                        {\"height\":600,\"hovermode\":\"closest\",\"showlegend\":true,\"title\":{\"text\":\"objective: (OEE, complete time)\"},\"xaxis\":{\"rangeselector\":{\"buttons\":[{\"count\":7,\"label\":\"1w\",\"step\":\"day\",\"stepmode\":\"backward\"},{\"count\":1,\"label\":\"1m\",\"step\":\"month\",\"stepmode\":\"backward\"},{\"count\":6,\"label\":\"6m\",\"step\":\"month\",\"stepmode\":\"backward\"},{\"count\":1,\"label\":\"YTD\",\"step\":\"year\",\"stepmode\":\"todate\"},{\"count\":1,\"label\":\"1y\",\"step\":\"year\",\"stepmode\":\"backward\"},{\"step\":\"all\"}]},\"showgrid\":true,\"type\":\"date\",\"zeroline\":false},\"yaxis\":{\"autorange\":false,\"range\":[-1,11],\"showgrid\":false,\"ticktext\":[\"Machine 10\",\"Machine 9\",\"Machine 8\",\"Machine 7\",\"Machine 6\",\"Machine 5\",\"Machine 4\",\"Machine 3\",\"Machine 2\",\"Machine 1\"],\"tickvals\":[0,1,2,3,4,5,6,7,8,9],\"zeroline\":false},\"template\":{\"data\":{\"histogram2dcontour\":[{\"type\":\"histogram2dcontour\",\"colorbar\":{\"outlinewidth\":0,\"ticks\":\"\"},\"colorscale\":[[0.0,\"#0d0887\"],[0.1111111111111111,\"#46039f\"],[0.2222222222222222,\"#7201a8\"],[0.3333333333333333,\"#9c179e\"],[0.4444444444444444,\"#bd3786\"],[0.5555555555555556,\"#d8576b\"],[0.6666666666666666,\"#ed7953\"],[0.7777777777777778,\"#fb9f3a\"],[0.8888888888888888,\"#fdca26\"],[1.0,\"#f0f921\"]]}],\"choropleth\":[{\"type\":\"choropleth\",\"colorbar\":{\"outlinewidth\":0,\"ticks\":\"\"}}],\"histogram2d\":[{\"type\":\"histogram2d\",\"colorbar\":{\"outlinewidth\":0,\"ticks\":\"\"},\"colorscale\":[[0.0,\"#0d0887\"],[0.1111111111111111,\"#46039f\"],[0.2222222222222222,\"#7201a8\"],[0.3333333333333333,\"#9c179e\"],[0.4444444444444444,\"#bd3786\"],[0.5555555555555556,\"#d8576b\"],[0.6666666666666666,\"#ed7953\"],[0.7777777777777778,\"#fb9f3a\"],[0.8888888888888888,\"#fdca26\"],[1.0,\"#f0f921\"]]}],\"heatmap\":[{\"type\":\"heatmap\",\"colorbar\":{\"outlinewidth\":0,\"ticks\":\"\"},\"colorscale\":[[0.0,\"#0d0887\"],[0.1111111111111111,\"#46039f\"],[0.2222222222222222,\"#7201a8\"],[0.3333333333333333,\"#9c179e\"],[0.4444444444444444,\"#bd3786\"],[0.5555555555555556,\"#d8576b\"],[0.6666666666666666,\"#ed7953\"],[0.7777777777777778,\"#fb9f3a\"],[0.8888888888888888,\"#fdca26\"],[1.0,\"#f0f921\"]]}],\"heatmapgl\":[{\"type\":\"heatmapgl\",\"colorbar\":{\"outlinewidth\":0,\"ticks\":\"\"},\"colorscale\":[[0.0,\"#0d0887\"],[0.1111111111111111,\"#46039f\"],[0.2222222222222222,\"#7201a8\"],[0.3333333333333333,\"#9c179e\"],[0.4444444444444444,\"#bd3786\"],[0.5555555555555556,\"#d8576b\"],[0.6666666666666666,\"#ed7953\"],[0.7777777777777778,\"#fb9f3a\"],[0.8888888888888888,\"#fdca26\"],[1.0,\"#f0f921\"]]}],\"contourcarpet\":[{\"type\":\"contourcarpet\",\"colorbar\":{\"outlinewidth\":0,\"ticks\":\"\"}}],\"contour\":[{\"type\":\"contour\",\"colorbar\":{\"outlinewidth\":0,\"ticks\":\"\"},\"colorscale\":[[0.0,\"#0d0887\"],[0.1111111111111111,\"#46039f\"],[0.2222222222222222,\"#7201a8\"],[0.3333333333333333,\"#9c179e\"],[0.4444444444444444,\"#bd3786\"],[0.5555555555555556,\"#d8576b\"],[0.6666666666666666,\"#ed7953\"],[0.7777777777777778,\"#fb9f3a\"],[0.8888888888888888,\"#fdca26\"],[1.0,\"#f0f921\"]]}],\"surface\":[{\"type\":\"surface\",\"colorbar\":{\"outlinewidth\":0,\"ticks\":\"\"},\"colorscale\":[[0.0,\"#0d0887\"],[0.1111111111111111,\"#46039f\"],[0.2222222222222222,\"#7201a8\"],[0.3333333333333333,\"#9c179e\"],[0.4444444444444444,\"#bd3786\"],[0.5555555555555556,\"#d8576b\"],[0.6666666666666666,\"#ed7953\"],[0.7777777777777778,\"#fb9f3a\"],[0.8888888888888888,\"#fdca26\"],[1.0,\"#f0f921\"]]}],\"mesh3d\":[{\"type\":\"mesh3d\",\"colorbar\":{\"outlinewidth\":0,\"ticks\":\"\"}}],\"scatter\":[{\"fillpattern\":{\"fillmode\":\"overlay\",\"size\":10,\"solidity\":0.2},\"type\":\"scatter\"}],\"parcoords\":[{\"type\":\"parcoords\",\"line\":{\"colorbar\":{\"outlinewidth\":0,\"ticks\":\"\"}}}],\"scatterpolargl\":[{\"type\":\"scatterpolargl\",\"marker\":{\"colorbar\":{\"outlinewidth\":0,\"ticks\":\"\"}}}],\"bar\":[{\"error_x\":{\"color\":\"#2a3f5f\"},\"error_y\":{\"color\":\"#2a3f5f\"},\"marker\":{\"line\":{\"color\":\"#E5ECF6\",\"width\":0.5},\"pattern\":{\"fillmode\":\"overlay\",\"size\":10,\"solidity\":0.2}},\"type\":\"bar\"}],\"scattergeo\":[{\"type\":\"scattergeo\",\"marker\":{\"colorbar\":{\"outlinewidth\":0,\"ticks\":\"\"}}}],\"scatterpolar\":[{\"type\":\"scatterpolar\",\"marker\":{\"colorbar\":{\"outlinewidth\":0,\"ticks\":\"\"}}}],\"histogram\":[{\"marker\":{\"pattern\":{\"fillmode\":\"overlay\",\"size\":10,\"solidity\":0.2}},\"type\":\"histogram\"}],\"scattergl\":[{\"type\":\"scattergl\",\"marker\":{\"colorbar\":{\"outlinewidth\":0,\"ticks\":\"\"}}}],\"scatter3d\":[{\"type\":\"scatter3d\",\"line\":{\"colorbar\":{\"outlinewidth\":0,\"ticks\":\"\"}},\"marker\":{\"colorbar\":{\"outlinewidth\":0,\"ticks\":\"\"}}}],\"scattermapbox\":[{\"type\":\"scattermapbox\",\"marker\":{\"colorbar\":{\"outlinewidth\":0,\"ticks\":\"\"}}}],\"scatterternary\":[{\"type\":\"scatterternary\",\"marker\":{\"colorbar\":{\"outlinewidth\":0,\"ticks\":\"\"}}}],\"scattercarpet\":[{\"type\":\"scattercarpet\",\"marker\":{\"colorbar\":{\"outlinewidth\":0,\"ticks\":\"\"}}}],\"carpet\":[{\"aaxis\":{\"endlinecolor\":\"#2a3f5f\",\"gridcolor\":\"white\",\"linecolor\":\"white\",\"minorgridcolor\":\"white\",\"startlinecolor\":\"#2a3f5f\"},\"baxis\":{\"endlinecolor\":\"#2a3f5f\",\"gridcolor\":\"white\",\"linecolor\":\"white\",\"minorgridcolor\":\"white\",\"startlinecolor\":\"#2a3f5f\"},\"type\":\"carpet\"}],\"table\":[{\"cells\":{\"fill\":{\"color\":\"#EBF0F8\"},\"line\":{\"color\":\"white\"}},\"header\":{\"fill\":{\"color\":\"#C8D4E3\"},\"line\":{\"color\":\"white\"}},\"type\":\"table\"}],\"barpolar\":[{\"marker\":{\"line\":{\"color\":\"#E5ECF6\",\"width\":0.5},\"pattern\":{\"fillmode\":\"overlay\",\"size\":10,\"solidity\":0.2}},\"type\":\"barpolar\"}],\"pie\":[{\"automargin\":true,\"type\":\"pie\"}]},\"layout\":{\"autotypenumbers\":\"strict\",\"colorway\":[\"#636efa\",\"#EF553B\",\"#00cc96\",\"#ab63fa\",\"#FFA15A\",\"#19d3f3\",\"#FF6692\",\"#B6E880\",\"#FF97FF\",\"#FECB52\"],\"font\":{\"color\":\"#2a3f5f\"},\"hovermode\":\"closest\",\"hoverlabel\":{\"align\":\"left\"},\"paper_bgcolor\":\"white\",\"plot_bgcolor\":\"#E5ECF6\",\"polar\":{\"bgcolor\":\"#E5ECF6\",\"angularaxis\":{\"gridcolor\":\"white\",\"linecolor\":\"white\",\"ticks\":\"\"},\"radialaxis\":{\"gridcolor\":\"white\",\"linecolor\":\"white\",\"ticks\":\"\"}},\"ternary\":{\"bgcolor\":\"#E5ECF6\",\"aaxis\":{\"gridcolor\":\"white\",\"linecolor\":\"white\",\"ticks\":\"\"},\"baxis\":{\"gridcolor\":\"white\",\"linecolor\":\"white\",\"ticks\":\"\"},\"caxis\":{\"gridcolor\":\"white\",\"linecolor\":\"white\",\"ticks\":\"\"}},\"coloraxis\":{\"colorbar\":{\"outlinewidth\":0,\"ticks\":\"\"}},\"colorscale\":{\"sequential\":[[0.0,\"#0d0887\"],[0.1111111111111111,\"#46039f\"],[0.2222222222222222,\"#7201a8\"],[0.3333333333333333,\"#9c179e\"],[0.4444444444444444,\"#bd3786\"],[0.5555555555555556,\"#d8576b\"],[0.6666666666666666,\"#ed7953\"],[0.7777777777777778,\"#fb9f3a\"],[0.8888888888888888,\"#fdca26\"],[1.0,\"#f0f921\"]],\"sequentialminus\":[[0.0,\"#0d0887\"],[0.1111111111111111,\"#46039f\"],[0.2222222222222222,\"#7201a8\"],[0.3333333333333333,\"#9c179e\"],[0.4444444444444444,\"#bd3786\"],[0.5555555555555556,\"#d8576b\"],[0.6666666666666666,\"#ed7953\"],[0.7777777777777778,\"#fb9f3a\"],[0.8888888888888888,\"#fdca26\"],[1.0,\"#f0f921\"]],\"diverging\":[[0,\"#8e0152\"],[0.1,\"#c51b7d\"],[0.2,\"#de77ae\"],[0.3,\"#f1b6da\"],[0.4,\"#fde0ef\"],[0.5,\"#f7f7f7\"],[0.6,\"#e6f5d0\"],[0.7,\"#b8e186\"],[0.8,\"#7fbc41\"],[0.9,\"#4d9221\"],[1,\"#276419\"]]},\"xaxis\":{\"gridcolor\":\"white\",\"linecolor\":\"white\",\"ticks\":\"\",\"title\":{\"standoff\":15},\"zerolinecolor\":\"white\",\"automargin\":true,\"zerolinewidth\":2},\"yaxis\":{\"gridcolor\":\"white\",\"linecolor\":\"white\",\"ticks\":\"\",\"title\":{\"standoff\":15},\"zerolinecolor\":\"white\",\"automargin\":true,\"zerolinewidth\":2},\"scene\":{\"xaxis\":{\"backgroundcolor\":\"#E5ECF6\",\"gridcolor\":\"white\",\"linecolor\":\"white\",\"showbackground\":true,\"ticks\":\"\",\"zerolinecolor\":\"white\",\"gridwidth\":2},\"yaxis\":{\"backgroundcolor\":\"#E5ECF6\",\"gridcolor\":\"white\",\"linecolor\":\"white\",\"showbackground\":true,\"ticks\":\"\",\"zerolinecolor\":\"white\",\"gridwidth\":2},\"zaxis\":{\"backgroundcolor\":\"#E5ECF6\",\"gridcolor\":\"white\",\"linecolor\":\"white\",\"showbackground\":true,\"ticks\":\"\",\"zerolinecolor\":\"white\",\"gridwidth\":2}},\"shapedefaults\":{\"line\":{\"color\":\"#2a3f5f\"}},\"annotationdefaults\":{\"arrowcolor\":\"#2a3f5f\",\"arrowhead\":0,\"arrowwidth\":1},\"geo\":{\"bgcolor\":\"white\",\"landcolor\":\"#E5ECF6\",\"subunitcolor\":\"white\",\"showland\":true,\"showlakes\":true,\"lakecolor\":\"white\"},\"title\":{\"x\":0.05},\"mapbox\":{\"style\":\"light\"}}}},                        {\"responsive\": true}                    ).then(function(){\n",
       "                            \n",
       "var gd = document.getElementById('1481689f-0657-44bc-bc78-3c20ea06c747');\n",
       "var x = new MutationObserver(function (mutations, observer) {{\n",
       "        var display = window.getComputedStyle(gd).display;\n",
       "        if (!display || display === 'none') {{\n",
       "            console.log([gd, 'removed!']);\n",
       "            Plotly.purge(gd);\n",
       "            observer.disconnect();\n",
       "        }}\n",
       "}});\n",
       "\n",
       "// Listen for the removal of the full notebook cells\n",
       "var notebookContainer = gd.closest('#notebook-container');\n",
       "if (notebookContainer) {{\n",
       "    x.observe(notebookContainer, {childList: true});\n",
       "}}\n",
       "\n",
       "// Listen for the clearing of the current output cell\n",
       "var outputEl = gd.closest('.output');\n",
       "if (outputEl) {{\n",
       "    x.observe(outputEl, {childList: true});\n",
       "}}\n",
       "\n",
       "                        })                };                });            </script>        </div>"
      ]
     },
     "metadata": {},
     "output_type": "display_data"
    }
   ],
   "source": [
    "fig.update_layout(\n",
    "    title = \"objective: (OEE, complete time)\"\n",
    ")\n",
    "fig.show()"
   ]
  },
  {
   "cell_type": "code",
   "execution_count": null,
   "metadata": {},
   "outputs": [],
   "source": []
  }
 ],
 "metadata": {
  "kernelspec": {
   "display_name": "DNN",
   "language": "python",
   "name": "dnn"
  },
  "language_info": {
   "codemirror_mode": {
    "name": "ipython",
    "version": 3
   },
   "file_extension": ".py",
   "mimetype": "text/x-python",
   "name": "python",
   "nbconvert_exporter": "python",
   "pygments_lexer": "ipython3",
   "version": "3.8.13"
  }
 },
 "nbformat": 4,
 "nbformat_minor": 4
}
